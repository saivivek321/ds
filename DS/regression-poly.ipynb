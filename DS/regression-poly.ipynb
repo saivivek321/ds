{
  "nbformat": 4,
  "nbformat_minor": 0,
  "metadata": {
    "colab": {
      "name": "197231_DSc_4.ipynb",
      "provenance": [],
      "collapsed_sections": []
    },
    "kernelspec": {
      "name": "python3",
      "display_name": "Python 3"
    },
    "language_info": {
      "name": "python"
    }
  },
  "cells": [
    {
      "cell_type": "code",
      "execution_count": null,
      "metadata": {
        "colab": {
          "base_uri": "https://localhost:8080/",
          "height": 380
        },
        "id": "P1UwxsHkzHmq",
        "outputId": "fa36cde6-8cda-43ec-cc20-800dbd1814d4"
      },
      "outputs": [
        {
          "output_type": "stream",
          "name": "stdout",
          "text": [
            "Drive already mounted at /content/drive; to attempt to forcibly remount, call drive.mount(\"/content/drive\", force_remount=True).\n"
          ]
        },
        {
          "output_type": "execute_result",
          "data": {
            "text/html": [
              "\n",
              "  <div id=\"df-67bf1864-41c6-4e11-821d-618894d2f8c1\">\n",
              "    <div class=\"colab-df-container\">\n",
              "      <div>\n",
              "<style scoped>\n",
              "    .dataframe tbody tr th:only-of-type {\n",
              "        vertical-align: middle;\n",
              "    }\n",
              "\n",
              "    .dataframe tbody tr th {\n",
              "        vertical-align: top;\n",
              "    }\n",
              "\n",
              "    .dataframe thead th {\n",
              "        text-align: right;\n",
              "    }\n",
              "</style>\n",
              "<table border=\"1\" class=\"dataframe\">\n",
              "  <thead>\n",
              "    <tr style=\"text-align: right;\">\n",
              "      <th></th>\n",
              "      <th>Position</th>\n",
              "      <th>Level</th>\n",
              "      <th>Salary</th>\n",
              "    </tr>\n",
              "  </thead>\n",
              "  <tbody>\n",
              "    <tr>\n",
              "      <th>0</th>\n",
              "      <td>Business Analyst</td>\n",
              "      <td>1</td>\n",
              "      <td>45000</td>\n",
              "    </tr>\n",
              "    <tr>\n",
              "      <th>1</th>\n",
              "      <td>Junior Consultant</td>\n",
              "      <td>2</td>\n",
              "      <td>50000</td>\n",
              "    </tr>\n",
              "    <tr>\n",
              "      <th>2</th>\n",
              "      <td>Senior Consultant</td>\n",
              "      <td>3</td>\n",
              "      <td>60000</td>\n",
              "    </tr>\n",
              "    <tr>\n",
              "      <th>3</th>\n",
              "      <td>Manager</td>\n",
              "      <td>4</td>\n",
              "      <td>80000</td>\n",
              "    </tr>\n",
              "    <tr>\n",
              "      <th>4</th>\n",
              "      <td>Country Manager</td>\n",
              "      <td>5</td>\n",
              "      <td>110000</td>\n",
              "    </tr>\n",
              "    <tr>\n",
              "      <th>5</th>\n",
              "      <td>Region Manager</td>\n",
              "      <td>6</td>\n",
              "      <td>150000</td>\n",
              "    </tr>\n",
              "    <tr>\n",
              "      <th>6</th>\n",
              "      <td>Partner</td>\n",
              "      <td>7</td>\n",
              "      <td>200000</td>\n",
              "    </tr>\n",
              "    <tr>\n",
              "      <th>7</th>\n",
              "      <td>Senior Partner</td>\n",
              "      <td>8</td>\n",
              "      <td>300000</td>\n",
              "    </tr>\n",
              "    <tr>\n",
              "      <th>8</th>\n",
              "      <td>C-level</td>\n",
              "      <td>9</td>\n",
              "      <td>500000</td>\n",
              "    </tr>\n",
              "    <tr>\n",
              "      <th>9</th>\n",
              "      <td>CEO</td>\n",
              "      <td>10</td>\n",
              "      <td>1000000</td>\n",
              "    </tr>\n",
              "  </tbody>\n",
              "</table>\n",
              "</div>\n",
              "      <button class=\"colab-df-convert\" onclick=\"convertToInteractive('df-67bf1864-41c6-4e11-821d-618894d2f8c1')\"\n",
              "              title=\"Convert this dataframe to an interactive table.\"\n",
              "              style=\"display:none;\">\n",
              "        \n",
              "  <svg xmlns=\"http://www.w3.org/2000/svg\" height=\"24px\"viewBox=\"0 0 24 24\"\n",
              "       width=\"24px\">\n",
              "    <path d=\"M0 0h24v24H0V0z\" fill=\"none\"/>\n",
              "    <path d=\"M18.56 5.44l.94 2.06.94-2.06 2.06-.94-2.06-.94-.94-2.06-.94 2.06-2.06.94zm-11 1L8.5 8.5l.94-2.06 2.06-.94-2.06-.94L8.5 2.5l-.94 2.06-2.06.94zm10 10l.94 2.06.94-2.06 2.06-.94-2.06-.94-.94-2.06-.94 2.06-2.06.94z\"/><path d=\"M17.41 7.96l-1.37-1.37c-.4-.4-.92-.59-1.43-.59-.52 0-1.04.2-1.43.59L10.3 9.45l-7.72 7.72c-.78.78-.78 2.05 0 2.83L4 21.41c.39.39.9.59 1.41.59.51 0 1.02-.2 1.41-.59l7.78-7.78 2.81-2.81c.8-.78.8-2.07 0-2.86zM5.41 20L4 18.59l7.72-7.72 1.47 1.35L5.41 20z\"/>\n",
              "  </svg>\n",
              "      </button>\n",
              "      \n",
              "  <style>\n",
              "    .colab-df-container {\n",
              "      display:flex;\n",
              "      flex-wrap:wrap;\n",
              "      gap: 12px;\n",
              "    }\n",
              "\n",
              "    .colab-df-convert {\n",
              "      background-color: #E8F0FE;\n",
              "      border: none;\n",
              "      border-radius: 50%;\n",
              "      cursor: pointer;\n",
              "      display: none;\n",
              "      fill: #1967D2;\n",
              "      height: 32px;\n",
              "      padding: 0 0 0 0;\n",
              "      width: 32px;\n",
              "    }\n",
              "\n",
              "    .colab-df-convert:hover {\n",
              "      background-color: #E2EBFA;\n",
              "      box-shadow: 0px 1px 2px rgba(60, 64, 67, 0.3), 0px 1px 3px 1px rgba(60, 64, 67, 0.15);\n",
              "      fill: #174EA6;\n",
              "    }\n",
              "\n",
              "    [theme=dark] .colab-df-convert {\n",
              "      background-color: #3B4455;\n",
              "      fill: #D2E3FC;\n",
              "    }\n",
              "\n",
              "    [theme=dark] .colab-df-convert:hover {\n",
              "      background-color: #434B5C;\n",
              "      box-shadow: 0px 1px 3px 1px rgba(0, 0, 0, 0.15);\n",
              "      filter: drop-shadow(0px 1px 2px rgba(0, 0, 0, 0.3));\n",
              "      fill: #FFFFFF;\n",
              "    }\n",
              "  </style>\n",
              "\n",
              "      <script>\n",
              "        const buttonEl =\n",
              "          document.querySelector('#df-67bf1864-41c6-4e11-821d-618894d2f8c1 button.colab-df-convert');\n",
              "        buttonEl.style.display =\n",
              "          google.colab.kernel.accessAllowed ? 'block' : 'none';\n",
              "\n",
              "        async function convertToInteractive(key) {\n",
              "          const element = document.querySelector('#df-67bf1864-41c6-4e11-821d-618894d2f8c1');\n",
              "          const dataTable =\n",
              "            await google.colab.kernel.invokeFunction('convertToInteractive',\n",
              "                                                     [key], {});\n",
              "          if (!dataTable) return;\n",
              "\n",
              "          const docLinkHtml = 'Like what you see? Visit the ' +\n",
              "            '<a target=\"_blank\" href=https://colab.research.google.com/notebooks/data_table.ipynb>data table notebook</a>'\n",
              "            + ' to learn more about interactive tables.';\n",
              "          element.innerHTML = '';\n",
              "          dataTable['output_type'] = 'display_data';\n",
              "          await google.colab.output.renderOutput(dataTable, element);\n",
              "          const docLink = document.createElement('div');\n",
              "          docLink.innerHTML = docLinkHtml;\n",
              "          element.appendChild(docLink);\n",
              "        }\n",
              "      </script>\n",
              "    </div>\n",
              "  </div>\n",
              "  "
            ],
            "text/plain": [
              "            Position  Level   Salary\n",
              "0   Business Analyst      1    45000\n",
              "1  Junior Consultant      2    50000\n",
              "2  Senior Consultant      3    60000\n",
              "3            Manager      4    80000\n",
              "4    Country Manager      5   110000\n",
              "5     Region Manager      6   150000\n",
              "6            Partner      7   200000\n",
              "7     Senior Partner      8   300000\n",
              "8            C-level      9   500000\n",
              "9                CEO     10  1000000"
            ]
          },
          "metadata": {},
          "execution_count": 169
        }
      ],
      "source": [
        "# Assignment 4\n",
        "                                                      # Name - Rajat Goyal\n",
        "                                                      # Roll No. - 197267\n",
        "                                                      # Section - B\n",
        "#Implementing polynomial regression from scratch\n",
        "\n",
        "import pandas as pd\n",
        "import numpy as np\n",
        "\n",
        "\n",
        "# reading csv file\n",
        "df = pd.read_csv(\"Position_Salaries.csv\")\n",
        "df"
      ]
    },
    {
      "cell_type": "code",
      "source": [
        "# Chosing Independent and Dependent Feature\n",
        "# As Salary increases with level increases\n",
        "# Salary - Dependent Feature\n",
        "# Level - Independent Feature\n",
        "\n",
        "X = df['Level'].values\n",
        "Y = df['Salary'].values\n",
        "\n",
        "print(\"Independent Feature :-\\n\",X)\n",
        "print(\"Dependent Feature :-\\n\",Y)"
      ],
      "metadata": {
        "colab": {
          "base_uri": "https://localhost:8080/"
        },
        "id": "yM_C8KFYGNNB",
        "outputId": "a41f48a0-7eb0-40d5-d55d-d196123d807a"
      },
      "execution_count": null,
      "outputs": [
        {
          "output_type": "stream",
          "name": "stdout",
          "text": [
            "Independent Feature :-\n",
            " [ 1  2  3  4  5  6  7  8  9 10]\n",
            "Dependent Feature :-\n",
            " [  45000   50000   60000   80000  110000  150000  200000  300000  500000\n",
            " 1000000]\n"
          ]
        }
      ]
    },
    {
      "cell_type": "code",
      "source": [
        "# Scaling of the dataset [Standardization of the data]\n",
        "# here Scaling of Independent Data will be done\n",
        "# for scaling we need to import StandardScaler()\n",
        "\n",
        "from sklearn.preprocessing import StandardScaler\n",
        "# Scaling\n",
        "scaler = StandardScaler()\n",
        "\n",
        "X = scaler.fit_transform(X)\n",
        "X"
      ],
      "metadata": {
        "colab": {
          "base_uri": "https://localhost:8080/"
        },
        "id": "iOS3vOhaTxP6",
        "outputId": "f6a98386-522b-4cfc-d69c-77edd0dcae0a"
      },
      "execution_count": null,
      "outputs": [
        {
          "output_type": "execute_result",
          "data": {
            "text/plain": [
              "array([[-1.5666989 ],\n",
              "       [-1.21854359],\n",
              "       [-0.87038828],\n",
              "       [-0.52223297],\n",
              "       [-0.17407766],\n",
              "       [ 0.17407766],\n",
              "       [ 0.52223297],\n",
              "       [ 0.87038828],\n",
              "       [ 1.21854359],\n",
              "       [ 1.5666989 ]])"
            ]
          },
          "metadata": {},
          "execution_count": 209
        }
      ]
    },
    {
      "cell_type": "code",
      "source": [
        "# as higher degree can't be 1-D so we need to reshape data\n",
        "# Reshaping the independent feature\n",
        "X = X.reshape(-1,1)\n",
        "print(X)\n",
        "print(Y)"
      ],
      "metadata": {
        "colab": {
          "base_uri": "https://localhost:8080/"
        },
        "id": "FfyD7KVKHXxO",
        "outputId": "534004bd-8fa8-4cc5-a16c-479bc9deca3b"
      },
      "execution_count": null,
      "outputs": [
        {
          "output_type": "stream",
          "name": "stdout",
          "text": [
            "[[-1.5666989 ]\n",
            " [-1.21854359]\n",
            " [-0.87038828]\n",
            " [-0.52223297]\n",
            " [-0.17407766]\n",
            " [ 0.17407766]\n",
            " [ 0.52223297]\n",
            " [ 0.87038828]\n",
            " [ 1.21854359]\n",
            " [ 1.5666989 ]]\n",
            "[  45000   50000   60000   80000  110000  150000  200000  300000  500000\n",
            " 1000000]\n"
          ]
        }
      ]
    },
    {
      "cell_type": "code",
      "source": [
        "# Split a dataset into 80/20 train/test set \n",
        "num_of_rows = (int)(len(X) * 0.8)\n",
        "\n",
        "np.random.shuffle(X) #shuffles data to make it random\n",
        "train_data = values[:num_of_rows] #indexes rows for training data\n",
        "test_data = values[num_of_rows:] #indexes rows for test data\n",
        "\n",
        "X_train = X[:num_of_rows]\n",
        "Y_train = Y[:num_of_rows]\n",
        "X_test =  X[num_of_rows:]\n",
        "Y_test =  Y[num_of_rows:]\n",
        "\n",
        "print(\"Independent Training Feature :-\\n\",X_train)\n",
        "print(\"Independent Testing Feature :-\\n\",X_test)\n",
        "print(\"Dependent Training Feature :-\\n\",Y_train)\n",
        "print(\"Dependent Testing Feature :-\\n\",Y_test)"
      ],
      "metadata": {
        "colab": {
          "base_uri": "https://localhost:8080/"
        },
        "id": "UEKen-mTARZ-",
        "outputId": "d8c5678b-161b-4b76-ba91-7356470cc92e"
      },
      "execution_count": null,
      "outputs": [
        {
          "output_type": "stream",
          "name": "stdout",
          "text": [
            "Independent Training Feature :-\n",
            " [[-0.17407766]\n",
            " [ 0.17407766]\n",
            " [ 0.52223297]\n",
            " [ 1.5666989 ]\n",
            " [-1.5666989 ]\n",
            " [ 0.87038828]\n",
            " [ 1.21854359]\n",
            " [-1.21854359]]\n",
            "Independent Testing Feature :-\n",
            " [[-0.87038828]\n",
            " [-0.52223297]]\n",
            "Dependent Training Feature :-\n",
            " [ 110000  150000  200000 1000000   45000  300000  500000   50000]\n",
            "Dependent Testing Feature :-\n",
            " [60000 80000]\n"
          ]
        }
      ]
    },
    {
      "cell_type": "code",
      "source": [
        "# Plot the dataset( independent variable vs dependent variable)\n",
        "\n",
        "# To plot dataset we will use matplotib library\n",
        "import matplotlib.pyplot as plt\n",
        "\n",
        "# figsize is a tuple of the width and height of the figure in inches\n",
        "plt.figure(figsize = (12,7))\n",
        "\n",
        "# Scatter Plot of Training Dataset\n",
        "plt.scatter(X, Y, color='blue')\n",
        "plt.title('Level vs Salary')\n",
        "plt.ylabel('Salary')\n",
        "plt.xlabel('Level')\n",
        "plt.show()"
      ],
      "metadata": {
        "colab": {
          "base_uri": "https://localhost:8080/",
          "height": 458
        },
        "id": "Xl_T97BiJyTI",
        "outputId": "5c2a5e46-0743-4e53-9086-fa49bc4b7b75"
      },
      "execution_count": null,
      "outputs": [
        {
          "output_type": "display_data",
          "data": {
            "image/png": "[encoded data removed]",
            "text/plain": [
              "<Figure size 864x504 with 1 Axes>"
            ]
          },
          "metadata": {
            "needs_background": "light"
          }
        }
      ]
    },
    {
      "cell_type": "code",
      "source": [
        "# To concatenates polynomials of independent feature to X_train\n",
        "def polynomial_features(features, x):\n",
        "  data = pd.DataFrame(np.zeros((x.shape[0],features)))\n",
        "  for i in range(1,features+1):\n",
        "    data.loc[:,i-1] = (x**i).reshape(-1,1)\n",
        "  X_poly = np.array(data.values.tolist())\n",
        "  return X_poly\n",
        "\n",
        "# Example :- polynomial array of degree 3\n",
        "x3 = polynomial_features(3,X)\n",
        "x3"
      ],
      "metadata": {
        "colab": {
          "base_uri": "https://localhost:8080/"
        },
        "id": "DAMQi2S0KMWt",
        "outputId": "06a0c3fe-6dda-4f10-e135-3acf8064a05d"
      },
      "execution_count": null,
      "outputs": [
        {
          "output_type": "execute_result",
          "data": {
            "text/plain": [
              "array([[-1.5666989 ,  2.45454545, -3.84553367],\n",
              "       [-1.21854359,  1.48484848, -1.80935261],\n",
              "       [-0.87038828,  0.75757576, -0.65938506],\n",
              "       [-0.52223297,  0.27272727, -0.14242717],\n",
              "       [-0.17407766,  0.03030303, -0.00527508],\n",
              "       [ 0.17407766,  0.03030303,  0.00527508],\n",
              "       [ 0.52223297,  0.27272727,  0.14242717],\n",
              "       [ 0.87038828,  0.75757576,  0.65938506],\n",
              "       [ 1.21854359,  1.48484848,  1.80935261],\n",
              "       [ 1.5666989 ,  2.45454545,  3.84553367]])"
            ]
          },
          "metadata": {},
          "execution_count": 213
        }
      ]
    },
    {
      "cell_type": "code",
      "source": [
        "from math import sqrt\n",
        "\n",
        "def predict(row, coefficients):\n",
        "\ty_pred = coefficients[0]\n",
        "\tfor i in range(len(row)):\n",
        "\t\ty_pred += coefficients[i + 1] * row[i]\n",
        "\treturn y_pred\n",
        "\n",
        "def coefficients_sgd(x_train, y_train, alpha, n_epoch):\n",
        "\tcoef = [0.0 for i in range(len(x_train[0])+1)]\n",
        "\tfor epoch in range(n_epoch):\n",
        "\t\tsum_error = 0\n",
        "\t\tfor i in range(len(x_train)):\n",
        "\t\t\ty_pred = predict(x_train[i], coef)\n",
        "\t\t\terror = y_pred - y_train[i]\n",
        "\t\t\tsum_error += error**2\n",
        "\t\t\tcoef[0] = coef[0] - alpha * error\n",
        "\t\t\tfor j in range(len(x_train[i])):\n",
        "\t\t\t\tcoef[j + 1] = coef[j + 1] - alpha * error * x_train[i][j]\n",
        "\treturn coef\n",
        "\n",
        "# To Test the Dataset\n",
        "def test_data(x_test, b):\n",
        "    test_pred = []\n",
        "    for i in range(len(x_test)):\n",
        "        y_pred = predict(x_test[i], b)\n",
        "        test_pred.append(y_pred)\n",
        "    return test_pred\n",
        "\n",
        "# To find Y functio\n",
        "def find_y_function(x, coef):\n",
        "  y_func = list()\n",
        "  for i in range(len(x)):\n",
        "    val = predict(x[i], coef)\n",
        "    y_func.append(val)\n",
        "  return y_func\n",
        "\n",
        "# To calculate Root Square Mean Value\n",
        "def RSME(actual, predict):\n",
        "  error = 0.0\n",
        "  for i in range(len(actual)):\n",
        "    pred_error = actual[i] - predict[i]\n",
        "    error += (pred_error ** 2)\n",
        "  mean_error = error/float(len(actual))\n",
        "  return sqrt(mean_error)"
      ],
      "metadata": {
        "id": "F1k3agAaJAIP"
      },
      "execution_count": null,
      "outputs": []
    },
    {
      "cell_type": "code",
      "source": [
        "import matplotlib.pyplot as plt\n",
        "# Checking for degree 1\n",
        "n_epochs = 10000 # number of iteration\n",
        "alpha = 0.001 # learning rate\n",
        "\n",
        "# Applying Gradient Decent Algorithm\n",
        "X_train, X_test, Y_train, Y_test = train_test_split(X, Y, 0.8)\n",
        "coef = coefficients_sgd(X_train, Y_train, alpha, n_epochs)\n",
        "\n",
        "# printing theta values\n",
        "print(\"Theta :- \",coef)\n",
        "\n",
        "# Testing Dataset\n",
        "test_pred = test_data(X_test, coef)\n",
        "print(\"Predicted testing data :- \", test_pred)\n",
        "\n",
        "# Calculating RSME value\n",
        "rsme = RSME(Y_test, test_pred)\n",
        "print(\"Root Mean Squared Error : \",rsme)\n",
        "\n",
        "y_1 = find_y_function(X, coef)\n",
        "# plot the data\n",
        "plt.scatter(X[:, 0], Y, color = 'blue')\n",
        "plt.plot(X[:, 0], y_1, color = 'green')\n",
        "plt.title('Polynomial Regression (degree = 1)')\n",
        "plt.xlabel('Level')\n",
        "plt.ylabel('Salary')\n",
        "plt.show()"
      ],
      "metadata": {
        "colab": {
          "base_uri": "https://localhost:8080/",
          "height": 347
        },
        "id": "pYl99o_1Jkol",
        "outputId": "29a33ace-74bd-4ced-efe5-6d4d65cab1c5"
      },
      "execution_count": null,
      "outputs": [
        {
          "output_type": "stream",
          "name": "stdout",
          "text": [
            "Theta :-  [243327.854217496, 252451.95183788246]\n",
            "Predicted testing data :-  [-64295.8539041591, 550951.562339151]\n",
            "Root Mean Squared Error :  88486.16819729871\n"
          ]
        },
        {
          "output_type": "display_data",
          "data": {
            "image/png": "[encoded data removed]",
            "text/plain": [
              "<Figure size 432x288 with 1 Axes>"
            ]
          },
          "metadata": {
            "needs_background": "light"
          }
        }
      ]
    },
    {
      "cell_type": "code",
      "source": [
        "# Checking for degree 2\n",
        "n_epochs = 10000 # number of iteration\n",
        "alpha = 0.001 # learning rate\n",
        "\n",
        "# Applying Gradient Decent Algorithm\n",
        "X_poly = polynomial_features(2, X)\n",
        "X_train, X_test, Y_train, Y_test = train_test_split(X_poly, Y, 0.8)\n",
        "coef = coefficients_sgd(X_train, Y_train, alpha, n_epochs)\n",
        "\n",
        "# printing theta values\n",
        "print(\"Theta :- \",np.around(coef, 3))\n",
        "\n",
        "# Testing Dataset\n",
        "test_pred = test_data(X_test, coef)\n",
        "print(\"Predicted testing data :- \", np.around(test_pred, 3))\n",
        "\n",
        "# Calculating RSME value\n",
        "rsme = RSME(Y_test, test_pred)\n",
        "print(\"Root Mean Squared Error : \",rsme)\n",
        "\n",
        "y_2 = find_y_function(X_poly, coef)\n",
        "# plot the data\n",
        "y_reshaped = Y\n",
        "y_reshaped.reshape(len(Y),1)\n",
        "plt.scatter(X[:, 0], y_reshaped, color = 'blue')\n",
        "plt.plot(X[:, 0], y_2, color = 'green')\n",
        "plt.title('Polynomial Regression (degree = 1)')\n",
        "plt.xlabel('Level')\n",
        "plt.ylabel('Salary')\n",
        "plt.show()"
      ],
      "metadata": {
        "colab": {
          "base_uri": "https://localhost:8080/",
          "height": 347
        },
        "id": "Rrh7ABBdRvrc",
        "outputId": "cce677d7-d8a7-4a30-9f07-b33ae2d0217f"
      },
      "execution_count": null,
      "outputs": [
        {
          "output_type": "stream",
          "name": "stdout",
          "text": [
            "Theta :-  [ 58021.728 245142.063 172801.734]\n",
            "Predicted testing data :-  [-24436.647 -22871.794]\n",
            "Root Mean Squared Error :  94106.7300606456\n"
          ]
        },
        {
          "output_type": "display_data",
          "data": {
            "image/png": "[encoded data removed]",
            "text/plain": [
              "<Figure size 432x288 with 1 Axes>"
            ]
          },
          "metadata": {
            "needs_background": "light"
          }
        }
      ]
    },
    {
      "cell_type": "code",
      "source": [
        "# Checking for degree 3\n",
        "n_epochs = 10000 # number of iteration\n",
        "alpha = 0.001 # learning rate\n",
        "\n",
        "# Applying Gradient Decent Algorithm\n",
        "X_poly = polynomial_features(3, X)\n",
        "X_train, X_test, Y_train, Y_test = train_test_split(X_poly, Y, 0.8)\n",
        "coef = coefficients_sgd(X_train, Y_train, alpha, n_epochs)\n",
        "\n",
        "# printing theta values\n",
        "print(\"Theta :- \",np.around(coef, 3))\n",
        "\n",
        "# Testing Dataset\n",
        "test_pred = test_data(X_test, coef)\n",
        "print(\"Predicted testing data :-\", np.around(test_pred, 3))\n",
        "\n",
        "# Calculating RSME value\n",
        "rsme = RSME(Y_test, test_pred)\n",
        "print(\"Root Mean Squared Error :- \",rsme)\n",
        "\n",
        "y_2 = find_y_function(X_poly, coef)\n",
        "# plot the data\n",
        "y_reshaped = Y\n",
        "y_reshaped.reshape(len(Y),1)\n",
        "plt.scatter(X[:, 0], y_reshaped, color = 'blue')\n",
        "plt.plot(X[:, 0], y_2, color = 'green')\n",
        "plt.title('Polynomial Regression (degree = 1)')\n",
        "plt.xlabel('Level')\n",
        "plt.ylabel('Salary')\n",
        "plt.show()"
      ],
      "metadata": {
        "colab": {
          "base_uri": "https://localhost:8080/",
          "height": 347
        },
        "id": "IqWvJORMU3cJ",
        "outputId": "1f00b03d-af1d-46f8-e79a-fb1a54fc38bd"
      },
      "execution_count": null,
      "outputs": [
        {
          "output_type": "stream",
          "name": "stdout",
          "text": [
            "Theta :-  [123961.884 119520.265  73376.836  19181.271]\n",
            "Predicted testing data :- [413261.703 565083.154]\n",
            "Root Mean Squared Error :-  313589.0581200371\n"
          ]
        },
        {
          "output_type": "display_data",
          "data": {
            "image/png": "[encoded data removed]",
            "text/plain": [
              "<Figure size 432x288 with 1 Axes>"
            ]
          },
          "metadata": {
            "needs_background": "light"
          }
        }
      ]
    },
    {
      "cell_type": "code",
      "source": [
        "# Checking for degree 4\n",
        "n_epochs = 10000 # number of iteration\n",
        "alpha = 0.001 # learning rate\n",
        "\n",
        "# Applying Gradient Decent Algorithm\n",
        "X_poly = polynomial_features(4, X)\n",
        "X_train, X_test, Y_train, Y_test = train_test_split(X_poly, Y, 0.8)\n",
        "coef = coefficients_sgd(X_train, Y_train, alpha, n_epochs)\n",
        "\n",
        "# printing theta values\n",
        "print(\"Theta :- \",np.around(coef, 3))\n",
        "\n",
        "# Testing Dataset\n",
        "test_pred = test_data(X_test, coef)\n",
        "print(\"Predicted testing data\", np.around(test_pred, 3))\n",
        "\n",
        "# Calculating RSME value\n",
        "rsme = RSME(Y_test, test_pred)\n",
        "print(\"Root Mean Squared Error :- \",rsme)\n",
        "\n",
        "y_2 = find_y_function(X_poly, coef)\n",
        "# plot the data\n",
        "y_reshaped = Y\n",
        "y_reshaped.reshape(len(Y),1)\n",
        "plt.scatter(X[:, 0], y_reshaped, color = 'blue')\n",
        "plt.plot(X[:, 0], y_2, color = 'green')\n",
        "plt.title('Polynomial Regression (degree = 1)')\n",
        "plt.xlabel('Level')\n",
        "plt.ylabel('Salary')\n",
        "plt.show()"
      ],
      "metadata": {
        "colab": {
          "base_uri": "https://localhost:8080/",
          "height": 347
        },
        "id": "OqLms5xIU_er",
        "outputId": "3c0491b5-5ba9-4aaf-a396-129c8bebcaae"
      },
      "execution_count": null,
      "outputs": [
        {
          "output_type": "stream",
          "name": "stdout",
          "text": [
            "Theta :-  [120016.56   70342.571  52741.218  94925.807  45473.282]\n",
            "Predicted testing data [134402.347 556057.379]\n",
            "Root Mean Squared Error :-  41144.358543124086\n"
          ]
        },
        {
          "output_type": "display_data",
          "data": {
            "image/png": "[encoded data removed]",
            "text/plain": [
              "<Figure size 432x288 with 1 Axes>"
            ]
          },
          "metadata": {
            "needs_background": "light"
          }
        }
      ]
    },
    {
      "cell_type": "code",
      "source": [
        "!wget -nc https://raw.githubusercontent.com/brpy/colab-pdf/master/colab_pdf.py\n",
        "from colab_pdf import colab_pdf\n",
        "colab_pdf('197231_DSc_4.ipynb')"
      ],
      "metadata": {
        "colab": {
          "base_uri": "https://localhost:8080/",
          "height": 590
        },
        "id": "JfxcOgXUW_X4",
        "outputId": "f75c1717-f21c-485e-d334-b73d0ba1f521"
      },
      "execution_count": null,
      "outputs": [
        {
          "output_type": "stream",
          "name": "stdout",
          "text": [
            "--2022-02-07 18:04:52--  https://raw.githubusercontent.com/brpy/colab-pdf/master/colab_pdf.py\n",
            "Resolving raw.githubusercontent.com (raw.githubusercontent.com)... 185.199.110.133, 185.199.111.133, 185.199.109.133, ...\n",
            "Connecting to raw.githubusercontent.com (raw.githubusercontent.com)|185.199.110.133|:443... connected.\n",
            "HTTP request sent, awaiting response... 200 OK\n",
            "Length: 1864 (1.8K) [text/plain]\n",
            "Saving to: ‘colab_pdf.py’\n",
            "\n",
            "\rcolab_pdf.py          0%[                    ]       0  --.-KB/s               \rcolab_pdf.py        100%[===================>]   1.82K  --.-KB/s    in 0s      \n",
            "\n",
            "2022-02-07 18:04:52 (25.0 MB/s) - ‘colab_pdf.py’ saved [1864/1864]\n",
            "\n",
            "\n",
            "WARNING: apt does not have a stable CLI interface. Use with caution in scripts.\n",
            "\n",
            "\n",
            "WARNING: apt does not have a stable CLI interface. Use with caution in scripts.\n",
            "\n",
            "Extracting templates from packages: 100%\n",
            "[NbConvertApp] Converting notebook /content/drive/MyDrive/Colab Notebooks/197231_DSc_4.ipynb to pdf\n",
            "[NbConvertApp] Support files will be in 197231_DSc_4_files/\n",
            "[NbConvertApp] Making directory ./197231_DSc_4_files\n",
            "[NbConvertApp] Making directory ./197231_DSc_4_files\n",
            "[NbConvertApp] Making directory ./197231_DSc_4_files\n",
            "[NbConvertApp] Making directory ./197231_DSc_4_files\n",
            "[NbConvertApp] Making directory ./197231_DSc_4_files\n",
            "[NbConvertApp] Writing 51750 bytes to ./notebook.tex\n",
            "[NbConvertApp] Building PDF\n",
            "[NbConvertApp] Running xelatex 3 times: [u'xelatex', u'./notebook.tex', '-quiet']\n",
            "[NbConvertApp] Running bibtex 1 time: [u'bibtex', u'./notebook']\n",
            "[NbConvertApp] WARNING | bibtex had problems, most likely because there were no citations\n",
            "[NbConvertApp] PDF successfully created\n",
            "[NbConvertApp] Writing 94099 bytes to /content/drive/My Drive/197231_DSc_4.pdf\n"
          ]
        },
        {
          "output_type": "display_data",
          "data": {
            "application/javascript": [
              "\n",
              "    async function download(id, filename, size) {\n",
              "      if (!google.colab.kernel.accessAllowed) {\n",
              "        return;\n",
              "      }\n",
              "      const div = document.createElement('div');\n",
              "      const label = document.createElement('label');\n",
              "      label.textContent = `Downloading \"${filename}\": `;\n",
              "      div.appendChild(label);\n",
              "      const progress = document.createElement('progress');\n",
              "      progress.max = size;\n",
              "      div.appendChild(progress);\n",
              "      document.body.appendChild(div);\n",
              "\n",
              "      const buffers = [];\n",
              "      let downloaded = 0;\n",
              "\n",
              "      const channel = await google.colab.kernel.comms.open(id);\n",
              "      // Send a message to notify the kernel that we're ready.\n",
              "      channel.send({})\n",
              "\n",
              "      for await (const message of channel.messages) {\n",
              "        // Send a message to notify the kernel that we're ready.\n",
              "        channel.send({})\n",
              "        if (message.buffers) {\n",
              "          for (const buffer of message.buffers) {\n",
              "            buffers.push(buffer);\n",
              "            downloaded += buffer.byteLength;\n",
              "            progress.value = downloaded;\n",
              "          }\n",
              "        }\n",
              "      }\n",
              "      const blob = new Blob(buffers, {type: 'application/binary'});\n",
              "      const a = document.createElement('a');\n",
              "      a.href = window.URL.createObjectURL(blob);\n",
              "      a.download = filename;\n",
              "      div.appendChild(a);\n",
              "      a.click();\n",
              "      div.remove();\n",
              "    }\n",
              "  "
            ],
            "text/plain": [
              "<IPython.core.display.Javascript object>"
            ]
          },
          "metadata": {}
        },
        {
          "output_type": "display_data",
          "data": {
            "application/javascript": [
              "download(\"download_03df6eb8-83e0-4a0f-ae2b-049e74c4b650\", \"197231_DSc_4.pdf\", 94099)"
            ],
            "text/plain": [
              "<IPython.core.display.Javascript object>"
            ]
          },
          "metadata": {}
        },
        {
          "output_type": "execute_result",
          "data": {
            "application/vnd.google.colaboratory.intrinsic+json": {
              "type": "string"
            },
            "text/plain": [
              "'File ready to be Downloaded and Saved to Drive'"
            ]
          },
          "metadata": {},
          "execution_count": 253
        }
      ]
    }
  ]
}