{
  "nbformat": 4,
  "nbformat_minor": 0,
  "metadata": {
    "colab": {
      "name": "197267_DSC_Lab_Assignment_2.ipynb",
      "provenance": []
    },
    "kernelspec": {
      "name": "python3",
      "display_name": "Python 3"
    }
  },
  "cells": [
    {
      "cell_type": "code",
      "metadata": {
        "id": "CvgPIbxt8_TD",
        "colab": {
          "base_uri": "https://localhost:8080/"
        },
        "outputId": "3af3b682-0b95-4382-ad2a-1adb788b70ee"
      },
      "source": [
        "#DSC LAB Assignment-2\n",
        "#Question - 1\n",
        "A = []\n",
        "n = int(input(\"Enter the number of elements in list:- \"))\n",
        "print('Enter the elements:- ')\n",
        "for i in range(n):\n",
        "  el = input()\n",
        "  A.append(el)\n",
        "\n",
        "#(1)-a Length of the list\n",
        "print('Length of the List:- ',len(A))\n",
        "\n",
        "#(1)-b Access the last element of the list\n",
        "print('Last element of the list is:- ',A[-1])\n",
        "\n",
        "#(1)-c Add one item to list\n",
        "a = input(\"Enter a element to append in the list\")\n",
        "A.append(a)\n",
        "\n",
        "#(1)-d Extend the list by adding some elements\n",
        "ex = [32,\"new\",67]\n",
        "A.extend(ex)\n",
        "print('Elements in list after appending the elements are:- ')\n",
        "print(A)\n",
        "\n",
        "#(1)-e Add a list as an item in existing list.\n",
        "p = [34,\"inside inside\"]\n",
        "A.append(p)\n",
        "print('Updated list elements are:- ', A)\n",
        "\n",
        "#(1)-f Accessing the elemetns at indexes 1 , 3 and 7\n",
        "print('Element at index 1:- ',A[1]);\n",
        "print('Element at index 3:- ',A[3]);\n",
        "print('Element at index 7:- ',A[7]);\n",
        "\n",
        "#(1)-g Inserting an element at a random index in the list\n",
        "I = int(input(\"Enter the index at which you wanna insert an element:- \"))\n",
        "E = input(\"Enter the element to insert:- \")\n",
        "A.insert(I,E)\n",
        "print('Updated List:- ',A)\n",
        "\n",
        "#(1)-h Replacing the element in list at index\n",
        "I = int(input(\"Enter the index at which you wanna replace the element:- \"))\n",
        "E = input(\"Enter the updated element:- \")\n",
        "A[I] = E\n",
        "print('Updated List:- ',A)\n",
        "\n",
        "#(1)-i Adding duplicates\n",
        "I = int(input(\"Enter the index whose duplicate you wanna add:- \"))\n",
        "A.append(A[I])\n",
        "print('Updated List:- ',A)\n",
        "\n",
        "#(1)-j Remove the element at given index using pop\n",
        "I = int(input(\"Enter the index which you wanna remove from list:- \"))\n",
        "removed_element = A.pop(I)\n",
        "print('Removed Element:', removed_element)\n",
        "print('Updated List:', A)\n",
        "\n",
        "#(1)-k Sorting the elements \n",
        "S = [23,12,65,7,2,1]\n",
        "S.sort()\n",
        "print(\"sorted list in asscending order:- \", S)\n",
        "S.sort(reverse=True)\n",
        "print(\"sorted list in desscending order:- \", S)\n",
        "\n",
        "#(1)-l reverse the list\n",
        "A.reverse()\n",
        "print(\"reversed list is:- \",A)\n",
        "\n",
        "\n"
      ],
      "execution_count": 10,
      "outputs": [
        {
          "output_type": "stream",
          "name": "stdout",
          "text": [
            "Enter the number of elements in list:- 7\n",
            "Enter the elements:- \n",
            "1\n",
            "\"two\"\n",
            "4\n",
            "34.2\n",
            "6555\n",
            "0\n",
            "'a'\n",
            "Length of the List:-  7\n",
            "Last element of the list is:-  'a'\n",
            "Enter a element to append in the list\"new\"\n",
            "Elements in list after appending the elements are:- \n",
            "['1', '\"two\"', '4', '34.2', '6555', '0', \"'a'\", '\"new\"', 32, 'new', 67]\n",
            "Updated list elements are:-  ['1', '\"two\"', '4', '34.2', '6555', '0', \"'a'\", '\"new\"', 32, 'new', 67, [34, 'inside inside']]\n",
            "Element at index 1:-  \"two\"\n",
            "Element at index 3:-  34.2\n",
            "Element at index 7:-  \"new\"\n",
            "Enter the index at which you wanna insert an element:- 4\n",
            "Enter the element to insert:- \"four\"\n",
            "Updated List:-  ['1', '\"two\"', '4', '34.2', '\"four\"', '6555', '0', \"'a'\", '\"new\"', 32, 'new', 67, [34, 'inside inside']]\n",
            "Enter the index at which you wanna replace the element:- 3\n",
            "Enter the updated element:- \"three\"\n",
            "Updated List:-  ['1', '\"two\"', '4', '\"three\"', '\"four\"', '6555', '0', \"'a'\", '\"new\"', 32, 'new', 67, [34, 'inside inside']]\n",
            "Enter the index whose duplicate you wanna add:- 6\n",
            "Updated List:-  ['1', '\"two\"', '4', '\"three\"', '\"four\"', '6555', '0', \"'a'\", '\"new\"', 32, 'new', 67, [34, 'inside inside'], '0']\n",
            "Enter the index which you wanna remove from list:- 3\n",
            "Removed Element: \"three\"\n",
            "Updated List: ['1', '\"two\"', '4', '\"four\"', '6555', '0', \"'a'\", '\"new\"', 32, 'new', 67, [34, 'inside inside'], '0']\n",
            "sorted list in asscending order:-  [1, 2, 7, 12, 23, 65]\n",
            "sorted list in desscending order:-  [65, 23, 12, 7, 2, 1]\n",
            "reversed list is:-  ['0', [34, 'inside inside'], 67, 'new', 32, '\"new\"', \"'a'\", '0', '6555', '\"four\"', '4', '\"two\"', '1']\n"
          ]
        }
      ]
    },
    {
      "cell_type": "code",
      "source": [
        "#Question - 2\n",
        "# Creating the Touple n Elements with different datatypes\n",
        "T = (32,1.89,\"Hi\",3.4,'f',\"Hi\",3.14)\n",
        "print('Touple elements are:- ',T)\n",
        "#implementing count method\n",
        "#count(x) method returns the count of element x in the given touple\n",
        "print('count of element \"Hi\" is :- ',T.count(\"Hi\"))\n",
        "#implementing index method\n",
        "#The index() method returns the index of the specified element in the tuple.\n",
        "print('index of the element 3.14 is:- ',T.index(3.14))\n"
      ],
      "metadata": {
        "colab": {
          "base_uri": "https://localhost:8080/"
        },
        "id": "QpGjzw-dM4sM",
        "outputId": "8ff81dfa-6e71-4d9c-f69e-2ffea286bd36"
      },
      "execution_count": 11,
      "outputs": [
        {
          "output_type": "stream",
          "name": "stdout",
          "text": [
            "Touple elements are:-  (32, 1.89, 'Hi', 3.4, 'f', 'Hi', 3.14)\n",
            "count of element \"Hi\" is :-  2\n",
            "index of the element 3.14 is:-  6\n"
          ]
        }
      ]
    },
    {
      "cell_type": "code",
      "source": [
        "#Question - 3\n",
        "# Creating sets \n",
        "S1 = {10, 'e', \"Hi\",\"Hlo\",'o',11,12}\n",
        "S2 = {11,14,23.12,\"Hi\",543,'e'}\n",
        "#union of sets\n",
        "print(\"Union of given two sets :\", S1 | S2)\n",
        "#Adding the elements in sets\n",
        "S1.add(\"new_in_S1\")\n",
        "S2.add(\"new_in_S2\")\n",
        "#update() in sets\n",
        "S1.update(S2)\n",
        "print(\"Updated elements of S1:- \",S1)\n",
        "print(\"updated elements of S2:- \",S2)\n",
        "#Difference of sets \n",
        "print(\"Difference of given two sets :\", S1 - S2)\n",
        "#Symmetric difference of sets\n",
        "print(\"Symmetric difference of sets :\", S1 ^ S2)\n",
        "\n"
      ],
      "metadata": {
        "colab": {
          "base_uri": "https://localhost:8080/"
        },
        "id": "QWViE8-SUpg2",
        "outputId": "85f4f4d6-5dac-48a4-a6e1-a6263c70df64"
      },
      "execution_count": 12,
      "outputs": [
        {
          "output_type": "stream",
          "name": "stdout",
          "text": [
            "Union of given two sets : {'o', 10, 'Hi', 11, 12, 14, 'Hlo', 23.12, 'e', 543}\n",
            "Updated elements of S1:-  {'o', 'new_in_S1', 'new_in_S2', 'Hi', 10, 11, 12, 14, 'Hlo', 23.12, 'e', 543}\n",
            "updated elements of S2:-  {'new_in_S2', 'Hi', 11, 14, 23.12, 'e', 543}\n",
            "Difference of given two sets : {'o', 'new_in_S1', 10, 12, 'Hlo'}\n",
            "Symmetric difference of sets : {'o', 'new_in_S1', 10, 12, 'Hlo'}\n"
          ]
        }
      ]
    }
  ]
}