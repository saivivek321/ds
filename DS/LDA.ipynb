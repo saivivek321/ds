{
  "nbformat": 4,
  "nbformat_minor": 0,
  "metadata": {
    "colab": {
      "name": "197112_10.ipynb",
      "provenance": [],
      "collapsed_sections": []
    },
    "kernelspec": {
      "name": "python3",
      "display_name": "Python 3"
    },
    "language_info": {
      "name": "python"
    }
  },
  "cells": [
    {
      "cell_type": "markdown",
      "source": [
        "**1. Implement Linear Discriminant Analysis (LDA) from scratch using Python**"
      ],
      "metadata": {
        "id": "87OtageMU7C9"
      }
    },
    {
      "cell_type": "markdown",
      "source": [
        "a. Dataset Iris.csv"
      ],
      "metadata": {
        "id": "_xrX-0PuVunN"
      }
    },
    {
      "cell_type": "code",
      "execution_count": null,
      "metadata": {
        "colab": {
          "base_uri": "https://localhost:8080/"
        },
        "id": "-1HWHq2tU1LL",
        "outputId": "8bcddf42-28dd-4987-84f9-090dfa182759"
      },
      "outputs": [
        {
          "output_type": "stream",
          "name": "stdout",
          "text": [
            "   SepalLengthCm  SepalWidthCm  PetalLengthCm  PetalWidthCm      Species\n",
            "0            5.1           3.5            1.4           0.2  Iris-setosa\n",
            "1            4.9           3.0            1.4           0.2  Iris-setosa\n",
            "2            4.7           3.2            1.3           0.2  Iris-setosa\n",
            "3            4.6           3.1            1.5           0.2  Iris-setosa\n",
            "4            5.0           3.6            1.4           0.2  Iris-setosa\n",
            "['Iris-setosa' 'Iris-versicolor' 'Iris-virginica']\n"
          ]
        }
      ],
      "source": [
        "#importing all the libraries\n",
        "import numpy as np\n",
        "import pandas as pd\n",
        "\n",
        "df=pd.read_csv('Iris.csv')\n",
        "df.drop('Id',axis=1,inplace=True)\n",
        "print(df.head())\n",
        "print(df['Species'].unique())\n",
        "\n",
        "X=df.iloc[:,:-1]\n",
        "Y=df.iloc[:-1]"
      ]
    },
    {
      "cell_type": "markdown",
      "source": [
        "b . Group the training data into its respective classes . [Form a dictionary and save data grouped by classes it belongs to]"
      ],
      "metadata": {
        "id": "bTjI-d9sVxv1"
      }
    },
    {
      "cell_type": "code",
      "source": [
        "dict={}\n",
        "for s,rows in df.groupby(['Species']):  #groups the dataframe based on species has species name and data within it\n",
        "  rows=np.array(rows)\n",
        "  rows=rows[:,:-1]                      #removing species column\n",
        "  dict[s]=rows                          #adds in the dictionary\n",
        "print(dict.keys())                        #data is saved in dictionary\n",
        "#dict['Iris-setosa']"
      ],
      "metadata": {
        "colab": {
          "base_uri": "https://localhost:8080/"
        },
        "id": "-vEhF2cuk1Hy",
        "outputId": "45debb09-a0ea-45d0-ebda-5762d9f0f506"
      },
      "execution_count": null,
      "outputs": [
        {
          "output_type": "stream",
          "name": "stdout",
          "text": [
            "dict_keys(['Iris-setosa', 'Iris-versicolor', 'Iris-virginica'])\n"
          ]
        }
      ]
    },
    {
      "cell_type": "markdown",
      "source": [
        "c. Calculate mean vector of given training data of K-dimensions excluding the target class\n",
        "and calculate class-wise mean vector for the given training data"
      ],
      "metadata": {
        "id": "wRCgsfkXgCaZ"
      }
    },
    {
      "cell_type": "code",
      "source": [
        "feature_means=df.iloc[:,:-1].mean().values\n",
        "class_wise_mean=df.groupby(['Species']).mean().values\n",
        "print(\"feature_means\")\n",
        "\n",
        "print(df.iloc[:,:-1].mean())\n",
        "print(\"class-wise means\")\n",
        "print(df.groupby(['Species']).mean())\n",
        "#print(\"class-wise mean vector : \" ,class_wise_mean)\n",
        "#print(\"feature_means : \",feature_means)"
      ],
      "metadata": {
        "colab": {
          "base_uri": "https://localhost:8080/"
        },
        "id": "pZ0qQIFcVli-",
        "outputId": "c829aa71-811f-4576-c62e-36f95073cc5d"
      },
      "execution_count": null,
      "outputs": [
        {
          "output_type": "stream",
          "name": "stdout",
          "text": [
            "feature_means\n",
            "SepalLengthCm    5.843333\n",
            "SepalWidthCm     3.054000\n",
            "PetalLengthCm    3.758667\n",
            "PetalWidthCm     1.198667\n",
            "dtype: float64\n",
            "class-wise means\n",
            "                 SepalLengthCm  SepalWidthCm  PetalLengthCm  PetalWidthCm\n",
            "Species                                                                  \n",
            "Iris-setosa              5.006         3.418          1.464         0.244\n",
            "Iris-versicolor          5.936         2.770          4.260         1.326\n",
            "Iris-virginica           6.588         2.974          5.552         2.026\n"
          ]
        }
      ]
    },
    {
      "cell_type": "markdown",
      "source": [
        "d. Calculate scatter matrices needed to maximize the difference between means of given\n",
        "classes and minimize the variance of given classes."
      ],
      "metadata": {
        "id": "b_xTjfz2gb08"
      }
    },
    {
      "cell_type": "code",
      "source": [
        "SW=np.zeros((4,4))     #scatter within classes for each class i (x-meani)(x-meani)T\n",
        "i=0\n",
        "for s in dict.keys():\n",
        "  cmv=class_wise_mean[i].reshape(-1,1)    #classwise mean\n",
        "  s1=np.zeros((4,4))                      #initailly all 0s\n",
        "  for x in dict[s]:\n",
        "    x=x.reshape(-1,1)   \n",
        "    s1=s1+np.dot((x-cmv),((x-cmv).T))   #shape featurescount x featurescount\n",
        "  SW=SW+s1\n",
        "  i+=1\n",
        "print(\"Scatter within classes : \")\n",
        "print(SW)"
      ],
      "metadata": {
        "colab": {
          "base_uri": "https://localhost:8080/"
        },
        "id": "UYenuPp3b89I",
        "outputId": "cbf69e2f-a0db-4bc3-8b48-ef82674a7948"
      },
      "execution_count": null,
      "outputs": [
        {
          "output_type": "stream",
          "name": "stdout",
          "text": [
            "Scatter within classes : \n",
            "[[38.95620000000002 13.683 24.614000000000004 5.6556000000000015]\n",
            " [13.683 17.03500000000001 8.12 4.913200000000002]\n",
            " [24.614000000000004 8.12 27.220000000000006 6.2536000000000005]\n",
            " [5.6556000000000015 4.913200000000002 6.2536000000000005\n",
            "  6.175599999999999]]\n"
          ]
        }
      ]
    },
    {
      "cell_type": "code",
      "source": [
        "N=df['Species'].value_counts().values     #number of instances in each class\n",
        "print(N)"
      ],
      "metadata": {
        "colab": {
          "base_uri": "https://localhost:8080/"
        },
        "id": "ARJ7VI61o8eX",
        "outputId": "2f0071ce-edb7-4dcf-c4b9-c5e69dda8e6d"
      },
      "execution_count": null,
      "outputs": [
        {
          "output_type": "stream",
          "name": "stdout",
          "text": [
            "[50 50 50]\n"
          ]
        }
      ]
    },
    {
      "cell_type": "code",
      "source": [
        "SB=np.zeros((4,4))    #scatter between classes for each class i Ni*(meani-mean)(meani-mean)T\n",
        "for i in range(3):    #for each class\n",
        "  cmv=class_wise_mean[i].reshape(-1,1)\n",
        "  fmv=feature_means.reshape(-1,1)\n",
        "  SB+=N[i]*(np.dot((cmv-fmv),(cmv-fmv).T))\n",
        "\n",
        "print(SB)  "
      ],
      "metadata": {
        "colab": {
          "base_uri": "https://localhost:8080/"
        },
        "id": "5x2YvdjtkZLv",
        "outputId": "a8083378-f144-4217-be19-ead834e25803"
      },
      "execution_count": 150,
      "outputs": [
        {
          "output_type": "stream",
          "name": "stdout",
          "text": [
            "[[ 63.21213333 -19.534      165.16466667  71.36306667]\n",
            " [-19.534       10.9776     -56.0552     -22.4924    ]\n",
            " [165.16466667 -56.0552     436.64373333 186.90813333]\n",
            " [ 71.36306667 -22.4924     186.90813333  80.60413333]]\n"
          ]
        }
      ]
    },
    {
      "cell_type": "markdown",
      "source": [
        "e. Calculate eigen values of M and get eigen vector pairs for first n (needed ) dimensions."
      ],
      "metadata": {
        "id": "Pt3iXmOzmS7z"
      }
    },
    {
      "cell_type": "code",
      "source": [
        "SW=SW.astype('float64')                       #should set astypecto float64 to avoid ufunc error\n",
        "eigen_values, eigen_vectors = np.linalg.eig(np.linalg.inv(SW).dot(SB)) #np.linalg.eig Compute the eigenvalues and right eigenvectors of a square array.\n",
        "\n",
        "print(eigen_values)\n",
        "print(eigen_vectors)"
      ],
      "metadata": {
        "colab": {
          "base_uri": "https://localhost:8080/"
        },
        "id": "HcB2XEgKD8P1",
        "outputId": "ac4383dd-553b-4146-d092-04bb383d5e7d"
      },
      "execution_count": 151,
      "outputs": [
        {
          "output_type": "stream",
          "name": "stdout",
          "text": [
            "[ 3.22719578e+01  2.77566864e-01 -1.65208523e-15  1.05677803e-14]\n",
            "[[-0.20490976 -0.00898234 -0.69759457  0.50743391]\n",
            " [-0.38714331 -0.58899857  0.02388885 -0.44455564]\n",
            " [ 0.54648218  0.25428655 -0.03913212 -0.48660978]\n",
            " [ 0.71378517 -0.76703217  0.71502434  0.55506039]]\n"
          ]
        }
      ]
    },
    {
      "cell_type": "markdown",
      "source": [
        "f. Selecting Linear Discriminants for the new features subspace"
      ],
      "metadata": {
        "id": "JhX0rsLaLiJz"
      }
    },
    {
      "cell_type": "markdown",
      "source": [
        "i. Sorting eigen vectors by decreasing eigenvalues"
      ],
      "metadata": {
        "id": "AowwlUatLlaZ"
      }
    },
    {
      "cell_type": "code",
      "source": [
        "print(eigen_values)\n",
        "inc=eigen_values.argsort()\n",
        "print(eigen_values[inc])\n",
        "dec=(-eigen_values).argsort()[:]\n",
        "print(eigen_values[dec])"
      ],
      "metadata": {
        "id": "0yFahVACT7Q0",
        "colab": {
          "base_uri": "https://localhost:8080/"
        },
        "outputId": "f941d1ae-17f0-4da6-8627-1ae9c63bf90f"
      },
      "execution_count": 152,
      "outputs": [
        {
          "output_type": "stream",
          "name": "stdout",
          "text": [
            "[ 3.22719578e+01  2.77566864e-01 -1.65208523e-15  1.05677803e-14]\n",
            "[-1.65208523e-15  1.05677803e-14  2.77566864e-01  3.22719578e+01]\n",
            "[ 3.22719578e+01  2.77566864e-01  1.05677803e-14 -1.65208523e-15]\n"
          ]
        }
      ]
    },
    {
      "cell_type": "code",
      "source": [
        "#sort the eigenvectors in decreasing order of eigen_values\n",
        "\n",
        "#sort the eigenvectors in decreasing order of eigen_values\n",
        "#argsort returns the array of indices which sort array \n",
        "sorted_indices=np.argsort(-eigen_values)      #if we negate the values then we get the descending order sorted indices\n",
        "print(\"BEFORE SORTING:\")\n",
        "print(eigen_values)    \n",
        "sorted_eigenvalues=eigen_values[sorted_indices]  \n",
        "print(\"AFTER SORTING:\") \n",
        "print(sorted_eigenvalues)\n",
        "sorted_eigenvectors=eigen_vectors[:,sorted_indices] #applied to all columns\n",
        "print(\"SORTED EIGEN VECTORS\")\n",
        "print(sorted_eigenvectors)"
      ],
      "metadata": {
        "id": "9NUfMxHATQDv",
        "colab": {
          "base_uri": "https://localhost:8080/"
        },
        "outputId": "4040ed04-3513-4d3d-f240-bd37ff11dba2"
      },
      "execution_count": 153,
      "outputs": [
        {
          "output_type": "stream",
          "name": "stdout",
          "text": [
            "BEFORE SORTING:\n",
            "[ 3.22719578e+01  2.77566864e-01 -1.65208523e-15  1.05677803e-14]\n",
            "AFTER SORTING:\n",
            "[ 3.22719578e+01  2.77566864e-01  1.05677803e-14 -1.65208523e-15]\n",
            "SORTED EIGEN VECTORS\n",
            "[[-0.20490976 -0.00898234  0.50743391 -0.69759457]\n",
            " [-0.38714331 -0.58899857 -0.44455564  0.02388885]\n",
            " [ 0.54648218  0.25428655 -0.48660978 -0.03913212]\n",
            " [ 0.71378517 -0.76703217  0.55506039  0.71502434]]\n"
          ]
        }
      ]
    },
    {
      "cell_type": "markdown",
      "source": [
        "\n",
        "ii. Choosing k eigen vectors with the largest eigenvalues"
      ],
      "metadata": {
        "id": "D_aIzjKiLncg"
      }
    },
    {
      "cell_type": "code",
      "source": [
        "k=2 #lets say 2\n",
        "w_matrix=sorted_eigenvectors[:,0:k] #choosing K eigen vectors\n",
        "\n",
        "#first column in our rearranged Eigen vector-matrix\n",
        "# will be a linear discriminant component that captures the highest variability.\n",
        "\n",
        "print(w_matrix)\n"
      ],
      "metadata": {
        "colab": {
          "base_uri": "https://localhost:8080/"
        },
        "id": "rUfxsKhOsBnV",
        "outputId": "bc6aea49-251f-4030-ba50-04bb5f2422b0"
      },
      "execution_count": 154,
      "outputs": [
        {
          "output_type": "stream",
          "name": "stdout",
          "text": [
            "[[-0.20490976 -0.00898234]\n",
            " [-0.38714331 -0.58899857]\n",
            " [ 0.54648218  0.25428655]\n",
            " [ 0.71378517 -0.76703217]]\n"
          ]
        }
      ]
    },
    {
      "cell_type": "markdown",
      "source": [
        "g. Transforming the samples onto the new subspace."
      ],
      "metadata": {
        "id": "6P-afMi8WjV2"
      }
    },
    {
      "cell_type": "code",
      "source": [
        "X_lda=np.array(X.dot(w_matrix))\n",
        "print(X_lda.shape)  \n",
        "#X_lda is composed of the LDA components, or said yet another way, the new feature space."
      ],
      "metadata": {
        "colab": {
          "base_uri": "https://localhost:8080/"
        },
        "id": "GB1aYS9WWkCH",
        "outputId": "adadd2d5-7e8e-4fbd-aaf4-24b1e9862da3"
      },
      "execution_count": 155,
      "outputs": [
        {
          "output_type": "stream",
          "name": "stdout",
          "text": [
            "(150, 2)\n"
          ]
        }
      ]
    },
    {
      "cell_type": "markdown",
      "source": [
        "**---------------------------------------------------------------------------------------------------------------------------------------------------------------**"
      ],
      "metadata": {
        "id": "NoVtpcSkaLbc"
      }
    },
    {
      "cell_type": "markdown",
      "source": [
        "2. Implement Logistic Regression by using LDA for the following dataset. [ sklearn Library\n",
        "can be used for LDA and Logistic Regression Computation]"
      ],
      "metadata": {
        "id": "fPMqtTmGaLYl"
      }
    },
    {
      "cell_type": "markdown",
      "source": [
        "a. Dataset: Uploaded in Google Classroom"
      ],
      "metadata": {
        "id": "O3TEDkOGaUQD"
      }
    },
    {
      "cell_type": "code",
      "source": [
        "#importing all the libraries\n",
        "import numpy as np\n",
        "import pandas as pd\n",
        "\n",
        "df=pd.read_csv('Wine.csv')\n",
        "#print(df.info())\n",
        "print(df.head())\n",
        "print(\"UNIQUE Customer_Segment values: \", df['Customer_Segment'].unique())"
      ],
      "metadata": {
        "colab": {
          "base_uri": "https://localhost:8080/"
        },
        "id": "0KORV67mcTZw",
        "outputId": "6b0cb040-7358-4758-c7ea-8a64f488c16e"
      },
      "execution_count": 156,
      "outputs": [
        {
          "output_type": "stream",
          "name": "stdout",
          "text": [
            "   Alcohol  Malic_Acid   Ash  Ash_Alcanity  Magnesium  Total_Phenols  \\\n",
            "0    14.23        1.71  2.43          15.6        127           2.80   \n",
            "1    13.20        1.78  2.14          11.2        100           2.65   \n",
            "2    13.16        2.36  2.67          18.6        101           2.80   \n",
            "3    14.37        1.95  2.50          16.8        113           3.85   \n",
            "4    13.24        2.59  2.87          21.0        118           2.80   \n",
            "\n",
            "   Flavanoids  Nonflavanoid_Phenols  Proanthocyanins  Color_Intensity   Hue  \\\n",
            "0        3.06                  0.28             2.29             5.64  1.04   \n",
            "1        2.76                  0.26             1.28             4.38  1.05   \n",
            "2        3.24                  0.30             2.81             5.68  1.03   \n",
            "3        3.49                  0.24             2.18             7.80  0.86   \n",
            "4        2.69                  0.39             1.82             4.32  1.04   \n",
            "\n",
            "   OD280  Proline  Customer_Segment  \n",
            "0   3.92     1065                 1  \n",
            "1   3.40     1050                 1  \n",
            "2   3.17     1185                 1  \n",
            "3   3.45     1480                 1  \n",
            "4   2.93      735                 1  \n",
            "UNIQUE Customer_Segment values:  [1 2 3]\n"
          ]
        }
      ]
    },
    {
      "cell_type": "code",
      "source": [
        "#Storing the target and features\n",
        "X=df.iloc[:,:-1]\n",
        "Y=df.iloc[:,-1]\n",
        "print(X.shape)\n",
        "print(Y.shape)"
      ],
      "metadata": {
        "colab": {
          "base_uri": "https://localhost:8080/"
        },
        "id": "SHK4eoxWftD8",
        "outputId": "5244dc8e-be26-497b-c626-b1566eae97db"
      },
      "execution_count": 157,
      "outputs": [
        {
          "output_type": "stream",
          "name": "stdout",
          "text": [
            "(178, 13)\n",
            "(178,)\n"
          ]
        }
      ]
    },
    {
      "cell_type": "markdown",
      "source": [
        " b. Feature Scaling"
      ],
      "metadata": {
        "id": "--MEW7goaVHg"
      }
    },
    {
      "cell_type": "code",
      "source": [
        "from sklearn.preprocessing import StandardScaler      #Preprocessing, Feature scaling\n",
        "scaler=StandardScaler()\n",
        "X=scaler.fit_transform(X)\n",
        "print(X.shape)"
      ],
      "metadata": {
        "colab": {
          "base_uri": "https://localhost:8080/"
        },
        "id": "_LAOEJy0goNK",
        "outputId": "5584a60b-d2b5-42ef-c203-b2d3b1b868f9"
      },
      "execution_count": 158,
      "outputs": [
        {
          "output_type": "stream",
          "name": "stdout",
          "text": [
            "(178, 13)\n"
          ]
        }
      ]
    },
    {
      "cell_type": "markdown",
      "source": [
        "c. Split the dataset"
      ],
      "metadata": {
        "id": "wp_mFNiTaYFL"
      }
    },
    {
      "cell_type": "code",
      "source": [
        "from sklearn.model_selection import train_test_split  #train_test_split\n",
        "X_train,X_test,Y_train,Y_test=train_test_split(X,Y,test_size=0.2,shuffle=True,random_state=2)\n",
        "\n",
        "print(X_train.shape)\n",
        "print(Y_train.shape)\n",
        "print(X_test.shape)\n",
        "print(Y_test.shape)"
      ],
      "metadata": {
        "colab": {
          "base_uri": "https://localhost:8080/"
        },
        "id": "J-GMuJlfdCaZ",
        "outputId": "aeecdb36-6631-4a77-c47b-409011eb7be1"
      },
      "execution_count": 159,
      "outputs": [
        {
          "output_type": "stream",
          "name": "stdout",
          "text": [
            "(142, 13)\n",
            "(142,)\n",
            "(36, 13)\n",
            "(36,)\n"
          ]
        }
      ]
    },
    {
      "cell_type": "markdown",
      "source": [
        "d. Apply LDA"
      ],
      "metadata": {
        "id": "yF4iZO34aYwa"
      }
    },
    {
      "cell_type": "code",
      "source": [
        "from sklearn.discriminant_analysis import LinearDiscriminantAnalysis as LDA\n",
        "\n",
        "lda=LDA(n_components=1)                           #transformed features or LDA components\n",
        "X_train=lda.fit_transform(X_train,Y_train)\n",
        "X_test=lda.transform(X_test)"
      ],
      "metadata": {
        "id": "LaQqS1TchWHB"
      },
      "execution_count": 160,
      "outputs": []
    },
    {
      "cell_type": "markdown",
      "source": [
        "e. Train the model with Logistic regression"
      ],
      "metadata": {
        "id": "IrdekEfTahqP"
      }
    },
    {
      "cell_type": "code",
      "source": [
        "#Building the logistic Regression Model\n",
        "from sklearn.linear_model import LogisticRegression\n",
        "clf=LogisticRegression()\n",
        "\n",
        "#train the model\n",
        "clf.fit(X_train,Y_train)\n",
        "\n",
        "#making predictions\n",
        "y_pred=clf.predict(X_test)"
      ],
      "metadata": {
        "id": "N8yKg1nsi-iI"
      },
      "execution_count": 161,
      "outputs": []
    },
    {
      "cell_type": "markdown",
      "source": [
        "f. Compute the Confusion matrix"
      ],
      "metadata": {
        "id": "6HGuRG_Bamnd"
      }
    },
    {
      "cell_type": "code",
      "source": [
        "from sklearn.metrics import accuracy_score\n",
        "from sklearn.metrics import confusion_matrix\n",
        "\n",
        "print(\"Confusion Matrix\")\n",
        "print(confusion_matrix(Y_test,y_pred))\n",
        "\n",
        "print(\"Accuracy : \",str(round(accuracy_score(Y_test,y_pred),2)))"
      ],
      "metadata": {
        "colab": {
          "base_uri": "https://localhost:8080/"
        },
        "id": "siWTn2mLaQs6",
        "outputId": "91b75286-296e-4c55-fd4f-5a80e3631413"
      },
      "execution_count": 162,
      "outputs": [
        {
          "output_type": "stream",
          "name": "stdout",
          "text": [
            "Confusion Matrix\n",
            "[[18  0  0]\n",
            " [ 0  9  0]\n",
            " [ 0  1  8]]\n",
            "Accuracy :  0.97\n"
          ]
        }
      ]
    }
  ]
}