{
 "cells": [
  {
   "cell_type": "markdown",
   "metadata": {},
   "source": [
    "# DS Lab Assignment 3\n",
    "\n",
    "# Kadali Sai Vivek\n",
    "# 197139"
   ]
  },
  {
   "cell_type": "markdown",
   "metadata": {
    "id": "FTV-I2ZZQYQx"
   },
   "source": [
    "### 1. Write a python program to print all the prime numbers between 1 to 1000 using loop"
   ]
  },
  {
   "cell_type": "code",
   "execution_count": 5,
   "metadata": {
    "colab": {
     "base_uri": "https://localhost:8080/"
    },
    "id": "ciL6G1uVQNRZ",
    "outputId": "40488d9b-2d5d-43de-a083-d977f160a97f"
   },
   "outputs": [
    {
     "name": "stdout",
     "output_type": "stream",
     "text": [
      "[2, 3, 5, 7, 11, 13, 17, 19, 23, 29, 31, 37, 41, 43, 47, 53, 59, 61, 67, 71, 73, 79, 83, 89, 97, 101, 103, 107, 109, 113, 127, 131, 137, 139, 149, 151, 157, 163, 167, 173, 179, 181, 191, 193, 197, 199, 211, 223, 227, 229, 233, 239, 241, 251, 257, 263, 269, 271, 277, 281, 283, 293, 307, 311, 313, 317, 331, 337, 347, 349, 353, 359, 367, 373, 379, 383, 389, 397, 401, 409, 419, 421, 431, 433, 439, 443, 449, 457, 461, 463, 467, 479, 487, 491, 499, 503, 509, 521, 523, 541, 547, 557, 563, 569, 571, 577, 587, 593, 599, 601, 607, 613, 617, 619, 631, 641, 643, 647, 653, 659, 661, 673, 677, 683, 691, 701, 709, 719, 727, 733, 739, 743, 751, 757, 761, 769, 773, 787, 797, 809, 811, 821, 823, 827, 829, 839, 853, 857, 859, 863, 877, 881, 883, 887, 907, 911, 919, 929, 937, 941, 947, 953, 967, 971, 977, 983, 991, 997]\n"
     ]
    }
   ],
   "source": [
    "primes=[] #storing all primes in a list\n",
    "\n",
    "for i in range(1,1001): #iterate over the numbers between 1 to 1000\n",
    "  if i>1:#As 1 is not a Prime\n",
    "    f=1 #flag to check if loop break in middle\n",
    "    for j in range(2,i): #loop to check each number whether it has any divisor between 2 and that number\n",
    "      if i%j==0 : # if so ,break in middle\n",
    "        f=0\n",
    "        break\n",
    "    if f==1:#if no Divisor then it is a Prime number\n",
    "      primes.append(i)\n",
    "\n",
    "print(primes)\n"
   ]
  },
  {
   "cell_type": "markdown",
   "metadata": {
    "id": "hDr2KkXwTzHk"
   },
   "source": [
    "### 2. Use python programming to implement bubble sort. [define a function to perform the sorting and take the input from the user; for each passes display pass number and the respective sorted array]"
   ]
  },
  {
   "cell_type": "code",
   "execution_count": null,
   "metadata": {
    "colab": {
     "base_uri": "https://localhost:8080/"
    },
    "id": "UrRSj5UpTZ57",
    "outputId": "6db341de-f00f-4bcc-f343-a861b3171825"
   },
   "outputs": [
    {
     "name": "stdout",
     "output_type": "stream",
     "text": [
      "Enter number of elements in the Array :5\n",
      "6\n",
      "7\n",
      "9\n",
      "1\n",
      "0\n",
      "Initial Array : [6, 7, 9, 1, 0]\n",
      "Pass number  1\n",
      "[0, 7, 9, 6, 1]\n",
      "Pass number  2\n",
      "[0, 1, 9, 7, 6]\n",
      "Pass number  3\n",
      "[0, 1, 6, 9, 7]\n",
      "Pass number  4\n",
      "[0, 1, 6, 7, 9]\n",
      "Final sorted Array : [0, 1, 6, 7, 9]\n"
     ]
    }
   ],
   "source": [
    "\n",
    "def bubblesort(arr): #Function to do bubble sort\n",
    "  n=len(arr) #calculating length of array\n",
    "  passno=1   #initializing pass number with 1\n",
    "\n",
    "  for i in range(n-1): #iterate each number in array\n",
    "    print(\"Pass number :\",passno)\n",
    "    for j in range(i+1,n):\n",
    "      if arr[i] > arr[j]: #compair if element i is greater than element j\n",
    "        temp=arr[i]\n",
    "        arr[i]=arr[j]\n",
    "        arr[j]=temp\n",
    "    print(arr)\n",
    "    passno=passno+1\n",
    "  return arr\n",
    "\n",
    "\n",
    "\n",
    "\n",
    "arr=[]\n",
    "n=int(input(\"Enter number of elements in the Array :\"))\n",
    "for i in range(n):\n",
    "  k=int(input())\n",
    "  arr.append(k)\n",
    "\n",
    "print(\"Initial Array :\",arr)\n",
    "bubblesort(arr)\n",
    "print(\"Final sorted Array :\",arr)"
   ]
  },
  {
   "cell_type": "markdown",
   "metadata": {
    "id": "H2DEF5pzgH1N"
   },
   "source": [
    "### 3. Write a python program to compute the sum of two matrices and display the result.(take the input from the user)"
   ]
  },
  {
   "cell_type": "code",
   "execution_count": 12,
   "metadata": {
    "colab": {
     "base_uri": "https://localhost:8080/"
    },
    "id": "aLUuhgVEgL1y",
    "outputId": "ea2df63c-14d4-4b98-c59b-dff6cfcbb277"
   },
   "outputs": [
    {
     "name": "stdout",
     "output_type": "stream",
     "text": [
      "Enter number of Rows:2\n",
      "Enter number of Columns:3\n",
      "Enter Elements of matrix row wise :\n",
      "5\n",
      "5\n",
      "6\n",
      "4\n",
      "1\n",
      "2\n",
      "Enter number of Rows:2\n",
      "Enter number of Columns:3\n",
      "Enter Elements of matrix row wise :\n",
      "7\n",
      "0\n",
      "4\n",
      "5\n",
      "6\n",
      "1\n",
      "Matrix 1 : [[5, 5, 6], [4, 1, 2]]\n",
      "Matrix 2 : [[7, 0, 4], [5, 6, 1]]\n",
      "Addition of 2 matrix is :\n",
      "[[12, 5, 10], [9, 7, 3]]\n"
     ]
    }
   ],
   "source": [
    "def createMatrix():\n",
    "  n=int(input(\"Enter number of Rows:\"))\n",
    "  m=int(input(\"Enter number of Columns:\"))\n",
    "  Matrix=[]\n",
    "  print(\"Enter Elements of matrix row wise :\")\n",
    "  for i in range(n): \n",
    "    tmp=[] #creating a temporary row\n",
    "    for j in range(m):\n",
    "      k=int(input())\n",
    "      tmp.append(k) \n",
    "    Matrix.append(tmp) #Adding the row to matrix\n",
    "\n",
    "  return Matrix\n",
    "\n",
    "\n",
    "matrix1=createMatrix() #Creating Matrix 1 from user\n",
    "matrix2=createMatrix() #Creating Matrix 2 from user\n",
    "\n",
    "print(\"Matrix 1 :\",matrix1)\n",
    "print(\"Matrix 2 :\",matrix2)\n",
    "\n",
    "a=len(matrix1)\n",
    "b=len(matrix1[0])\n",
    "c=len(matrix2)\n",
    "d=len(matrix2[0])\n",
    "\n",
    "if a!=c and b!=d :\n",
    "  print(\"Matrices are not of same size\")\n",
    "else :\n",
    "  for i in range(a):\n",
    "    for j in range(b):\n",
    "      matrix1[i][j]=matrix1[i][j]+matrix2[i][j]\n",
    "      \n",
    "\n",
    "  print(\"Addition of 2 matrix is :\")\n",
    "  print(matrix1)\n",
    "\n",
    "\n"
   ]
  },
  {
   "cell_type": "markdown",
   "metadata": {
    "id": "aspoZ9M-oPcK"
   },
   "source": [
    "### 4. Use python programming to implement the binary search by using the methods[take the input from the user]:\n",
    "\n",
    "## a. Recursive method\n",
    "\n"
   ]
  },
  {
   "cell_type": "code",
   "execution_count": null,
   "metadata": {
    "colab": {
     "base_uri": "https://localhost:8080/"
    },
    "id": "c425dESOoSXV",
    "outputId": "76c4d426-e033-497e-bf6c-22f957efa72c"
   },
   "outputs": [
    {
     "name": "stdout",
     "output_type": "stream",
     "text": [
      "Enter length of the array :6\n",
      "1 \n",
      "2\n",
      "3\n",
      "4\n",
      "5\n",
      "6\n",
      "Enter the value to be searched :2\n",
      "Present at index : 1\n"
     ]
    }
   ],
   "source": [
    "def binarysearch(arr,x): #function for binary serach\n",
    "  l=0\n",
    "  r=len(arr)-1\n",
    "  while(l<=r): #loop till the left pointer crosses the right pointer\n",
    "    m=int(l+(r-l)/2) #find middle element\n",
    "    if(arr[m]==x):\n",
    "      print(\"Present at index :\",m) #if middle element is the one print it and end the funtion\n",
    "      return \n",
    "    elif(arr[m]>x): #if middle element is greater serach left side\n",
    "      r=m-1\n",
    "    else: #if middle element is less serach right side\n",
    "      l=m+1\n",
    "  print(-1)\n",
    "\n",
    "\n",
    "n=int(input(\"Enter length of the array :\"))\n",
    "arr=[]\n",
    "for i in range(n):\n",
    "  k=int(input())\n",
    "  arr.append(k)\n",
    "x=int(input(\"Enter the value to be searched :\")) #value to be searched\n",
    "\n",
    "binarysearch(arr,x) #Apply Binary Serach \n",
    "\n"
   ]
  },
  {
   "cell_type": "markdown",
   "metadata": {
    "id": "hVjl6_iK9iUX"
   },
   "source": [
    "\n",
    "## b. Iterative method"
   ]
  },
  {
   "cell_type": "code",
   "execution_count": 3,
   "metadata": {
    "colab": {
     "background_save": true
    },
    "id": "gQdJFNet9i7A",
    "outputId": "43c6e4c8-ce2d-4441-f3d1-19b16f480c62"
   },
   "outputs": [
    {
     "name": "stdout",
     "output_type": "stream",
     "text": [
      "Enter length of the array :5\n",
      "1 \n",
      "2\n",
      "3\n",
      "4\n",
      "9\n",
      "Enter the value to be searched :4\n",
      "Present at index : 3\n"
     ]
    }
   ],
   "source": [
    "def binarysearch(l,r,arr,x):# Iterative function for binary serach\n",
    "  if(l>r): #Termination condition\n",
    "    print(-1)\n",
    "    return \n",
    "  m=int(l+(r-l)/2)#find middle element\n",
    "  if(arr[m]==x):\n",
    "    print(\"Present at index :\",m)#if middle element is the one print it and end the funtion\n",
    "    return \n",
    "  elif(arr[m]>x):#if middle element is greater serach left side\n",
    "    binarysearch(l,m-1,arr,x)\n",
    "  else:#if middle element is less serach right side\n",
    "    binarysearch(m+1,r,arr,x)\n",
    "\n",
    "n=int(input(\"Enter length of the array :\"))\n",
    "arr=[]\n",
    "for i in range(n):\n",
    "  k=int(input())\n",
    "  arr.append(k)\n",
    "arr.sort()\n",
    "x=int(input(\"Enter the value to be searched :\"))#value to be searched\n",
    "\n",
    "binarysearch(0,len(arr)-1,arr,x)#Apply Binary Serach "
   ]
  },
  {
   "cell_type": "markdown",
   "metadata": {},
   "source": [
    "## 5. Write a python program using NumPy:\n",
    "\n",
    "## a. Create two 1-D arrays of same size with n number of elements and display the index of the arrays where the value of elements in 1st array is more than and equal to its corresponding element in 2nd array."
   ]
  },
  {
   "cell_type": "code",
   "execution_count": 4,
   "metadata": {},
   "outputs": [
    {
     "name": "stdout",
     "output_type": "stream",
     "text": [
      "1\n",
      "2\n",
      "3\n",
      "6\n",
      "8\n",
      "9\n"
     ]
    }
   ],
   "source": [
    "import numpy as np\n",
    "\n",
    "\n",
    "#initializing two 1-D arrays\n",
    "arr1=np.array([2,3,7,9,1,0,4,1,3,7,2])\n",
    "arr2=np.array([4,3,2,1,8,3,1,5,0,6,8])\n",
    "\n",
    "n=len(arr1)\n",
    "\n",
    "for i in range(n):\n",
    "    if arr1[i]>=arr2[i] : # compairing 2 arrays to find whether 1st array element is larger or not\n",
    "        print(i) #print the correspoding index\n",
    "\n",
    "\n"
   ]
  },
  {
   "cell_type": "markdown",
   "metadata": {},
   "source": [
    "## b. Create a 1-D array and perform the following:"
   ]
  },
  {
   "cell_type": "markdown",
   "metadata": {},
   "source": [
    "* ## i. Replace all even numbers in the array with 0"
   ]
  },
  {
   "cell_type": "code",
   "execution_count": 3,
   "metadata": {},
   "outputs": [
    {
     "name": "stdout",
     "output_type": "stream",
     "text": [
      "[5 0 3 1 0 0 0 7 9 0]\n"
     ]
    }
   ],
   "source": [
    "import numpy as np\n",
    "\n",
    "arr=np.array([5,4,3,1,6,8,2,7,9,12]) #array creastion\n",
    "\n",
    "n=len(arr) #finding length of the array\n",
    "for i in range(n):\n",
    "    if arr[i]%2==0 :# if it is a divisor of 2 replace with 0\n",
    "        arr[i]=0 \n",
    "\n",
    "print(arr)"
   ]
  },
  {
   "cell_type": "markdown",
   "metadata": {},
   "source": [
    "* ## ii. Extract the prime numbers from the array\n"
   ]
  },
  {
   "cell_type": "code",
   "execution_count": 9,
   "metadata": {},
   "outputs": [
    {
     "name": "stdout",
     "output_type": "stream",
     "text": [
      "5\n",
      "3\n",
      "2\n",
      "7\n"
     ]
    }
   ],
   "source": [
    "def isprime(n): #function to check if a number is a prime or not\n",
    "    if n==1:\n",
    "        return False\n",
    "    for i in range(2,n-1): #loop to check each number whether it has any divisor between 2 and that number\n",
    "      if n%i==0 : # if so ,break in middle\n",
    "        return False\n",
    "    return True\n",
    "\n",
    "arr=np.array([5,4,3,1,6,8,2,7,9,12])\n",
    "for i in arr: #iterate over the array to find prime\n",
    "    if isprime(i)==True:\n",
    "        print(i)\n"
   ]
  },
  {
   "cell_type": "markdown",
   "metadata": {},
   "source": [
    "* ## iii. Convert the 1D array to a 2D array in 2 rows Input"
   ]
  },
  {
   "cell_type": "code",
   "execution_count": 11,
   "metadata": {},
   "outputs": [
    {
     "name": "stdout",
     "output_type": "stream",
     "text": [
      "[[ 5  4  3  1  6]\n",
      " [ 8  2  7  9 12]]\n"
     ]
    }
   ],
   "source": [
    "arr=np.array([5,4,3,1,6,8,2,7,9,12])\n",
    "\n",
    "new_2darr=np.reshape(arr,(2,5)) #reshaping the array into a 2D array of 2 rows 5 columns\n",
    "print(new_2darr)"
   ]
  },
  {
   "cell_type": "markdown",
   "metadata": {},
   "source": [
    "* ##  iv. Display the array element indices such that array elements are sorted in ascending order [ without the changing the position of elements]\n",
    " "
   ]
  },
  {
   "cell_type": "code",
   "execution_count": 4,
   "metadata": {},
   "outputs": [
    {
     "name": "stdout",
     "output_type": "stream",
     "text": [
      "Original Array : [5 0 3 1 0 0 0 7 9 0]\n",
      "Indexes of the sorted Array : [5 3 2 8 4 7 0 1 9 6]\n",
      "Sorted array if we want : [0, 1, 3, 9, 0, 7, 5, 0, 0, 0]\n"
     ]
    }
   ],
   "source": [
    "arr1=np.array([6,7,2,1,4,0,9,5,3,8])# initilizing an array\n",
    "\n",
    "arr2=np.argsort(arr1) # Returns the indices that would sort an array.\n",
    "\n",
    "print(\"Original Array :\",arr)\n",
    "print(\"Indexes of the sorted Array :\",arr2)\n",
    "\n",
    "#if we place the indexes of arr2 from arr1 and display we get sorted array\n",
    "sortedArray=[]\n",
    "for i in arr2:\n",
    "    sortedArray.append(arr[i])\n",
    "print(\"Sorted array if we want :\",sortedArray)"
   ]
  },
  {
   "cell_type": "markdown",
   "metadata": {},
   "source": [
    "* ## v. Convert a binary NumPy array (holding only 0s and 1s) to a Boolean NumPy array"
   ]
  },
  {
   "cell_type": "code",
   "execution_count": 30,
   "metadata": {},
   "outputs": [
    {
     "name": "stdout",
     "output_type": "stream",
     "text": [
      "Binary Array  : [0 1 1 0 0 0 1 0 1 1 1 0]\n",
      "Boolean Array : [False  True  True False False False  True False  True  True  True False]\n"
     ]
    }
   ],
   "source": [
    "binary_array=np.array([0,1,1,0,0,0,1,0,1,1,1,0])#creating an Binary array\n",
    "\n",
    "print(\"Binary Array  :\",binary_array)\n",
    "\n",
    "boolean_array=np.array(binary_array,dtype=bool) #converting binary array into boolean array\n",
    "\n",
    "print(\"Boolean Array :\",boolean_array)\n"
   ]
  },
  {
   "cell_type": "markdown",
   "metadata": {},
   "source": [
    "* ## vi. Take an input of 10 elements and split the array into 3 arrays, where 1st two arrays should have 2 elements each and the rest of the elements in the last array. Display the arrays. "
   ]
  },
  {
   "cell_type": "code",
   "execution_count": 40,
   "metadata": {},
   "outputs": [
    {
     "name": "stdout",
     "output_type": "stream",
     "text": [
      "Enter 10 elements:\n",
      "5\n",
      "2\n",
      "0\n",
      "8\n",
      "7\n",
      "4\n",
      "1\n",
      "9\n",
      "6\n",
      "3\n",
      "Complete Array : [5 2 0 8 7 4 1 9 6 3]\n",
      "1st Part : [5 2]\n",
      "2nd Part : [0 8]\n",
      "3rd Part : [7 4 1 9 6 3]\n"
     ]
    }
   ],
   "source": [
    "List=[]\n",
    "print(\"Enter 10 elements:\")\n",
    "for i in range(10):\n",
    "    List.append(int(input())) #take input from the user\n",
    "\n",
    "array=np.array(List)\n",
    "\n",
    "print(\"Complete Array :\",array)\n",
    "\n",
    "arr1=array[:2] #diving the first 2 elements\n",
    "arr2=array[2:4] #divinding the next 2 elements\n",
    "arr3=array[4:] #remaining last elements\n",
    "\n",
    "print(\"1st Part :\",arr1)\n",
    "print(\"2nd Part :\",arr2)\n",
    "print(\"3rd Part :\",arr3)"
   ]
  },
  {
   "cell_type": "markdown",
   "metadata": {},
   "source": [
    "## 6. There are 190 students in a class of Data Science Theory. The subject is taught every day ( Monday to Sunday) in a week for an hour. Create and display a series of data as a count of attendance of the total number of students attending the subject every day in a week. [Hint: Use pandas to create the dataset, create the dataset for a week i.e. for all 7 days in a week, for each respective day mention the number of attendees.] Perform the following with the series dataset created."
   ]
  },
  {
   "cell_type": "code",
   "execution_count": 10,
   "metadata": {},
   "outputs": [],
   "source": [
    "import pandas as pa\n",
    "\n",
    "#Data of number of students present on the corresponding day of that week\n",
    "Data = {\n",
    "    \"Day\" : [\"Monday\",\"Tuesday\",\"Wednesday\",\"Thursday\",\"Friday\",\"Saturday\",\"Sunday\"],\n",
    "    \"Number_of_Attendees\":[80,101,75,87,65,55,91]\n",
    "}\n"
   ]
  },
  {
   "cell_type": "markdown",
   "metadata": {},
   "source": [
    "* ## a. Display the dataset"
   ]
  },
  {
   "cell_type": "code",
   "execution_count": 12,
   "metadata": {},
   "outputs": [
    {
     "data": {
      "text/html": [
       "<div>\n",
       "<style scoped>\n",
       "    .dataframe tbody tr th:only-of-type {\n",
       "        vertical-align: middle;\n",
       "    }\n",
       "\n",
       "    .dataframe tbody tr th {\n",
       "        vertical-align: top;\n",
       "    }\n",
       "\n",
       "    .dataframe thead th {\n",
       "        text-align: right;\n",
       "    }\n",
       "</style>\n",
       "<table border=\"1\" class=\"dataframe\">\n",
       "  <thead>\n",
       "    <tr style=\"text-align: right;\">\n",
       "      <th></th>\n",
       "      <th>Day</th>\n",
       "      <th>Number_of_Attendees</th>\n",
       "    </tr>\n",
       "  </thead>\n",
       "  <tbody>\n",
       "    <tr>\n",
       "      <th>0</th>\n",
       "      <td>Monday</td>\n",
       "      <td>80</td>\n",
       "    </tr>\n",
       "    <tr>\n",
       "      <th>1</th>\n",
       "      <td>Tuesday</td>\n",
       "      <td>101</td>\n",
       "    </tr>\n",
       "    <tr>\n",
       "      <th>2</th>\n",
       "      <td>Wednesday</td>\n",
       "      <td>75</td>\n",
       "    </tr>\n",
       "    <tr>\n",
       "      <th>3</th>\n",
       "      <td>Thursday</td>\n",
       "      <td>87</td>\n",
       "    </tr>\n",
       "    <tr>\n",
       "      <th>4</th>\n",
       "      <td>Friday</td>\n",
       "      <td>65</td>\n",
       "    </tr>\n",
       "    <tr>\n",
       "      <th>5</th>\n",
       "      <td>Saturday</td>\n",
       "      <td>55</td>\n",
       "    </tr>\n",
       "    <tr>\n",
       "      <th>6</th>\n",
       "      <td>Sunday</td>\n",
       "      <td>91</td>\n",
       "    </tr>\n",
       "  </tbody>\n",
       "</table>\n",
       "</div>"
      ],
      "text/plain": [
       "         Day  Number_of_Attendees\n",
       "0     Monday                   80\n",
       "1    Tuesday                  101\n",
       "2  Wednesday                   75\n",
       "3   Thursday                   87\n",
       "4     Friday                   65\n",
       "5   Saturday                   55\n",
       "6     Sunday                   91"
      ]
     },
     "execution_count": 12,
     "metadata": {},
     "output_type": "execute_result"
    }
   ],
   "source": [
    "dataset=pa.DataFrame(Data) #converting the dataframe into dataset\n",
    "\n",
    "dataset"
   ]
  },
  {
   "cell_type": "markdown",
   "metadata": {},
   "source": [
    "* ## b. Display the sorted dataset with least number of attendees at first"
   ]
  },
  {
   "cell_type": "code",
   "execution_count": 12,
   "metadata": {},
   "outputs": [
    {
     "data": {
      "text/html": [
       "<div>\n",
       "<style scoped>\n",
       "    .dataframe tbody tr th:only-of-type {\n",
       "        vertical-align: middle;\n",
       "    }\n",
       "\n",
       "    .dataframe tbody tr th {\n",
       "        vertical-align: top;\n",
       "    }\n",
       "\n",
       "    .dataframe thead th {\n",
       "        text-align: right;\n",
       "    }\n",
       "</style>\n",
       "<table border=\"1\" class=\"dataframe\">\n",
       "  <thead>\n",
       "    <tr style=\"text-align: right;\">\n",
       "      <th></th>\n",
       "      <th>Day</th>\n",
       "      <th>Number_of_Attendees</th>\n",
       "    </tr>\n",
       "  </thead>\n",
       "  <tbody>\n",
       "    <tr>\n",
       "      <th>5</th>\n",
       "      <td>Saturday</td>\n",
       "      <td>55</td>\n",
       "    </tr>\n",
       "    <tr>\n",
       "      <th>4</th>\n",
       "      <td>Friday</td>\n",
       "      <td>65</td>\n",
       "    </tr>\n",
       "    <tr>\n",
       "      <th>2</th>\n",
       "      <td>Wednesday</td>\n",
       "      <td>75</td>\n",
       "    </tr>\n",
       "    <tr>\n",
       "      <th>0</th>\n",
       "      <td>Monday</td>\n",
       "      <td>80</td>\n",
       "    </tr>\n",
       "    <tr>\n",
       "      <th>3</th>\n",
       "      <td>Thursday</td>\n",
       "      <td>87</td>\n",
       "    </tr>\n",
       "    <tr>\n",
       "      <th>6</th>\n",
       "      <td>Sunday</td>\n",
       "      <td>91</td>\n",
       "    </tr>\n",
       "    <tr>\n",
       "      <th>1</th>\n",
       "      <td>Tuesday</td>\n",
       "      <td>101</td>\n",
       "    </tr>\n",
       "  </tbody>\n",
       "</table>\n",
       "</div>"
      ],
      "text/plain": [
       "         Day  Number_of_Attendees\n",
       "5   Saturday                   55\n",
       "4     Friday                   65\n",
       "2  Wednesday                   75\n",
       "0     Monday                   80\n",
       "3   Thursday                   87\n",
       "6     Sunday                   91\n",
       "1    Tuesday                  101"
      ]
     },
     "execution_count": 12,
     "metadata": {},
     "output_type": "execute_result"
    }
   ],
   "source": [
    "# Displaying the sorted data based on the \"Number_of_Attendees\" Column \n",
    "\n",
    "dataset.sort_values(\"Number_of_Attendees\") "
   ]
  },
  {
   "cell_type": "markdown",
   "metadata": {},
   "source": [
    "* ## c. Show the day with maximum number of attendees"
   ]
  },
  {
   "cell_type": "code",
   "execution_count": 14,
   "metadata": {},
   "outputs": [
    {
     "name": "stdout",
     "output_type": "stream",
     "text": [
      "Tuesday\n"
     ]
    }
   ],
   "source": [
    "column=dataset[\"Number_of_Attendees\"] #storing the Attendence data in a coloumn\n",
    "\n",
    "max_index=column.idxmax() #finding the maximum index in the column\n",
    "\n",
    "day_with_max_attendenc=dataset[\"Day\"][max_index] #finding the corresponding Day with max attendence\n",
    "\n",
    "# print(day_with_max_attendenc) #printing the final result\n",
    "\n",
    "# (OR)\n",
    "# Everything in one step\n",
    "print(dataset[\"Day\"][dataset[\"Number_of_Attendees\"].idxmax()])  "
   ]
  },
  {
   "cell_type": "markdown",
   "metadata": {},
   "source": [
    "* ## d. Display the 1st two days of the week and the number of attendees"
   ]
  },
  {
   "cell_type": "code",
   "execution_count": 32,
   "metadata": {},
   "outputs": [
    {
     "data": {
      "text/html": [
       "<div>\n",
       "<style scoped>\n",
       "    .dataframe tbody tr th:only-of-type {\n",
       "        vertical-align: middle;\n",
       "    }\n",
       "\n",
       "    .dataframe tbody tr th {\n",
       "        vertical-align: top;\n",
       "    }\n",
       "\n",
       "    .dataframe thead th {\n",
       "        text-align: right;\n",
       "    }\n",
       "</style>\n",
       "<table border=\"1\" class=\"dataframe\">\n",
       "  <thead>\n",
       "    <tr style=\"text-align: right;\">\n",
       "      <th></th>\n",
       "      <th>Day</th>\n",
       "      <th>Number_of_Attendees</th>\n",
       "    </tr>\n",
       "  </thead>\n",
       "  <tbody>\n",
       "    <tr>\n",
       "      <th>0</th>\n",
       "      <td>Monday</td>\n",
       "      <td>80</td>\n",
       "    </tr>\n",
       "    <tr>\n",
       "      <th>1</th>\n",
       "      <td>Tuesday</td>\n",
       "      <td>101</td>\n",
       "    </tr>\n",
       "  </tbody>\n",
       "</table>\n",
       "</div>"
      ],
      "text/plain": [
       "       Day  Number_of_Attendees\n",
       "0   Monday                   80\n",
       "1  Tuesday                  101"
      ]
     },
     "execution_count": 32,
     "metadata": {},
     "output_type": "execute_result"
    }
   ],
   "source": [
    "#displaying only the 1st two days using head() command\n",
    "dataset.head(2) "
   ]
  },
  {
   "cell_type": "markdown",
   "metadata": {},
   "source": [
    "* ## e. Plot the dataset for each day in the week."
   ]
  },
  {
   "cell_type": "code",
   "execution_count": 58,
   "metadata": {},
   "outputs": [
    {
     "data": {
      "text/plain": [
       "<AxesSubplot:xlabel='Day'>"
      ]
     },
     "execution_count": 58,
     "metadata": {},
     "output_type": "execute_result"
    },
    {
     "data": {
      "image/png": "[encoded data removed]",
      "text/plain": [
       "<Figure size 432x288 with 1 Axes>"
      ]
     },
     "metadata": {
      "needs_background": "light"
     },
     "output_type": "display_data"
    }
   ],
   "source": [
    "# using Plot method with kind as \"bar\" to display the dataset\n",
    "\n",
    "dataset.plot(x='Day', y='Number_of_Attendees',kind=\"bar\")"
   ]
  },
  {
   "cell_type": "markdown",
   "metadata": {},
   "source": [
    "# 7. Consider the given data set and perform the following: "
   ]
  },
  {
   "cell_type": "markdown",
   "metadata": {},
   "source": [
    "* ## a. Read the dataset"
   ]
  },
  {
   "cell_type": "code",
   "execution_count": 5,
   "metadata": {},
   "outputs": [
    {
     "data": {
      "text/html": [
       "<div>\n",
       "<style scoped>\n",
       "    .dataframe tbody tr th:only-of-type {\n",
       "        vertical-align: middle;\n",
       "    }\n",
       "\n",
       "    .dataframe tbody tr th {\n",
       "        vertical-align: top;\n",
       "    }\n",
       "\n",
       "    .dataframe thead th {\n",
       "        text-align: right;\n",
       "    }\n",
       "</style>\n",
       "<table border=\"1\" class=\"dataframe\">\n",
       "  <thead>\n",
       "    <tr style=\"text-align: right;\">\n",
       "      <th></th>\n",
       "      <th>YearsExperience</th>\n",
       "      <th>Salary</th>\n",
       "    </tr>\n",
       "  </thead>\n",
       "  <tbody>\n",
       "    <tr>\n",
       "      <th>0</th>\n",
       "      <td>1.1</td>\n",
       "      <td>39343.0</td>\n",
       "    </tr>\n",
       "    <tr>\n",
       "      <th>1</th>\n",
       "      <td>1.3</td>\n",
       "      <td>46205.0</td>\n",
       "    </tr>\n",
       "    <tr>\n",
       "      <th>2</th>\n",
       "      <td>1.5</td>\n",
       "      <td>37731.0</td>\n",
       "    </tr>\n",
       "    <tr>\n",
       "      <th>3</th>\n",
       "      <td>2.0</td>\n",
       "      <td>43525.0</td>\n",
       "    </tr>\n",
       "    <tr>\n",
       "      <th>4</th>\n",
       "      <td>2.2</td>\n",
       "      <td>39891.0</td>\n",
       "    </tr>\n",
       "    <tr>\n",
       "      <th>5</th>\n",
       "      <td>2.9</td>\n",
       "      <td>56642.0</td>\n",
       "    </tr>\n",
       "    <tr>\n",
       "      <th>6</th>\n",
       "      <td>3.0</td>\n",
       "      <td>60150.0</td>\n",
       "    </tr>\n",
       "    <tr>\n",
       "      <th>7</th>\n",
       "      <td>3.2</td>\n",
       "      <td>54445.0</td>\n",
       "    </tr>\n",
       "    <tr>\n",
       "      <th>8</th>\n",
       "      <td>3.2</td>\n",
       "      <td>64445.0</td>\n",
       "    </tr>\n",
       "    <tr>\n",
       "      <th>9</th>\n",
       "      <td>3.7</td>\n",
       "      <td>57189.0</td>\n",
       "    </tr>\n",
       "    <tr>\n",
       "      <th>10</th>\n",
       "      <td>3.9</td>\n",
       "      <td>63218.0</td>\n",
       "    </tr>\n",
       "    <tr>\n",
       "      <th>11</th>\n",
       "      <td>4.0</td>\n",
       "      <td>55794.0</td>\n",
       "    </tr>\n",
       "    <tr>\n",
       "      <th>12</th>\n",
       "      <td>4.0</td>\n",
       "      <td>56957.0</td>\n",
       "    </tr>\n",
       "    <tr>\n",
       "      <th>13</th>\n",
       "      <td>4.1</td>\n",
       "      <td>57081.0</td>\n",
       "    </tr>\n",
       "    <tr>\n",
       "      <th>14</th>\n",
       "      <td>4.5</td>\n",
       "      <td>61111.0</td>\n",
       "    </tr>\n",
       "    <tr>\n",
       "      <th>15</th>\n",
       "      <td>4.9</td>\n",
       "      <td>67938.0</td>\n",
       "    </tr>\n",
       "    <tr>\n",
       "      <th>16</th>\n",
       "      <td>5.1</td>\n",
       "      <td>66029.0</td>\n",
       "    </tr>\n",
       "    <tr>\n",
       "      <th>17</th>\n",
       "      <td>5.3</td>\n",
       "      <td>83088.0</td>\n",
       "    </tr>\n",
       "    <tr>\n",
       "      <th>18</th>\n",
       "      <td>5.9</td>\n",
       "      <td>81363.0</td>\n",
       "    </tr>\n",
       "    <tr>\n",
       "      <th>19</th>\n",
       "      <td>6.0</td>\n",
       "      <td>93940.0</td>\n",
       "    </tr>\n",
       "    <tr>\n",
       "      <th>20</th>\n",
       "      <td>6.8</td>\n",
       "      <td>91738.0</td>\n",
       "    </tr>\n",
       "    <tr>\n",
       "      <th>21</th>\n",
       "      <td>7.1</td>\n",
       "      <td>98273.0</td>\n",
       "    </tr>\n",
       "    <tr>\n",
       "      <th>22</th>\n",
       "      <td>7.9</td>\n",
       "      <td>101302.0</td>\n",
       "    </tr>\n",
       "    <tr>\n",
       "      <th>23</th>\n",
       "      <td>8.2</td>\n",
       "      <td>113812.0</td>\n",
       "    </tr>\n",
       "    <tr>\n",
       "      <th>24</th>\n",
       "      <td>8.7</td>\n",
       "      <td>109431.0</td>\n",
       "    </tr>\n",
       "    <tr>\n",
       "      <th>25</th>\n",
       "      <td>9.0</td>\n",
       "      <td>105582.0</td>\n",
       "    </tr>\n",
       "    <tr>\n",
       "      <th>26</th>\n",
       "      <td>9.5</td>\n",
       "      <td>116969.0</td>\n",
       "    </tr>\n",
       "    <tr>\n",
       "      <th>27</th>\n",
       "      <td>9.6</td>\n",
       "      <td>112635.0</td>\n",
       "    </tr>\n",
       "    <tr>\n",
       "      <th>28</th>\n",
       "      <td>10.3</td>\n",
       "      <td>122391.0</td>\n",
       "    </tr>\n",
       "    <tr>\n",
       "      <th>29</th>\n",
       "      <td>10.5</td>\n",
       "      <td>121872.0</td>\n",
       "    </tr>\n",
       "  </tbody>\n",
       "</table>\n",
       "</div>"
      ],
      "text/plain": [
       "    YearsExperience    Salary\n",
       "0               1.1   39343.0\n",
       "1               1.3   46205.0\n",
       "2               1.5   37731.0\n",
       "3               2.0   43525.0\n",
       "4               2.2   39891.0\n",
       "5               2.9   56642.0\n",
       "6               3.0   60150.0\n",
       "7               3.2   54445.0\n",
       "8               3.2   64445.0\n",
       "9               3.7   57189.0\n",
       "10              3.9   63218.0\n",
       "11              4.0   55794.0\n",
       "12              4.0   56957.0\n",
       "13              4.1   57081.0\n",
       "14              4.5   61111.0\n",
       "15              4.9   67938.0\n",
       "16              5.1   66029.0\n",
       "17              5.3   83088.0\n",
       "18              5.9   81363.0\n",
       "19              6.0   93940.0\n",
       "20              6.8   91738.0\n",
       "21              7.1   98273.0\n",
       "22              7.9  101302.0\n",
       "23              8.2  113812.0\n",
       "24              8.7  109431.0\n",
       "25              9.0  105582.0\n",
       "26              9.5  116969.0\n",
       "27              9.6  112635.0\n",
       "28             10.3  122391.0\n",
       "29             10.5  121872.0"
      ]
     },
     "execution_count": 5,
     "metadata": {},
     "output_type": "execute_result"
    }
   ],
   "source": [
    "import pandas as pa\n",
    "\n",
    "dataset=pa.read_csv(\"./Salary_Data.csv\") # reading dataset from the Salary_data using read_csv method\n",
    "\n",
    "dataset # printing whole dataset"
   ]
  },
  {
   "cell_type": "markdown",
   "metadata": {},
   "source": [
    "* ## b. Display the information related to the dataset such as the number of rows and columns"
   ]
  },
  {
   "cell_type": "code",
   "execution_count": 79,
   "metadata": {},
   "outputs": [
    {
     "name": "stdout",
     "output_type": "stream",
     "text": [
      "Total number of rows : 30\n",
      "Total number of columns : 2\n"
     ]
    }
   ],
   "source": [
    "\n",
    "\n",
    "rows = len(dataset.axes[0]) # calculating number of rows in dataset\n",
    "cols = len(dataset.axes[1]) # calculating number of columns in dataset\n",
    "\n",
    "print(\"Total number of rows :\",rows)\n",
    "print(\"Total number of columns :\",cols)\n",
    "\n"
   ]
  },
  {
   "cell_type": "markdown",
   "metadata": {},
   "source": [
    "* ## c. Display the first 5 rows"
   ]
  },
  {
   "cell_type": "code",
   "execution_count": 72,
   "metadata": {},
   "outputs": [
    {
     "data": {
      "text/html": [
       "<div>\n",
       "<style scoped>\n",
       "    .dataframe tbody tr th:only-of-type {\n",
       "        vertical-align: middle;\n",
       "    }\n",
       "\n",
       "    .dataframe tbody tr th {\n",
       "        vertical-align: top;\n",
       "    }\n",
       "\n",
       "    .dataframe thead th {\n",
       "        text-align: right;\n",
       "    }\n",
       "</style>\n",
       "<table border=\"1\" class=\"dataframe\">\n",
       "  <thead>\n",
       "    <tr style=\"text-align: right;\">\n",
       "      <th></th>\n",
       "      <th>YearsExperience</th>\n",
       "      <th>Salary</th>\n",
       "    </tr>\n",
       "  </thead>\n",
       "  <tbody>\n",
       "    <tr>\n",
       "      <th>0</th>\n",
       "      <td>1.1</td>\n",
       "      <td>39343.0</td>\n",
       "    </tr>\n",
       "    <tr>\n",
       "      <th>1</th>\n",
       "      <td>1.3</td>\n",
       "      <td>46205.0</td>\n",
       "    </tr>\n",
       "    <tr>\n",
       "      <th>2</th>\n",
       "      <td>1.5</td>\n",
       "      <td>37731.0</td>\n",
       "    </tr>\n",
       "    <tr>\n",
       "      <th>3</th>\n",
       "      <td>2.0</td>\n",
       "      <td>43525.0</td>\n",
       "    </tr>\n",
       "    <tr>\n",
       "      <th>4</th>\n",
       "      <td>2.2</td>\n",
       "      <td>39891.0</td>\n",
       "    </tr>\n",
       "  </tbody>\n",
       "</table>\n",
       "</div>"
      ],
      "text/plain": [
       "   YearsExperience   Salary\n",
       "0              1.1  39343.0\n",
       "1              1.3  46205.0\n",
       "2              1.5  37731.0\n",
       "3              2.0  43525.0\n",
       "4              2.2  39891.0"
      ]
     },
     "execution_count": 72,
     "metadata": {},
     "output_type": "execute_result"
    }
   ],
   "source": [
    "#displaying the first 5 rows using head method \n",
    "\n",
    "dataset.head(5)"
   ]
  },
  {
   "cell_type": "markdown",
   "metadata": {},
   "source": [
    "* ## d. Display the summary statistics for each numeric column"
   ]
  },
  {
   "cell_type": "code",
   "execution_count": 81,
   "metadata": {},
   "outputs": [
    {
     "data": {
      "text/html": [
       "<div>\n",
       "<style scoped>\n",
       "    .dataframe tbody tr th:only-of-type {\n",
       "        vertical-align: middle;\n",
       "    }\n",
       "\n",
       "    .dataframe tbody tr th {\n",
       "        vertical-align: top;\n",
       "    }\n",
       "\n",
       "    .dataframe thead th {\n",
       "        text-align: right;\n",
       "    }\n",
       "</style>\n",
       "<table border=\"1\" class=\"dataframe\">\n",
       "  <thead>\n",
       "    <tr style=\"text-align: right;\">\n",
       "      <th></th>\n",
       "      <th>YearsExperience</th>\n",
       "      <th>Salary</th>\n",
       "    </tr>\n",
       "  </thead>\n",
       "  <tbody>\n",
       "    <tr>\n",
       "      <th>count</th>\n",
       "      <td>30.000000</td>\n",
       "      <td>30.000000</td>\n",
       "    </tr>\n",
       "    <tr>\n",
       "      <th>mean</th>\n",
       "      <td>5.313333</td>\n",
       "      <td>76003.000000</td>\n",
       "    </tr>\n",
       "    <tr>\n",
       "      <th>std</th>\n",
       "      <td>2.837888</td>\n",
       "      <td>27414.429785</td>\n",
       "    </tr>\n",
       "    <tr>\n",
       "      <th>min</th>\n",
       "      <td>1.100000</td>\n",
       "      <td>37731.000000</td>\n",
       "    </tr>\n",
       "    <tr>\n",
       "      <th>25%</th>\n",
       "      <td>3.200000</td>\n",
       "      <td>56720.750000</td>\n",
       "    </tr>\n",
       "    <tr>\n",
       "      <th>50%</th>\n",
       "      <td>4.700000</td>\n",
       "      <td>65237.000000</td>\n",
       "    </tr>\n",
       "    <tr>\n",
       "      <th>75%</th>\n",
       "      <td>7.700000</td>\n",
       "      <td>100544.750000</td>\n",
       "    </tr>\n",
       "    <tr>\n",
       "      <th>max</th>\n",
       "      <td>10.500000</td>\n",
       "      <td>122391.000000</td>\n",
       "    </tr>\n",
       "  </tbody>\n",
       "</table>\n",
       "</div>"
      ],
      "text/plain": [
       "       YearsExperience         Salary\n",
       "count        30.000000      30.000000\n",
       "mean          5.313333   76003.000000\n",
       "std           2.837888   27414.429785\n",
       "min           1.100000   37731.000000\n",
       "25%           3.200000   56720.750000\n",
       "50%           4.700000   65237.000000\n",
       "75%           7.700000  100544.750000\n",
       "max          10.500000  122391.000000"
      ]
     },
     "execution_count": 81,
     "metadata": {},
     "output_type": "execute_result"
    }
   ],
   "source": [
    "#displaying the summary statistics for each numeric column ,which includes mean,min element,max element,count,standard deviation etc..\n",
    "dataset.describe() "
   ]
  },
  {
   "cell_type": "markdown",
   "metadata": {},
   "source": [
    "* ## e. Display a random subset ( at least 5)"
   ]
  },
  {
   "cell_type": "code",
   "execution_count": 6,
   "metadata": {},
   "outputs": [
    {
     "data": {
      "text/html": [
       "<div>\n",
       "<style scoped>\n",
       "    .dataframe tbody tr th:only-of-type {\n",
       "        vertical-align: middle;\n",
       "    }\n",
       "\n",
       "    .dataframe tbody tr th {\n",
       "        vertical-align: top;\n",
       "    }\n",
       "\n",
       "    .dataframe thead th {\n",
       "        text-align: right;\n",
       "    }\n",
       "</style>\n",
       "<table border=\"1\" class=\"dataframe\">\n",
       "  <thead>\n",
       "    <tr style=\"text-align: right;\">\n",
       "      <th></th>\n",
       "      <th>YearsExperience</th>\n",
       "      <th>Salary</th>\n",
       "    </tr>\n",
       "  </thead>\n",
       "  <tbody>\n",
       "    <tr>\n",
       "      <th>8</th>\n",
       "      <td>3.2</td>\n",
       "      <td>64445.0</td>\n",
       "    </tr>\n",
       "    <tr>\n",
       "      <th>26</th>\n",
       "      <td>9.5</td>\n",
       "      <td>116969.0</td>\n",
       "    </tr>\n",
       "    <tr>\n",
       "      <th>22</th>\n",
       "      <td>7.9</td>\n",
       "      <td>101302.0</td>\n",
       "    </tr>\n",
       "    <tr>\n",
       "      <th>29</th>\n",
       "      <td>10.5</td>\n",
       "      <td>121872.0</td>\n",
       "    </tr>\n",
       "    <tr>\n",
       "      <th>28</th>\n",
       "      <td>10.3</td>\n",
       "      <td>122391.0</td>\n",
       "    </tr>\n",
       "    <tr>\n",
       "      <th>23</th>\n",
       "      <td>8.2</td>\n",
       "      <td>113812.0</td>\n",
       "    </tr>\n",
       "    <tr>\n",
       "      <th>24</th>\n",
       "      <td>8.7</td>\n",
       "      <td>109431.0</td>\n",
       "    </tr>\n",
       "  </tbody>\n",
       "</table>\n",
       "</div>"
      ],
      "text/plain": [
       "    YearsExperience    Salary\n",
       "8               3.2   64445.0\n",
       "26              9.5  116969.0\n",
       "22              7.9  101302.0\n",
       "29             10.5  121872.0\n",
       "28             10.3  122391.0\n",
       "23              8.2  113812.0\n",
       "24              8.7  109431.0"
      ]
     },
     "execution_count": 6,
     "metadata": {},
     "output_type": "execute_result"
    }
   ],
   "source": [
    "#Printing a random subset form the dataset of 7 elements\n",
    "dataset.sample(7)\n"
   ]
  }
 ],
 "metadata": {
  "colab": {
   "collapsed_sections": [],
   "name": "DS Lab 3 Assignment.ipynb",
   "provenance": []
  },
  "kernelspec": {
   "display_name": "Python 3 (ipykernel)",
   "language": "python",
   "name": "python3"
  },
  "language_info": {
   "codemirror_mode": {
    "name": "ipython",
    "version": 3
   },
   "file_extension": ".py",
   "mimetype": "text/x-python",
   "name": "python",
   "nbconvert_exporter": "python",
   "pygments_lexer": "ipython3",
   "version": "3.9.7"
  }
 },
 "nbformat": 4,
 "nbformat_minor": 1
}
