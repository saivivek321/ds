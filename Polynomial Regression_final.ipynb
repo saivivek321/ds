{
 "cells": [
  {
   "cell_type": "markdown",
   "id": "e4caaf9d",
   "metadata": {},
   "source": [
    "# DS Lab Assignment 4\n",
    "# Polynomial Regression\n",
    "# Kadali Sai Vivek\n",
    "# 197139"
   ]
  },
  {
   "cell_type": "code",
   "execution_count": 1,
   "id": "2275732a",
   "metadata": {},
   "outputs": [],
   "source": [
    "# Importing necessary libraries\n",
    "import numpy as np\n",
    "import pandas as pd\n",
    "import matplotlib.pyplot as plt\n"
   ]
  },
  {
   "cell_type": "code",
   "execution_count": 2,
   "id": "859075ad",
   "metadata": {},
   "outputs": [
    {
     "data": {
      "text/html": [
       "<div>\n",
       "<style scoped>\n",
       "    .dataframe tbody tr th:only-of-type {\n",
       "        vertical-align: middle;\n",
       "    }\n",
       "\n",
       "    .dataframe tbody tr th {\n",
       "        vertical-align: top;\n",
       "    }\n",
       "\n",
       "    .dataframe thead th {\n",
       "        text-align: right;\n",
       "    }\n",
       "</style>\n",
       "<table border=\"1\" class=\"dataframe\">\n",
       "  <thead>\n",
       "    <tr style=\"text-align: right;\">\n",
       "      <th></th>\n",
       "      <th>Position</th>\n",
       "      <th>Level</th>\n",
       "      <th>Salary</th>\n",
       "    </tr>\n",
       "  </thead>\n",
       "  <tbody>\n",
       "    <tr>\n",
       "      <th>0</th>\n",
       "      <td>Business Analyst</td>\n",
       "      <td>1</td>\n",
       "      <td>45000</td>\n",
       "    </tr>\n",
       "    <tr>\n",
       "      <th>1</th>\n",
       "      <td>Junior Consultant</td>\n",
       "      <td>2</td>\n",
       "      <td>50000</td>\n",
       "    </tr>\n",
       "    <tr>\n",
       "      <th>2</th>\n",
       "      <td>Senior Consultant</td>\n",
       "      <td>3</td>\n",
       "      <td>60000</td>\n",
       "    </tr>\n",
       "    <tr>\n",
       "      <th>3</th>\n",
       "      <td>Manager</td>\n",
       "      <td>4</td>\n",
       "      <td>80000</td>\n",
       "    </tr>\n",
       "    <tr>\n",
       "      <th>4</th>\n",
       "      <td>Country Manager</td>\n",
       "      <td>5</td>\n",
       "      <td>110000</td>\n",
       "    </tr>\n",
       "    <tr>\n",
       "      <th>5</th>\n",
       "      <td>Region Manager</td>\n",
       "      <td>6</td>\n",
       "      <td>150000</td>\n",
       "    </tr>\n",
       "    <tr>\n",
       "      <th>6</th>\n",
       "      <td>Partner</td>\n",
       "      <td>7</td>\n",
       "      <td>200000</td>\n",
       "    </tr>\n",
       "    <tr>\n",
       "      <th>7</th>\n",
       "      <td>Senior Partner</td>\n",
       "      <td>8</td>\n",
       "      <td>300000</td>\n",
       "    </tr>\n",
       "    <tr>\n",
       "      <th>8</th>\n",
       "      <td>C-level</td>\n",
       "      <td>9</td>\n",
       "      <td>500000</td>\n",
       "    </tr>\n",
       "    <tr>\n",
       "      <th>9</th>\n",
       "      <td>CEO</td>\n",
       "      <td>10</td>\n",
       "      <td>1000000</td>\n",
       "    </tr>\n",
       "  </tbody>\n",
       "</table>\n",
       "</div>"
      ],
      "text/plain": [
       "            Position  Level   Salary\n",
       "0   Business Analyst      1    45000\n",
       "1  Junior Consultant      2    50000\n",
       "2  Senior Consultant      3    60000\n",
       "3            Manager      4    80000\n",
       "4    Country Manager      5   110000\n",
       "5     Region Manager      6   150000\n",
       "6            Partner      7   200000\n",
       "7     Senior Partner      8   300000\n",
       "8            C-level      9   500000\n",
       "9                CEO     10  1000000"
      ]
     },
     "execution_count": 2,
     "metadata": {},
     "output_type": "execute_result"
    }
   ],
   "source": [
    "# loading the dataset\n",
    "dataset = pd.read_csv('./Position_Salaries.csv')\n",
    "dataset"
   ]
  },
  {
   "cell_type": "code",
   "execution_count": 4,
   "id": "b2848503",
   "metadata": {},
   "outputs": [],
   "source": [
    "#dividing into dependent and independent variables\n",
    "data=np.array(dataset)\n",
    "\n",
    "x=data[:,1:-1] #Independent Variable\n",
    "y=data[:,-1]   #Dependent Variable\n"
   ]
  },
  {
   "cell_type": "code",
   "execution_count": 5,
   "id": "f40c6ae0",
   "metadata": {},
   "outputs": [],
   "source": [
    "#Split the data into Testing and Trainging Data\n",
    "def split_data(X,y,test_size=0.2,random_state=0):\n",
    "    np.random.seed(random_state)                  \n",
    "    indices = np.random.permutation(len(X))       \n",
    "    division = int(X.shape[0] * test_size) \n",
    "\n",
    "    # Divinding X and Y features into the Train and Test Set\n",
    "    train_indexes = indices[division:]\n",
    "    test_indexes = indices[:division]\n",
    "    X_train = X[train_indexes]\n",
    "    y_train = y[train_indexes]\n",
    "    y_train=y_train.reshape(y_train.shape[0],1)\n",
    "    X_test = X[test_indexes]\n",
    "    y_test = y[test_indexes]\n",
    "    y_test=y_test.reshape(y_test.shape[0],1)\n",
    "    return X_train, y_train, X_test, y_test\n",
    "\n",
    "\n",
    "# used for converting the matrix into desired form (i.e adding 1st column and x^2 ,x^3 etc)\n",
    "def convertion(features, X):\n",
    "  data = pd.DataFrame(np.zeros((X.shape[0],features)))\n",
    "  for i in range(1,features+1):\n",
    "    data.iloc[:,i-1] = (X**i).reshape(-1,1)\n",
    "  X_poly = np.array(data.values.tolist())\n",
    "  X_poly=np.vstack((np.ones((X_poly.shape[0],)),X_poly.T)).T  \n",
    "  return X_poly\n",
    "\n"
   ]
  },
  {
   "cell_type": "code",
   "execution_count": 6,
   "id": "982da61f",
   "metadata": {},
   "outputs": [],
   "source": [
    "# Building the model using Training Data\n",
    "\n",
    "import matplotlib.pyplot as plt \n",
    "\n",
    "def polynominal_regression(x,y,learning_rate,iterations):\n",
    "    (m,cols)=x.shape\n",
    "    theta = np.zeros((cols,1))\n",
    "    cost_at_each_iteration=[]\n",
    "    for i in range(iterations):\n",
    "        dx = np.dot(x,theta)                         \n",
    "        cost = (1/(2*m))*np.sum(np.square(dx - y))    \n",
    "        \n",
    "        d_theta = (1/m)*np.dot(x.T, dx-y)         \n",
    "        theta = theta - learning_rate*d_theta \n",
    "        cost_at_each_iteration.append(cost)\n",
    "        \n",
    "    plt.xlabel('Number of iterations')\n",
    "    plt.ylabel('J (θ)')\n",
    "    plt.plot(range(iterations),cost_at_each_iteration, color = \"r\")\n",
    "    return theta"
   ]
  },
  {
   "cell_type": "code",
   "execution_count": 13,
   "id": "040c5b7e",
   "metadata": {},
   "outputs": [
    {
     "name": "stdout",
     "output_type": "stream",
     "text": [
      "[[  1.   1.   1.]\n",
      " [  1.   2.   4.]\n",
      " [  1.   3.   9.]\n",
      " [  1.   4.  16.]\n",
      " [  1.   5.  25.]\n",
      " [  1.   6.  36.]\n",
      " [  1.   7.  49.]\n",
      " [  1.   8.  64.]\n",
      " [  1.   9.  81.]\n",
      " [  1.  10. 100.]]\n",
      "Prediction : [65591.35602111089]  \t| Actual : [60000]\n",
      "Prediction : [600843.6028720948]  \t| Actual : [500000]\n",
      "\n",
      "MAE error is  71416.71898925204\n"
     ]
    },
    {
     "data": {
      "image/png": "[encoded data removed]",
      "text/plain": [
       "<Figure size 432x288 with 1 Axes>"
      ]
     },
     "metadata": {
      "needs_background": "light"
     },
     "output_type": "display_data"
    }
   ],
   "source": [
    "# predecting and evaluating for N=2\n",
    "\n",
    "X=convertion(2,x)\n",
    "print(X)\n",
    "x_train, y_train, x_test, y_test = split_data(X,y,test_size=0.2)\n",
    "theta=polynominal_regression(x_train,y_train,0.0001,100)\n",
    "\n",
    "y_pred=np.dot(x_test,theta)\n",
    "for i in range(y_pred.shape[0]):\n",
    "    print(\"Prediction :\",y_pred[i],\" \\t| Actual :\",y_test[i])\n",
    "\n",
    "\n",
    "import math\n",
    "    \n",
    "error=math.sqrt(np.mean((y_pred-y_test)**2))\n",
    "print(\"\\nMAE error is \",error)\n"
   ]
  },
  {
   "cell_type": "code",
   "execution_count": 8,
   "id": "cebf79c4",
   "metadata": {},
   "outputs": [
    {
     "data": {
      "image/png": "[encoded data removed]",
      "text/plain": [
       "<Figure size 432x288 with 1 Axes>"
      ]
     },
     "metadata": {
      "needs_background": "light"
     },
     "output_type": "display_data"
    }
   ],
   "source": [
    "import matplotlib.pyplot as plt \n",
    "# Plotting the data \n",
    "\n",
    "plt.scatter(x_train[:,1], y_train, color = 'red')\n",
    "\n",
    "y_pred=np.dot(X,theta)\n",
    "plt.plot(X[:,1],y_pred, color = 'blue')\n",
    "\n",
    "plt.title('Naive Polynomial Regression (N = 2)')\n",
    "plt.xlabel('Position level')\n",
    "plt.ylabel('Salary')\n",
    "plt.show()"
   ]
  },
  {
   "cell_type": "code",
   "execution_count": 9,
   "id": "db941a27",
   "metadata": {},
   "outputs": [
    {
     "name": "stdout",
     "output_type": "stream",
     "text": [
      "Prediction : [24237.699110035832]  \t| Actual : [60000]\n",
      "Prediction : [641852.5773430602]  \t| Actual : [500000]\n",
      "\n",
      "MAE error is  103443.45282281813\n"
     ]
    },
    {
     "data": {
      "image/png": "[encoded data removed]",
      "text/plain": [
       "<Figure size 432x288 with 1 Axes>"
      ]
     },
     "metadata": {
      "needs_background": "light"
     },
     "output_type": "display_data"
    }
   ],
   "source": [
    "# for N=3 \n",
    "\n",
    "X=convertion(3,x)\n",
    "x_train, y_train, x_test, y_test = split_data(X,y,test_size=0.2)\n",
    "theta=polynominal_regression(x_train,y_train,0.0000005,100)\n",
    "\n",
    "y_pred=np.dot(x_test,theta)\n",
    "for i in range(y_pred.shape[0]):\n",
    "    print(\"Prediction :\",y_pred[i],\" \\t| Actual :\",y_test[i])\n",
    "\n",
    "\n",
    "\n",
    "error=math.sqrt(np.mean((y_pred-y_test)**2))\n",
    "print(\"\\nMAE error is \",error)\n"
   ]
  }
 ],
 "metadata": {
  "kernelspec": {
   "display_name": "Python 3 (ipykernel)",
   "language": "python",
   "name": "python3"
  },
  "language_info": {
   "codemirror_mode": {
    "name": "ipython",
    "version": 3
   },
   "file_extension": ".py",
   "mimetype": "text/x-python",
   "name": "python",
   "nbconvert_exporter": "python",
   "pygments_lexer": "ipython3",
   "version": "3.9.7"
  }
 },
 "nbformat": 4,
 "nbformat_minor": 5
}
