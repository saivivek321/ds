{
 "cells": [
  {
   "cell_type": "markdown",
   "id": "d255fff9",
   "metadata": {
    "id": "d255fff9"
   },
   "source": [
    "# DS Lab Assignment 6\n",
    "\n",
    "# Kadali Sai Vivek\n",
    "# 197139\n",
    "\n",
    "# Q2) Implement Support Vector Machines (SVM) From Scratch"
   ]
  },
  {
   "cell_type": "code",
   "execution_count": 31,
   "id": "9a5ca957",
   "metadata": {
    "colab": {
     "base_uri": "https://localhost:8080/",
     "height": 423
    },
    "id": "9a5ca957",
    "outputId": "7db70452-5ca3-4725-f993-a7c7628fdc5d"
   },
   "outputs": [
    {
     "data": {
      "text/html": [
       "\n",
       "  <div id=\"df-c8cd9a53-d4c8-4558-b9b3-bf8aaa30ccea\">\n",
       "    <div class=\"colab-df-container\">\n",
       "      <div>\n",
       "<style scoped>\n",
       "    .dataframe tbody tr th:only-of-type {\n",
       "        vertical-align: middle;\n",
       "    }\n",
       "\n",
       "    .dataframe tbody tr th {\n",
       "        vertical-align: top;\n",
       "    }\n",
       "\n",
       "    .dataframe thead th {\n",
       "        text-align: right;\n",
       "    }\n",
       "</style>\n",
       "<table border=\"1\" class=\"dataframe\">\n",
       "  <thead>\n",
       "    <tr style=\"text-align: right;\">\n",
       "      <th></th>\n",
       "      <th>Id</th>\n",
       "      <th>SepalLengthCm</th>\n",
       "      <th>SepalWidthCm</th>\n",
       "      <th>PetalLengthCm</th>\n",
       "      <th>PetalWidthCm</th>\n",
       "      <th>Species</th>\n",
       "    </tr>\n",
       "  </thead>\n",
       "  <tbody>\n",
       "    <tr>\n",
       "      <th>0</th>\n",
       "      <td>1</td>\n",
       "      <td>5.1</td>\n",
       "      <td>3.5</td>\n",
       "      <td>1.4</td>\n",
       "      <td>0.2</td>\n",
       "      <td>Iris-setosa</td>\n",
       "    </tr>\n",
       "    <tr>\n",
       "      <th>1</th>\n",
       "      <td>2</td>\n",
       "      <td>4.9</td>\n",
       "      <td>3.0</td>\n",
       "      <td>1.4</td>\n",
       "      <td>0.2</td>\n",
       "      <td>Iris-setosa</td>\n",
       "    </tr>\n",
       "    <tr>\n",
       "      <th>2</th>\n",
       "      <td>3</td>\n",
       "      <td>4.7</td>\n",
       "      <td>3.2</td>\n",
       "      <td>1.3</td>\n",
       "      <td>0.2</td>\n",
       "      <td>Iris-setosa</td>\n",
       "    </tr>\n",
       "    <tr>\n",
       "      <th>3</th>\n",
       "      <td>4</td>\n",
       "      <td>4.6</td>\n",
       "      <td>3.1</td>\n",
       "      <td>1.5</td>\n",
       "      <td>0.2</td>\n",
       "      <td>Iris-setosa</td>\n",
       "    </tr>\n",
       "    <tr>\n",
       "      <th>4</th>\n",
       "      <td>5</td>\n",
       "      <td>5.0</td>\n",
       "      <td>3.6</td>\n",
       "      <td>1.4</td>\n",
       "      <td>0.2</td>\n",
       "      <td>Iris-setosa</td>\n",
       "    </tr>\n",
       "    <tr>\n",
       "      <th>...</th>\n",
       "      <td>...</td>\n",
       "      <td>...</td>\n",
       "      <td>...</td>\n",
       "      <td>...</td>\n",
       "      <td>...</td>\n",
       "      <td>...</td>\n",
       "    </tr>\n",
       "    <tr>\n",
       "      <th>95</th>\n",
       "      <td>96</td>\n",
       "      <td>5.7</td>\n",
       "      <td>3.0</td>\n",
       "      <td>4.2</td>\n",
       "      <td>1.2</td>\n",
       "      <td>Iris-versicolor</td>\n",
       "    </tr>\n",
       "    <tr>\n",
       "      <th>96</th>\n",
       "      <td>97</td>\n",
       "      <td>5.7</td>\n",
       "      <td>2.9</td>\n",
       "      <td>4.2</td>\n",
       "      <td>1.3</td>\n",
       "      <td>Iris-versicolor</td>\n",
       "    </tr>\n",
       "    <tr>\n",
       "      <th>97</th>\n",
       "      <td>98</td>\n",
       "      <td>6.2</td>\n",
       "      <td>2.9</td>\n",
       "      <td>4.3</td>\n",
       "      <td>1.3</td>\n",
       "      <td>Iris-versicolor</td>\n",
       "    </tr>\n",
       "    <tr>\n",
       "      <th>98</th>\n",
       "      <td>99</td>\n",
       "      <td>5.1</td>\n",
       "      <td>2.5</td>\n",
       "      <td>3.0</td>\n",
       "      <td>1.1</td>\n",
       "      <td>Iris-versicolor</td>\n",
       "    </tr>\n",
       "    <tr>\n",
       "      <th>99</th>\n",
       "      <td>100</td>\n",
       "      <td>5.7</td>\n",
       "      <td>2.8</td>\n",
       "      <td>4.1</td>\n",
       "      <td>1.3</td>\n",
       "      <td>Iris-versicolor</td>\n",
       "    </tr>\n",
       "  </tbody>\n",
       "</table>\n",
       "<p>100 rows × 6 columns</p>\n",
       "</div>\n",
       "      <button class=\"colab-df-convert\" onclick=\"convertToInteractive('df-c8cd9a53-d4c8-4558-b9b3-bf8aaa30ccea')\"\n",
       "              title=\"Convert this dataframe to an interactive table.\"\n",
       "              style=\"display:none;\">\n",
       "        \n",
       "  <svg xmlns=\"http://www.w3.org/2000/svg\" height=\"24px\"viewBox=\"0 0 24 24\"\n",
       "       width=\"24px\">\n",
       "    <path d=\"M0 0h24v24H0V0z\" fill=\"none\"/>\n",
       "    <path d=\"M18.56 5.44l.94 2.06.94-2.06 2.06-.94-2.06-.94-.94-2.06-.94 2.06-2.06.94zm-11 1L8.5 8.5l.94-2.06 2.06-.94-2.06-.94L8.5 2.5l-.94 2.06-2.06.94zm10 10l.94 2.06.94-2.06 2.06-.94-2.06-.94-.94-2.06-.94 2.06-2.06.94z\"/><path d=\"M17.41 7.96l-1.37-1.37c-.4-.4-.92-.59-1.43-.59-.52 0-1.04.2-1.43.59L10.3 9.45l-7.72 7.72c-.78.78-.78 2.05 0 2.83L4 21.41c.39.39.9.59 1.41.59.51 0 1.02-.2 1.41-.59l7.78-7.78 2.81-2.81c.8-.78.8-2.07 0-2.86zM5.41 20L4 18.59l7.72-7.72 1.47 1.35L5.41 20z\"/>\n",
       "  </svg>\n",
       "      </button>\n",
       "      \n",
       "  <style>\n",
       "    .colab-df-container {\n",
       "      display:flex;\n",
       "      flex-wrap:wrap;\n",
       "      gap: 12px;\n",
       "    }\n",
       "\n",
       "    .colab-df-convert {\n",
       "      background-color: #E8F0FE;\n",
       "      border: none;\n",
       "      border-radius: 50%;\n",
       "      cursor: pointer;\n",
       "      display: none;\n",
       "      fill: #1967D2;\n",
       "      height: 32px;\n",
       "      padding: 0 0 0 0;\n",
       "      width: 32px;\n",
       "    }\n",
       "\n",
       "    .colab-df-convert:hover {\n",
       "      background-color: #E2EBFA;\n",
       "      box-shadow: 0px 1px 2px rgba(60, 64, 67, 0.3), 0px 1px 3px 1px rgba(60, 64, 67, 0.15);\n",
       "      fill: #174EA6;\n",
       "    }\n",
       "\n",
       "    [theme=dark] .colab-df-convert {\n",
       "      background-color: #3B4455;\n",
       "      fill: #D2E3FC;\n",
       "    }\n",
       "\n",
       "    [theme=dark] .colab-df-convert:hover {\n",
       "      background-color: #434B5C;\n",
       "      box-shadow: 0px 1px 3px 1px rgba(0, 0, 0, 0.15);\n",
       "      filter: drop-shadow(0px 1px 2px rgba(0, 0, 0, 0.3));\n",
       "      fill: #FFFFFF;\n",
       "    }\n",
       "  </style>\n",
       "\n",
       "      <script>\n",
       "        const buttonEl =\n",
       "          document.querySelector('#df-c8cd9a53-d4c8-4558-b9b3-bf8aaa30ccea button.colab-df-convert');\n",
       "        buttonEl.style.display =\n",
       "          google.colab.kernel.accessAllowed ? 'block' : 'none';\n",
       "\n",
       "        async function convertToInteractive(key) {\n",
       "          const element = document.querySelector('#df-c8cd9a53-d4c8-4558-b9b3-bf8aaa30ccea');\n",
       "          const dataTable =\n",
       "            await google.colab.kernel.invokeFunction('convertToInteractive',\n",
       "                                                     [key], {});\n",
       "          if (!dataTable) return;\n",
       "\n",
       "          const docLinkHtml = 'Like what you see? Visit the ' +\n",
       "            '<a target=\"_blank\" href=https://colab.research.google.com/notebooks/data_table.ipynb>data table notebook</a>'\n",
       "            + ' to learn more about interactive tables.';\n",
       "          element.innerHTML = '';\n",
       "          dataTable['output_type'] = 'display_data';\n",
       "          await google.colab.output.renderOutput(dataTable, element);\n",
       "          const docLink = document.createElement('div');\n",
       "          docLink.innerHTML = docLinkHtml;\n",
       "          element.appendChild(docLink);\n",
       "        }\n",
       "      </script>\n",
       "    </div>\n",
       "  </div>\n",
       "  "
      ],
      "text/plain": [
       "     Id  SepalLengthCm  SepalWidthCm  PetalLengthCm  PetalWidthCm  \\\n",
       "0     1            5.1           3.5            1.4           0.2   \n",
       "1     2            4.9           3.0            1.4           0.2   \n",
       "2     3            4.7           3.2            1.3           0.2   \n",
       "3     4            4.6           3.1            1.5           0.2   \n",
       "4     5            5.0           3.6            1.4           0.2   \n",
       "..  ...            ...           ...            ...           ...   \n",
       "95   96            5.7           3.0            4.2           1.2   \n",
       "96   97            5.7           2.9            4.2           1.3   \n",
       "97   98            6.2           2.9            4.3           1.3   \n",
       "98   99            5.1           2.5            3.0           1.1   \n",
       "99  100            5.7           2.8            4.1           1.3   \n",
       "\n",
       "            Species  \n",
       "0       Iris-setosa  \n",
       "1       Iris-setosa  \n",
       "2       Iris-setosa  \n",
       "3       Iris-setosa  \n",
       "4       Iris-setosa  \n",
       "..              ...  \n",
       "95  Iris-versicolor  \n",
       "96  Iris-versicolor  \n",
       "97  Iris-versicolor  \n",
       "98  Iris-versicolor  \n",
       "99  Iris-versicolor  \n",
       "\n",
       "[100 rows x 6 columns]"
      ]
     },
     "execution_count": 31,
     "metadata": {},
     "output_type": "execute_result"
    }
   ],
   "source": [
    "#Importing Libraries \n",
    "import matplotlib\n",
    "import matplotlib.pyplot as plt\n",
    "import pandas as pd\n",
    "import numpy as np\n",
    "from cvxopt import matrix, solvers \n",
    "from sklearn.datasets import load_iris\n",
    "ds = pd.read_csv('./Iris.csv')   #Importing Data\n",
    "iris_df = ds.iloc[0:100]\n",
    "iris_df"
   ]
  },
  {
   "cell_type": "markdown",
   "id": "4c9c066d",
   "metadata": {
    "id": "4c9c066d"
   },
   "source": [
    "### Classify classes as -1 and +1"
   ]
  },
  {
   "cell_type": "code",
   "execution_count": 33,
   "id": "5ad3db74",
   "metadata": {
    "id": "5ad3db74"
   },
   "outputs": [],
   "source": [
    "for i in range(len(iris_df)):\n",
    "    if iris_df.iloc[i,5] == 'Iris-setosa':\n",
    "        iris_df.iloc[i,5] = -1.0\n",
    "    elif iris_df.iloc[i,5] == 'Iris-versicolor':\n",
    "        iris_df.iloc[i,5] = 1.0"
   ]
  },
  {
   "cell_type": "markdown",
   "id": "8ae6f150",
   "metadata": {
    "id": "8ae6f150"
   },
   "source": [
    "### Convert to numpy"
   ]
  },
  {
   "cell_type": "code",
   "execution_count": 34,
   "id": "49d6a373",
   "metadata": {
    "colab": {
     "base_uri": "https://localhost:8080/",
     "height": 0
    },
    "id": "49d6a373",
    "outputId": "72e7325e-0828-4900-cd7f-decdbab28b03"
   },
   "outputs": [
    {
     "name": "stdout",
     "output_type": "stream",
     "text": [
      "0.1 \t 7.0\n",
      "-1.0 \t 1.0\n"
     ]
    }
   ],
   "source": [
    "x_max = max(iris_df['SepalLengthCm'].max(),iris_df['SepalWidthCm'].max(),iris_df['PetalLengthCm'].max(),iris_df['PetalWidthCm'].max()) \n",
    "x_min = min(iris_df['SepalLengthCm'].min(),iris_df['SepalWidthCm'].min(),iris_df['PetalLengthCm'].min(),iris_df['PetalWidthCm'].min()) \n",
    "print(x_min,\"\\t\", x_max)\n",
    "y_max = iris_df[\"Species\"].max()\n",
    "y_min = iris_df[\"Species\"].min()\n",
    "print(y_min,\"\\t\", y_max)\n",
    "X = iris_df[[\"Id\",\"SepalLengthCm\",\"SepalWidthCm\",\"PetalLengthCm\", \"PetalWidthCm\"]].to_numpy()\n",
    "y = iris_df[[\"Species\"]].to_numpy()"
   ]
  },
  {
   "cell_type": "markdown",
   "id": "ae825db7",
   "metadata": {
    "id": "ae825db7"
   },
   "source": [
    "## Training SVM"
   ]
  },
  {
   "cell_type": "code",
   "execution_count": 35,
   "id": "fed47d95",
   "metadata": {
    "id": "fed47d95"
   },
   "outputs": [],
   "source": [
    "n = X.shape[0]\n",
    "H = np.dot(y*X, (y*X).T)\n",
    "\n",
    "q = np.repeat([-1.0], n)[..., None]\n",
    "\n",
    "A = y.reshape(1, -1)\n",
    "b = 0.0\n",
    "\n",
    "G = np.negative(np.eye(n))\n",
    "h = np.zeros(n)"
   ]
  },
  {
   "cell_type": "code",
   "execution_count": 36,
   "id": "50206abd",
   "metadata": {
    "id": "50206abd"
   },
   "outputs": [],
   "source": [
    "H = H.astype(np.double)\n",
    "P = matrix(H)\n",
    "q = matrix(q)\n",
    "G = matrix(G)\n",
    "h = matrix(h)\n",
    "A = A.astype(np.double)\n",
    "A = matrix(A)\n",
    "b = matrix(b)"
   ]
  },
  {
   "cell_type": "code",
   "execution_count": 37,
   "id": "c1735540",
   "metadata": {
    "colab": {
     "base_uri": "https://localhost:8080/",
     "height": 0
    },
    "id": "c1735540",
    "outputId": "ed373c2c-19fb-40a1-9db7-5924aa1755a1"
   },
   "outputs": [
    {
     "name": "stdout",
     "output_type": "stream",
     "text": [
      "     pcost       dcost       gap    pres   dres\n",
      " 0: -3.3831e+00 -5.5541e+00  2e+02  1e+01  2e+00\n",
      " 1: -1.1180e+00 -1.3327e+00  2e+01  1e+00  1e-01\n",
      " 2: -4.0984e-01 -7.8046e-01  4e+00  2e-01  2e-02\n",
      " 3: -3.5502e-01 -3.3526e-01  9e-01  5e-02  5e-03\n",
      " 4: -2.8717e-01 -1.8492e-01  4e-01  2e-02  2e-03\n",
      " 5: -2.0998e-01 -1.3301e-01  2e-01  8e-03  8e-04\n",
      " 6: -1.7023e-01 -1.2926e-01  1e-01  5e-03  5e-04\n",
      " 7: -1.3714e-01 -1.1967e-01  4e-02  1e-03  1e-04\n",
      " 8: -1.1591e-01 -1.1853e-01  3e-03  1e-17  5e-14\n",
      " 9: -1.1824e-01 -1.1832e-01  8e-05  2e-17  5e-14\n",
      "10: -1.1831e-01 -1.1831e-01  2e-06  9e-18  4e-14\n",
      "11: -1.1831e-01 -1.1831e-01  2e-08  1e-17  4e-14\n",
      "Optimal solution found.\n"
     ]
    }
   ],
   "source": [
    "sol = solvers.qp(P, q, G, h, A, b)\n",
    "alphas = np.array(sol[\"x\"])"
   ]
  },
  {
   "cell_type": "code",
   "execution_count": 38,
   "id": "7aed97be",
   "metadata": {
    "colab": {
     "base_uri": "https://localhost:8080/",
     "height": 0
    },
    "id": "7aed97be",
    "outputId": "7cd17e00-b4f1-4d06-de93-85b2f7a8db22"
   },
   "outputs": [
    {
     "name": "stdout",
     "output_type": "stream",
     "text": [
      "W: [0.18444323823912354 0.20356524746476318 -0.03166894939963256\n",
      " 0.3750092548051074 0.1397740276758747]\n",
      "b: -11.688448385590783\n"
     ]
    }
   ],
   "source": [
    "w = np.dot((y * alphas).T, X)[0]\n",
    "\n",
    "S = (alphas > 1e-5).flatten()\n",
    "b = np.mean(y[S] - np.dot(X[S], w.reshape(-1,1)))\n",
    "\n",
    "print(\"W:\", w)\n",
    "print(\"b:\", b)"
   ]
  },
  {
   "cell_type": "code",
   "execution_count": 39,
   "id": "2f0c5b15",
   "metadata": {
    "colab": {
     "base_uri": "https://localhost:8080/",
     "height": 0
    },
    "id": "2f0c5b15",
    "outputId": "0fb9a3d0-e896-49d1-ee87-1fd21f86a391"
   },
   "outputs": [
    {
     "name": "stdout",
     "output_type": "stream",
     "text": [
      "Predicted : Iris-setosa i.e, -1 |\t Original:  -1.0\n",
      "Predicted : Iris-setosa i.e, -1 |\t Original:  -1.0\n",
      "Predicted : Iris-setosa i.e, -1 |\t Original:  -1.0\n",
      "Predicted : Iris-setosa i.e, -1 |\t Original:  -1.0\n",
      "Predicted : Iris-setosa i.e, -1 |\t Original:  -1.0\n",
      "Predicted : Iris-setosa i.e, -1 |\t Original:  -1.0\n",
      "Predicted : Iris-setosa i.e, -1 |\t Original:  -1.0\n",
      "Predicted : Iris-setosa i.e, -1 |\t Original:  -1.0\n",
      "Predicted : Iris-setosa i.e, -1 |\t Original:  -1.0\n",
      "Predicted : Iris-setosa i.e, -1 |\t Original:  -1.0\n",
      "Predicted : Iris-setosa i.e, -1 |\t Original:  -1.0\n",
      "Predicted : Iris-setosa i.e, -1 |\t Original:  -1.0\n",
      "Predicted : Iris-setosa i.e, -1 |\t Original:  -1.0\n",
      "Predicted : Iris-setosa i.e, -1 |\t Original:  -1.0\n",
      "Predicted : Iris-setosa i.e, -1 |\t Original:  -1.0\n",
      "Predicted : Iris-setosa i.e, -1 |\t Original:  -1.0\n",
      "Predicted : Iris-setosa i.e, -1 |\t Original:  -1.0\n",
      "Predicted : Iris-setosa i.e, -1 |\t Original:  -1.0\n",
      "Predicted : Iris-setosa i.e, -1 |\t Original:  -1.0\n",
      "Predicted : Iris-setosa i.e, -1 |\t Original:  -1.0\n",
      "Predicted : Iris-setosa i.e, -1 |\t Original:  -1.0\n",
      "Predicted : Iris-setosa i.e, -1 |\t Original:  -1.0\n",
      "Predicted : Iris-setosa i.e, -1 |\t Original:  -1.0\n",
      "Predicted : Iris-setosa i.e, -1 |\t Original:  -1.0\n",
      "Predicted : Iris-setosa i.e, -1 |\t Original:  -1.0\n",
      "Predicted : Iris-setosa i.e, -1 |\t Original:  -1.0\n",
      "Predicted : Iris-setosa i.e, -1 |\t Original:  -1.0\n",
      "Predicted : Iris-setosa i.e, -1 |\t Original:  -1.0\n",
      "Predicted : Iris-setosa i.e, -1 |\t Original:  -1.0\n",
      "Predicted : Iris-setosa i.e, -1 |\t Original:  -1.0\n",
      "Predicted : Iris-setosa i.e, -1 |\t Original:  -1.0\n",
      "Predicted : Iris-setosa i.e, -1 |\t Original:  -1.0\n",
      "Predicted : Iris-setosa i.e, -1 |\t Original:  -1.0\n",
      "Predicted : Iris-setosa i.e, -1 |\t Original:  -1.0\n",
      "Predicted : Iris-setosa i.e, -1 |\t Original:  -1.0\n",
      "Predicted : Iris-setosa i.e, -1 |\t Original:  -1.0\n",
      "Predicted : Iris-setosa i.e, -1 |\t Original:  -1.0\n",
      "Predicted : Iris-setosa i.e, -1 |\t Original:  -1.0\n",
      "Predicted : Iris-setosa i.e, -1 |\t Original:  -1.0\n",
      "Predicted : Iris-setosa i.e, -1 |\t Original:  -1.0\n",
      "Predicted : Iris-setosa i.e, -1 |\t Original:  -1.0\n",
      "Predicted : Iris-setosa i.e, -1 |\t Original:  -1.0\n",
      "Predicted : Iris-setosa i.e, -1 |\t Original:  -1.0\n",
      "Predicted : Iris-setosa i.e, -1 |\t Original:  -1.0\n",
      "Predicted : Iris-setosa i.e, -1 |\t Original:  -1.0\n",
      "Predicted : Iris-setosa i.e, -1 |\t Original:  -1.0\n",
      "Predicted : Iris-setosa i.e, -1 |\t Original:  -1.0\n",
      "Predicted : Iris-setosa i.e, -1 |\t Original:  -1.0\n",
      "Predicted : Iris-setosa i.e, -1 |\t Original:  -1.0\n",
      "Predicted : Iris-setosa i.e, -1 |\t Original:  -1.0\n",
      "Predicted : Iris-versicolor i.e, +1 |\t Original:  1.0\n",
      "Predicted : Iris-versicolor i.e, +1 |\t Original:  1.0\n",
      "Predicted : Iris-versicolor i.e, +1 |\t Original:  1.0\n",
      "Predicted : Iris-versicolor i.e, +1 |\t Original:  1.0\n",
      "Predicted : Iris-versicolor i.e, +1 |\t Original:  1.0\n",
      "Predicted : Iris-versicolor i.e, +1 |\t Original:  1.0\n",
      "Predicted : Iris-versicolor i.e, +1 |\t Original:  1.0\n",
      "Predicted : Iris-versicolor i.e, +1 |\t Original:  1.0\n",
      "Predicted : Iris-versicolor i.e, +1 |\t Original:  1.0\n",
      "Predicted : Iris-versicolor i.e, +1 |\t Original:  1.0\n",
      "Predicted : Iris-versicolor i.e, +1 |\t Original:  1.0\n",
      "Predicted : Iris-versicolor i.e, +1 |\t Original:  1.0\n",
      "Predicted : Iris-versicolor i.e, +1 |\t Original:  1.0\n",
      "Predicted : Iris-versicolor i.e, +1 |\t Original:  1.0\n",
      "Predicted : Iris-versicolor i.e, +1 |\t Original:  1.0\n",
      "Predicted : Iris-versicolor i.e, +1 |\t Original:  1.0\n",
      "Predicted : Iris-versicolor i.e, +1 |\t Original:  1.0\n",
      "Predicted : Iris-versicolor i.e, +1 |\t Original:  1.0\n",
      "Predicted : Iris-versicolor i.e, +1 |\t Original:  1.0\n",
      "Predicted : Iris-versicolor i.e, +1 |\t Original:  1.0\n",
      "Predicted : Iris-versicolor i.e, +1 |\t Original:  1.0\n",
      "Predicted : Iris-versicolor i.e, +1 |\t Original:  1.0\n",
      "Predicted : Iris-versicolor i.e, +1 |\t Original:  1.0\n",
      "Predicted : Iris-versicolor i.e, +1 |\t Original:  1.0\n",
      "Predicted : Iris-versicolor i.e, +1 |\t Original:  1.0\n",
      "Predicted : Iris-versicolor i.e, +1 |\t Original:  1.0\n",
      "Predicted : Iris-versicolor i.e, +1 |\t Original:  1.0\n",
      "Predicted : Iris-versicolor i.e, +1 |\t Original:  1.0\n",
      "Predicted : Iris-versicolor i.e, +1 |\t Original:  1.0\n",
      "Predicted : Iris-versicolor i.e, +1 |\t Original:  1.0\n",
      "Predicted : Iris-versicolor i.e, +1 |\t Original:  1.0\n",
      "Predicted : Iris-versicolor i.e, +1 |\t Original:  1.0\n",
      "Predicted : Iris-versicolor i.e, +1 |\t Original:  1.0\n",
      "Predicted : Iris-versicolor i.e, +1 |\t Original:  1.0\n",
      "Predicted : Iris-versicolor i.e, +1 |\t Original:  1.0\n",
      "Predicted : Iris-versicolor i.e, +1 |\t Original:  1.0\n",
      "Predicted : Iris-versicolor i.e, +1 |\t Original:  1.0\n",
      "Predicted : Iris-versicolor i.e, +1 |\t Original:  1.0\n",
      "Predicted : Iris-versicolor i.e, +1 |\t Original:  1.0\n",
      "Predicted : Iris-versicolor i.e, +1 |\t Original:  1.0\n",
      "Predicted : Iris-versicolor i.e, +1 |\t Original:  1.0\n",
      "Predicted : Iris-versicolor i.e, +1 |\t Original:  1.0\n",
      "Predicted : Iris-versicolor i.e, +1 |\t Original:  1.0\n",
      "Predicted : Iris-versicolor i.e, +1 |\t Original:  1.0\n",
      "Predicted : Iris-versicolor i.e, +1 |\t Original:  1.0\n",
      "Predicted : Iris-versicolor i.e, +1 |\t Original:  1.0\n",
      "Predicted : Iris-versicolor i.e, +1 |\t Original:  1.0\n",
      "Predicted : Iris-versicolor i.e, +1 |\t Original:  1.0\n",
      "Predicted : Iris-versicolor i.e, +1 |\t Original:  1.0\n"
     ]
    }
   ],
   "source": [
    "# Predicting from model\n",
    "\n",
    "predictions = np.dot(X,w)+b\n",
    "for i in range(len(iris_df)):\n",
    "    if predictions[i]<=-1:\n",
    "        print(\"Predicted : Iris-setosa i.e, -1 |\\t Original: \", ds[\"Species\"][i] )\n",
    "    elif predictions[i]>=1:\n",
    "        print(\"Predicted : Iris-versicolor i.e, +1 |\\t Original: \", ds[\"Species\"][i] )"
   ]
  }
 ],
 "metadata": {
  "colab": {
   "collapsed_sections": [],
   "name": "197139_6_Q2.ipynb",
   "provenance": []
  },
  "kernelspec": {
   "display_name": "Python 3 (ipykernel)",
   "language": "python",
   "name": "python3"
  },
  "language_info": {
   "codemirror_mode": {
    "name": "ipython",
    "version": 3
   },
   "file_extension": ".py",
   "mimetype": "text/x-python",
   "name": "python",
   "nbconvert_exporter": "python",
   "pygments_lexer": "ipython3",
   "version": "3.9.7"
  }
 },
 "nbformat": 4,
 "nbformat_minor": 5
}
