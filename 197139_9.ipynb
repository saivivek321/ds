{
 "cells": [
  {
   "cell_type": "markdown",
   "metadata": {},
   "source": [
    "# Kadali Sai Vivek\n",
    "# DS Lab Assignment 9\n",
    "# 197139"
   ]
  },
  {
   "cell_type": "markdown",
   "metadata": {
    "id": "CkqP-Gc8g7cX"
   },
   "source": [
    "1. Implement Principal Component Analysis from scratch in Python for the following dataset and show the\n",
    "following steps below."
   ]
  },
  {
   "cell_type": "code",
   "execution_count": null,
   "metadata": {
    "id": "fSMGpESVlgjp"
   },
   "outputs": [],
   "source": [
    "#Importing Required Libraries\n",
    "import pandas as pd\n",
    "import numpy as np\n",
    "\n",
    "from sklearn.preprocessing import StandardScaler\n",
    "\n",
    "from math import sqrt\n",
    "import matplotlib.pyplot as plt\n"
   ]
  },
  {
   "cell_type": "markdown",
   "metadata": {
    "id": "WzJvI3Fdqmkb"
   },
   "source": [
    "a. Dataset: https://archive.ics.uci.edu/ml/datasets/iris"
   ]
  },
  {
   "cell_type": "code",
   "execution_count": null,
   "metadata": {
    "colab": {
     "base_uri": "https://localhost:8080/",
     "height": 74,
     "resources": {
      "http://localhost:8080/nbextensions/google.colab/files.js": {
       "data": "Ly8gQ29weXJpZ2h0IDIwMTcgR29vZ2xlIExMQwovLwovLyBMaWNlbnNlZCB1bmRlciB0aGUgQXBhY2hlIExpY2Vuc2UsIFZlcnNpb24gMi4wICh0aGUgIkxpY2Vuc2UiKTsKLy8geW91IG1heSBub3QgdXNlIHRoaXMgZmlsZSBleGNlcHQgaW4gY29tcGxpYW5jZSB3aXRoIHRoZSBMaWNlbnNlLgovLyBZb3UgbWF5IG9idGFpbiBhIGNvcHkgb2YgdGhlIExpY2Vuc2UgYXQKLy8KLy8gICAgICBodHRwOi8vd3d3LmFwYWNoZS5vcmcvbGljZW5zZXMvTElDRU5TRS0yLjAKLy8KLy8gVW5sZXNzIHJlcXVpcmVkIGJ5IGFwcGxpY2FibGUgbGF3IG9yIGFncmVlZCB0byBpbiB3cml0aW5nLCBzb2Z0d2FyZQovLyBkaXN0cmlidXRlZCB1bmRlciB0aGUgTGljZW5zZSBpcyBkaXN0cmlidXRlZCBvbiBhbiAiQVMgSVMiIEJBU0lTLAovLyBXSVRIT1VUIFdBUlJBTlRJRVMgT1IgQ09ORElUSU9OUyBPRiBBTlkgS0lORCwgZWl0aGVyIGV4cHJlc3Mgb3IgaW1wbGllZC4KLy8gU2VlIHRoZSBMaWNlbnNlIGZvciB0aGUgc3BlY2lmaWMgbGFuZ3VhZ2UgZ292ZXJuaW5nIHBlcm1pc3Npb25zIGFuZAovLyBsaW1pdGF0aW9ucyB1bmRlciB0aGUgTGljZW5zZS4KCi8qKgogKiBAZmlsZW92ZXJ2aWV3IEhlbHBlcnMgZm9yIGdvb2dsZS5jb2xhYiBQeXRob24gbW9kdWxlLgogKi8KKGZ1bmN0aW9uKHNjb3BlKSB7CmZ1bmN0aW9uIHNwYW4odGV4dCwgc3R5bGVBdHRyaWJ1dGVzID0ge30pIHsKICBjb25zdCBlbGVtZW50ID0gZG9jdW1lbnQuY3JlYXRlRWxlbWVudCgnc3BhbicpOwogIGVsZW1lbnQudGV4dENvbnRlbnQgPSB0ZXh0OwogIGZvciAoY29uc3Qga2V5IG9mIE9iamVjdC5rZXlzKHN0eWxlQXR0cmlidXRlcykpIHsKICAgIGVsZW1lbnQuc3R5bGVba2V5XSA9IHN0eWxlQXR0cmlidXRlc1trZXldOwogIH0KICByZXR1cm4gZWxlbWVudDsKfQoKLy8gTWF4IG51bWJlciBvZiBieXRlcyB3aGljaCB3aWxsIGJlIHVwbG9hZGVkIGF0IGEgdGltZS4KY29uc3QgTUFYX1BBWUxPQURfU0laRSA9IDEwMCAqIDEwMjQ7CgpmdW5jdGlvbiBfdXBsb2FkRmlsZXMoaW5wdXRJZCwgb3V0cHV0SWQpIHsKICBjb25zdCBzdGVwcyA9IHVwbG9hZEZpbGVzU3RlcChpbnB1dElkLCBvdXRwdXRJZCk7CiAgY29uc3Qgb3V0cHV0RWxlbWVudCA9IGRvY3VtZW50LmdldEVsZW1lbnRCeUlkKG91dHB1dElkKTsKICAvLyBDYWNoZSBzdGVwcyBvbiB0aGUgb3V0cHV0RWxlbWVudCB0byBtYWtlIGl0IGF2YWlsYWJsZSBmb3IgdGhlIG5leHQgY2FsbAogIC8vIHRvIHVwbG9hZEZpbGVzQ29udGludWUgZnJvbSBQeXRob24uCiAgb3V0cHV0RWxlbWVudC5zdGVwcyA9IHN0ZXBzOwoKICByZXR1cm4gX3VwbG9hZEZpbGVzQ29udGludWUob3V0cHV0SWQpOwp9CgovLyBUaGlzIGlzIHJvdWdobHkgYW4gYXN5bmMgZ2VuZXJhdG9yIChub3Qgc3VwcG9ydGVkIGluIHRoZSBicm93c2VyIHlldCksCi8vIHdoZXJlIHRoZXJlIGFyZSBtdWx0aXBsZSBhc3luY2hyb25vdXMgc3RlcHMgYW5kIHRoZSBQeXRob24gc2lkZSBpcyBnb2luZwovLyB0byBwb2xsIGZvciBjb21wbGV0aW9uIG9mIGVhY2ggc3RlcC4KLy8gVGhpcyB1c2VzIGEgUHJvbWlzZSB0byBibG9jayB0aGUgcHl0aG9uIHNpZGUgb24gY29tcGxldGlvbiBvZiBlYWNoIHN0ZXAsCi8vIHRoZW4gcGFzc2VzIHRoZSByZXN1bHQgb2YgdGhlIHByZXZpb3VzIHN0ZXAgYXMgdGhlIGlucHV0IHRvIHRoZSBuZXh0IHN0ZXAuCmZ1bmN0aW9uIF91cGxvYWRGaWxlc0NvbnRpbnVlKG91dHB1dElkKSB7CiAgY29uc3Qgb3V0cHV0RWxlbWVudCA9IGRvY3VtZW50LmdldEVsZW1lbnRCeUlkKG91dHB1dElkKTsKICBjb25zdCBzdGVwcyA9IG91dHB1dEVsZW1lbnQuc3RlcHM7CgogIGNvbnN0IG5leHQgPSBzdGVwcy5uZXh0KG91dHB1dEVsZW1lbnQubGFzdFByb21pc2VWYWx1ZSk7CiAgcmV0dXJuIFByb21pc2UucmVzb2x2ZShuZXh0LnZhbHVlLnByb21pc2UpLnRoZW4oKHZhbHVlKSA9PiB7CiAgICAvLyBDYWNoZSB0aGUgbGFzdCBwcm9taXNlIHZhbHVlIHRvIG1ha2UgaXQgYXZhaWxhYmxlIHRvIHRoZSBuZXh0CiAgICAvLyBzdGVwIG9mIHRoZSBnZW5lcmF0b3IuCiAgICBvdXRwdXRFbGVtZW50Lmxhc3RQcm9taXNlVmFsdWUgPSB2YWx1ZTsKICAgIHJldHVybiBuZXh0LnZhbHVlLnJlc3BvbnNlOwogIH0pOwp9CgovKioKICogR2VuZXJhdG9yIGZ1bmN0aW9uIHdoaWNoIGlzIGNhbGxlZCBiZXR3ZWVuIGVhY2ggYXN5bmMgc3RlcCBvZiB0aGUgdXBsb2FkCiAqIHByb2Nlc3MuCiAqIEBwYXJhbSB7c3RyaW5nfSBpbnB1dElkIEVsZW1lbnQgSUQgb2YgdGhlIGlucHV0IGZpbGUgcGlja2VyIGVsZW1lbnQuCiAqIEBwYXJhbSB7c3RyaW5nfSBvdXRwdXRJZCBFbGVtZW50IElEIG9mIHRoZSBvdXRwdXQgZGlzcGxheS4KICogQHJldHVybiB7IUl0ZXJhYmxlPCFPYmplY3Q+fSBJdGVyYWJsZSBvZiBuZXh0IHN0ZXBzLgogKi8KZnVuY3Rpb24qIHVwbG9hZEZpbGVzU3RlcChpbnB1dElkLCBvdXRwdXRJZCkgewogIGNvbnN0IGlucHV0RWxlbWVudCA9IGRvY3VtZW50LmdldEVsZW1lbnRCeUlkKGlucHV0SWQpOwogIGlucHV0RWxlbWVudC5kaXNhYmxlZCA9IGZhbHNlOwoKICBjb25zdCBvdXRwdXRFbGVtZW50ID0gZG9jdW1lbnQuZ2V0RWxlbWVudEJ5SWQob3V0cHV0SWQpOwogIG91dHB1dEVsZW1lbnQuaW5uZXJIVE1MID0gJyc7CgogIGNvbnN0IHBpY2tlZFByb21pc2UgPSBuZXcgUHJvbWlzZSgocmVzb2x2ZSkgPT4gewogICAgaW5wdXRFbGVtZW50LmFkZEV2ZW50TGlzdGVuZXIoJ2NoYW5nZScsIChlKSA9PiB7CiAgICAgIHJlc29sdmUoZS50YXJnZXQuZmlsZXMpOwogICAgfSk7CiAgfSk7CgogIGNvbnN0IGNhbmNlbCA9IGRvY3VtZW50LmNyZWF0ZUVsZW1lbnQoJ2J1dHRvbicpOwogIGlucHV0RWxlbWVudC5wYXJlbnRFbGVtZW50LmFwcGVuZENoaWxkKGNhbmNlbCk7CiAgY2FuY2VsLnRleHRDb250ZW50ID0gJ0NhbmNlbCB1cGxvYWQnOwogIGNvbnN0IGNhbmNlbFByb21pc2UgPSBuZXcgUHJvbWlzZSgocmVzb2x2ZSkgPT4gewogICAgY2FuY2VsLm9uY2xpY2sgPSAoKSA9PiB7CiAgICAgIHJlc29sdmUobnVsbCk7CiAgICB9OwogIH0pOwoKICAvLyBXYWl0IGZvciB0aGUgdXNlciB0byBwaWNrIHRoZSBmaWxlcy4KICBjb25zdCBmaWxlcyA9IHlpZWxkIHsKICAgIHByb21pc2U6IFByb21pc2UucmFjZShbcGlja2VkUHJvbWlzZSwgY2FuY2VsUHJvbWlzZV0pLAogICAgcmVzcG9uc2U6IHsKICAgICAgYWN0aW9uOiAnc3RhcnRpbmcnLAogICAgfQogIH07CgogIGNhbmNlbC5yZW1vdmUoKTsKCiAgLy8gRGlzYWJsZSB0aGUgaW5wdXQgZWxlbWVudCBzaW5jZSBmdXJ0aGVyIHBpY2tzIGFyZSBub3QgYWxsb3dlZC4KICBpbnB1dEVsZW1lbnQuZGlzYWJsZWQgPSB0cnVlOwoKICBpZiAoIWZpbGVzKSB7CiAgICByZXR1cm4gewogICAgICByZXNwb25zZTogewogICAgICAgIGFjdGlvbjogJ2NvbXBsZXRlJywKICAgICAgfQogICAgfTsKICB9CgogIGZvciAoY29uc3QgZmlsZSBvZiBmaWxlcykgewogICAgY29uc3QgbGkgPSBkb2N1bWVudC5jcmVhdGVFbGVtZW50KCdsaScpOwogICAgbGkuYXBwZW5kKHNwYW4oZmlsZS5uYW1lLCB7Zm9udFdlaWdodDogJ2JvbGQnfSkpOwogICAgbGkuYXBwZW5kKHNwYW4oCiAgICAgICAgYCgke2ZpbGUudHlwZSB8fCAnbi9hJ30pIC0gJHtmaWxlLnNpemV9IGJ5dGVzLCBgICsKICAgICAgICBgbGFzdCBtb2RpZmllZDogJHsKICAgICAgICAgICAgZmlsZS5sYXN0TW9kaWZpZWREYXRlID8gZmlsZS5sYXN0TW9kaWZpZWREYXRlLnRvTG9jYWxlRGF0ZVN0cmluZygpIDoKICAgICAgICAgICAgICAgICAgICAgICAgICAgICAgICAgICAgJ24vYSd9IC0gYCkpOwogICAgY29uc3QgcGVyY2VudCA9IHNwYW4oJzAlIGRvbmUnKTsKICAgIGxpLmFwcGVuZENoaWxkKHBlcmNlbnQpOwoKICAgIG91dHB1dEVsZW1lbnQuYXBwZW5kQ2hpbGQobGkpOwoKICAgIGNvbnN0IGZpbGVEYXRhUHJvbWlzZSA9IG5ldyBQcm9taXNlKChyZXNvbHZlKSA9PiB7CiAgICAgIGNvbnN0IHJlYWRlciA9IG5ldyBGaWxlUmVhZGVyKCk7CiAgICAgIHJlYWRlci5vbmxvYWQgPSAoZSkgPT4gewogICAgICAgIHJlc29sdmUoZS50YXJnZXQucmVzdWx0KTsKICAgICAgfTsKICAgICAgcmVhZGVyLnJlYWRBc0FycmF5QnVmZmVyKGZpbGUpOwogICAgfSk7CiAgICAvLyBXYWl0IGZvciB0aGUgZGF0YSB0byBiZSByZWFkeS4KICAgIGxldCBmaWxlRGF0YSA9IHlpZWxkIHsKICAgICAgcHJvbWlzZTogZmlsZURhdGFQcm9taXNlLAogICAgICByZXNwb25zZTogewogICAgICAgIGFjdGlvbjogJ2NvbnRpbnVlJywKICAgICAgfQogICAgfTsKCiAgICAvLyBVc2UgYSBjaHVua2VkIHNlbmRpbmcgdG8gYXZvaWQgbWVzc2FnZSBzaXplIGxpbWl0cy4gU2VlIGIvNjIxMTU2NjAuCiAgICBsZXQgcG9zaXRpb24gPSAwOwogICAgZG8gewogICAgICBjb25zdCBsZW5ndGggPSBNYXRoLm1pbihmaWxlRGF0YS5ieXRlTGVuZ3RoIC0gcG9zaXRpb24sIE1BWF9QQVlMT0FEX1NJWkUpOwogICAgICBjb25zdCBjaHVuayA9IG5ldyBVaW50OEFycmF5KGZpbGVEYXRhLCBwb3NpdGlvbiwgbGVuZ3RoKTsKICAgICAgcG9zaXRpb24gKz0gbGVuZ3RoOwoKICAgICAgY29uc3QgYmFzZTY0ID0gYnRvYShTdHJpbmcuZnJvbUNoYXJDb2RlLmFwcGx5KG51bGwsIGNodW5rKSk7CiAgICAgIHlpZWxkIHsKICAgICAgICByZXNwb25zZTogewogICAgICAgICAgYWN0aW9uOiAnYXBwZW5kJywKICAgICAgICAgIGZpbGU6IGZpbGUubmFtZSwKICAgICAgICAgIGRhdGE6IGJhc2U2NCwKICAgICAgICB9LAogICAgICB9OwoKICAgICAgbGV0IHBlcmNlbnREb25lID0gZmlsZURhdGEuYnl0ZUxlbmd0aCA9PT0gMCA/CiAgICAgICAgICAxMDAgOgogICAgICAgICAgTWF0aC5yb3VuZCgocG9zaXRpb24gLyBmaWxlRGF0YS5ieXRlTGVuZ3RoKSAqIDEwMCk7CiAgICAgIHBlcmNlbnQudGV4dENvbnRlbnQgPSBgJHtwZXJjZW50RG9uZX0lIGRvbmVgOwoKICAgIH0gd2hpbGUgKHBvc2l0aW9uIDwgZmlsZURhdGEuYnl0ZUxlbmd0aCk7CiAgfQoKICAvLyBBbGwgZG9uZS4KICB5aWVsZCB7CiAgICByZXNwb25zZTogewogICAgICBhY3Rpb246ICdjb21wbGV0ZScsCiAgICB9CiAgfTsKfQoKc2NvcGUuZ29vZ2xlID0gc2NvcGUuZ29vZ2xlIHx8IHt9OwpzY29wZS5nb29nbGUuY29sYWIgPSBzY29wZS5nb29nbGUuY29sYWIgfHwge307CnNjb3BlLmdvb2dsZS5jb2xhYi5fZmlsZXMgPSB7CiAgX3VwbG9hZEZpbGVzLAogIF91cGxvYWRGaWxlc0NvbnRpbnVlLAp9Owp9KShzZWxmKTsK",
       "headers": [
        [
         "content-type",
         "application/javascript"
        ]
       ],
       "ok": true,
       "status": 200,
       "status_text": "OK"
      }
     }
    },
    "id": "ytPpRwvEg3Gk",
    "outputId": "86c528e1-7034-4d36-d457-37b061ca1715"
   },
   "outputs": [
    {
     "data": {
      "text/html": [
       "\n",
       "     <input type=\"file\" id=\"files-f3cd876c-b521-4c03-9f3e-20f83bc58b31\" name=\"files[]\" multiple disabled\n",
       "        style=\"border:none\" />\n",
       "     <output id=\"result-f3cd876c-b521-4c03-9f3e-20f83bc58b31\">\n",
       "      Upload widget is only available when the cell has been executed in the\n",
       "      current browser session. Please rerun this cell to enable.\n",
       "      </output>\n",
       "      <script src=\"/nbextensions/google.colab/files.js\"></script> "
      ],
      "text/plain": [
       "<IPython.core.display.HTML object>"
      ]
     },
     "metadata": {},
     "output_type": "display_data"
    },
    {
     "name": "stdout",
     "output_type": "stream",
     "text": [
      "Saving Iris.csv to Iris.csv\n"
     ]
    }
   ],
   "source": [
    "from google.colab import files\n",
    "uploaded=files.upload()"
   ]
  },
  {
   "cell_type": "code",
   "execution_count": null,
   "metadata": {
    "colab": {
     "base_uri": "https://localhost:8080/",
     "height": 467
    },
    "id": "5jdn6E8clbLh",
    "outputId": "6546c87c-a541-426a-f15f-61f089a942ce"
   },
   "outputs": [
    {
     "data": {
      "text/html": [
       "\n",
       "  <div id=\"df-58db9521-e12a-4100-8231-ef7a4598c3fd\">\n",
       "    <div class=\"colab-df-container\">\n",
       "      <div>\n",
       "<style scoped>\n",
       "    .dataframe tbody tr th:only-of-type {\n",
       "        vertical-align: middle;\n",
       "    }\n",
       "\n",
       "    .dataframe tbody tr th {\n",
       "        vertical-align: top;\n",
       "    }\n",
       "\n",
       "    .dataframe thead th {\n",
       "        text-align: right;\n",
       "    }\n",
       "</style>\n",
       "<table border=\"1\" class=\"dataframe\">\n",
       "  <thead>\n",
       "    <tr style=\"text-align: right;\">\n",
       "      <th></th>\n",
       "      <th>Id</th>\n",
       "      <th>SepalLengthCm</th>\n",
       "      <th>SepalWidthCm</th>\n",
       "      <th>PetalLengthCm</th>\n",
       "      <th>PetalWidthCm</th>\n",
       "      <th>Species</th>\n",
       "    </tr>\n",
       "  </thead>\n",
       "  <tbody>\n",
       "    <tr>\n",
       "      <th>0</th>\n",
       "      <td>1</td>\n",
       "      <td>5.1</td>\n",
       "      <td>3.5</td>\n",
       "      <td>1.4</td>\n",
       "      <td>0.2</td>\n",
       "      <td>Iris-setosa</td>\n",
       "    </tr>\n",
       "    <tr>\n",
       "      <th>1</th>\n",
       "      <td>2</td>\n",
       "      <td>4.9</td>\n",
       "      <td>3.0</td>\n",
       "      <td>1.4</td>\n",
       "      <td>0.2</td>\n",
       "      <td>Iris-setosa</td>\n",
       "    </tr>\n",
       "    <tr>\n",
       "      <th>2</th>\n",
       "      <td>3</td>\n",
       "      <td>4.7</td>\n",
       "      <td>3.2</td>\n",
       "      <td>1.3</td>\n",
       "      <td>0.2</td>\n",
       "      <td>Iris-setosa</td>\n",
       "    </tr>\n",
       "    <tr>\n",
       "      <th>3</th>\n",
       "      <td>4</td>\n",
       "      <td>4.6</td>\n",
       "      <td>3.1</td>\n",
       "      <td>1.5</td>\n",
       "      <td>0.2</td>\n",
       "      <td>Iris-setosa</td>\n",
       "    </tr>\n",
       "    <tr>\n",
       "      <th>4</th>\n",
       "      <td>5</td>\n",
       "      <td>5.0</td>\n",
       "      <td>3.6</td>\n",
       "      <td>1.4</td>\n",
       "      <td>0.2</td>\n",
       "      <td>Iris-setosa</td>\n",
       "    </tr>\n",
       "    <tr>\n",
       "      <th>...</th>\n",
       "      <td>...</td>\n",
       "      <td>...</td>\n",
       "      <td>...</td>\n",
       "      <td>...</td>\n",
       "      <td>...</td>\n",
       "      <td>...</td>\n",
       "    </tr>\n",
       "    <tr>\n",
       "      <th>145</th>\n",
       "      <td>146</td>\n",
       "      <td>6.7</td>\n",
       "      <td>3.0</td>\n",
       "      <td>5.2</td>\n",
       "      <td>2.3</td>\n",
       "      <td>Iris-virginica</td>\n",
       "    </tr>\n",
       "    <tr>\n",
       "      <th>146</th>\n",
       "      <td>147</td>\n",
       "      <td>6.3</td>\n",
       "      <td>2.5</td>\n",
       "      <td>5.0</td>\n",
       "      <td>1.9</td>\n",
       "      <td>Iris-virginica</td>\n",
       "    </tr>\n",
       "    <tr>\n",
       "      <th>147</th>\n",
       "      <td>148</td>\n",
       "      <td>6.5</td>\n",
       "      <td>3.0</td>\n",
       "      <td>5.2</td>\n",
       "      <td>2.0</td>\n",
       "      <td>Iris-virginica</td>\n",
       "    </tr>\n",
       "    <tr>\n",
       "      <th>148</th>\n",
       "      <td>149</td>\n",
       "      <td>6.2</td>\n",
       "      <td>3.4</td>\n",
       "      <td>5.4</td>\n",
       "      <td>2.3</td>\n",
       "      <td>Iris-virginica</td>\n",
       "    </tr>\n",
       "    <tr>\n",
       "      <th>149</th>\n",
       "      <td>150</td>\n",
       "      <td>5.9</td>\n",
       "      <td>3.0</td>\n",
       "      <td>5.1</td>\n",
       "      <td>1.8</td>\n",
       "      <td>Iris-virginica</td>\n",
       "    </tr>\n",
       "  </tbody>\n",
       "</table>\n",
       "<p>150 rows × 6 columns</p>\n",
       "</div>\n",
       "      <button class=\"colab-df-convert\" onclick=\"convertToInteractive('df-58db9521-e12a-4100-8231-ef7a4598c3fd')\"\n",
       "              title=\"Convert this dataframe to an interactive table.\"\n",
       "              style=\"display:none;\">\n",
       "        \n",
       "  <svg xmlns=\"http://www.w3.org/2000/svg\" height=\"24px\"viewBox=\"0 0 24 24\"\n",
       "       width=\"24px\">\n",
       "    <path d=\"M0 0h24v24H0V0z\" fill=\"none\"/>\n",
       "    <path d=\"M18.56 5.44l.94 2.06.94-2.06 2.06-.94-2.06-.94-.94-2.06-.94 2.06-2.06.94zm-11 1L8.5 8.5l.94-2.06 2.06-.94-2.06-.94L8.5 2.5l-.94 2.06-2.06.94zm10 10l.94 2.06.94-2.06 2.06-.94-2.06-.94-.94-2.06-.94 2.06-2.06.94z\"/><path d=\"M17.41 7.96l-1.37-1.37c-.4-.4-.92-.59-1.43-.59-.52 0-1.04.2-1.43.59L10.3 9.45l-7.72 7.72c-.78.78-.78 2.05 0 2.83L4 21.41c.39.39.9.59 1.41.59.51 0 1.02-.2 1.41-.59l7.78-7.78 2.81-2.81c.8-.78.8-2.07 0-2.86zM5.41 20L4 18.59l7.72-7.72 1.47 1.35L5.41 20z\"/>\n",
       "  </svg>\n",
       "      </button>\n",
       "      \n",
       "  <style>\n",
       "    .colab-df-container {\n",
       "      display:flex;\n",
       "      flex-wrap:wrap;\n",
       "      gap: 12px;\n",
       "    }\n",
       "\n",
       "    .colab-df-convert {\n",
       "      background-color: #E8F0FE;\n",
       "      border: none;\n",
       "      border-radius: 50%;\n",
       "      cursor: pointer;\n",
       "      display: none;\n",
       "      fill: #1967D2;\n",
       "      height: 32px;\n",
       "      padding: 0 0 0 0;\n",
       "      width: 32px;\n",
       "    }\n",
       "\n",
       "    .colab-df-convert:hover {\n",
       "      background-color: #E2EBFA;\n",
       "      box-shadow: 0px 1px 2px rgba(60, 64, 67, 0.3), 0px 1px 3px 1px rgba(60, 64, 67, 0.15);\n",
       "      fill: #174EA6;\n",
       "    }\n",
       "\n",
       "    [theme=dark] .colab-df-convert {\n",
       "      background-color: #3B4455;\n",
       "      fill: #D2E3FC;\n",
       "    }\n",
       "\n",
       "    [theme=dark] .colab-df-convert:hover {\n",
       "      background-color: #434B5C;\n",
       "      box-shadow: 0px 1px 3px 1px rgba(0, 0, 0, 0.15);\n",
       "      filter: drop-shadow(0px 1px 2px rgba(0, 0, 0, 0.3));\n",
       "      fill: #FFFFFF;\n",
       "    }\n",
       "  </style>\n",
       "\n",
       "      <script>\n",
       "        const buttonEl =\n",
       "          document.querySelector('#df-58db9521-e12a-4100-8231-ef7a4598c3fd button.colab-df-convert');\n",
       "        buttonEl.style.display =\n",
       "          google.colab.kernel.accessAllowed ? 'block' : 'none';\n",
       "\n",
       "        async function convertToInteractive(key) {\n",
       "          const element = document.querySelector('#df-58db9521-e12a-4100-8231-ef7a4598c3fd');\n",
       "          const dataTable =\n",
       "            await google.colab.kernel.invokeFunction('convertToInteractive',\n",
       "                                                     [key], {});\n",
       "          if (!dataTable) return;\n",
       "\n",
       "          const docLinkHtml = 'Like what you see? Visit the ' +\n",
       "            '<a target=\"_blank\" href=https://colab.research.google.com/notebooks/data_table.ipynb>data table notebook</a>'\n",
       "            + ' to learn more about interactive tables.';\n",
       "          element.innerHTML = '';\n",
       "          dataTable['output_type'] = 'display_data';\n",
       "          await google.colab.output.renderOutput(dataTable, element);\n",
       "          const docLink = document.createElement('div');\n",
       "          docLink.innerHTML = docLinkHtml;\n",
       "          element.appendChild(docLink);\n",
       "        }\n",
       "      </script>\n",
       "    </div>\n",
       "  </div>\n",
       "  "
      ],
      "text/plain": [
       "      Id  SepalLengthCm  SepalWidthCm  PetalLengthCm  PetalWidthCm  \\\n",
       "0      1            5.1           3.5            1.4           0.2   \n",
       "1      2            4.9           3.0            1.4           0.2   \n",
       "2      3            4.7           3.2            1.3           0.2   \n",
       "3      4            4.6           3.1            1.5           0.2   \n",
       "4      5            5.0           3.6            1.4           0.2   \n",
       "..   ...            ...           ...            ...           ...   \n",
       "145  146            6.7           3.0            5.2           2.3   \n",
       "146  147            6.3           2.5            5.0           1.9   \n",
       "147  148            6.5           3.0            5.2           2.0   \n",
       "148  149            6.2           3.4            5.4           2.3   \n",
       "149  150            5.9           3.0            5.1           1.8   \n",
       "\n",
       "            Species  \n",
       "0       Iris-setosa  \n",
       "1       Iris-setosa  \n",
       "2       Iris-setosa  \n",
       "3       Iris-setosa  \n",
       "4       Iris-setosa  \n",
       "..              ...  \n",
       "145  Iris-virginica  \n",
       "146  Iris-virginica  \n",
       "147  Iris-virginica  \n",
       "148  Iris-virginica  \n",
       "149  Iris-virginica  \n",
       "\n",
       "[150 rows x 6 columns]"
      ]
     },
     "execution_count": 24,
     "metadata": {},
     "output_type": "execute_result"
    }
   ],
   "source": [
    "#importing Data\n",
    "dataset= pd.read_csv('Iris.csv')           \n",
    "dataset"
   ]
  },
  {
   "cell_type": "markdown",
   "metadata": {
    "id": "NV-4ounkqqRn"
   },
   "source": [
    "b. Scale the dataset."
   ]
  },
  {
   "cell_type": "code",
   "execution_count": null,
   "metadata": {
    "colab": {
     "base_uri": "https://localhost:8080/"
    },
    "id": "LB7fuEMImA9r",
    "outputId": "5ce7b5ed-cfcc-4021-c10b-bfd9b80f26e0"
   },
   "outputs": [
    {
     "name": "stdout",
     "output_type": "stream",
     "text": [
      "X Shape :  (150, 4)\n",
      "Y Shape :  (150,)\n"
     ]
    }
   ],
   "source": [
    "X, Y = dataset.drop(columns = [\"Id\", \"Species\"]), dataset['Species']\n",
    "\n",
    "# using StandardScaler from sklearn.preprocessing\n",
    "scaler = StandardScaler()\n",
    "X = scaler.fit_transform(X)\n",
    "\n",
    "print(\"X Shape : \",X.shape)\n",
    "\n",
    "# Converting String into integer for target Variable\n",
    "for i in range(len(Y)):\n",
    "  if Y.iat[i] == \"Iris-setosa\":\n",
    "    Y.iat[i] = 0\n",
    "  if Y.iat[i] == \"Iris-versicolor\":\n",
    "    Y.iat[i] = 1\n",
    "  if Y.iat[i] == \"Iris-virginica\":\n",
    "    Y.iat[i] = 2\n",
    "\n",
    "print(\"Y Shape : \",Y.shape)"
   ]
  },
  {
   "cell_type": "markdown",
   "metadata": {
    "id": "msSf33ENqsGD"
   },
   "source": [
    "c. Calculate the covariance matrix for the features in the dataset."
   ]
  },
  {
   "cell_type": "code",
   "execution_count": null,
   "metadata": {
    "colab": {
     "base_uri": "https://localhost:8080/"
    },
    "id": "SpthMgwim7sG",
    "outputId": "58f60f0f-fbc5-44f7-f2fc-cfae44bb9245"
   },
   "outputs": [
    {
     "name": "stdout",
     "output_type": "stream",
     "text": [
      "(4, 4)\n",
      "[[ 1.         -0.10936925  0.87175416  0.81795363]\n",
      " [-0.10936925  1.         -0.4205161  -0.35654409]\n",
      " [ 0.87175416 -0.4205161   1.          0.9627571 ]\n",
      " [ 0.81795363 -0.35654409  0.9627571   1.        ]]\n"
     ]
    }
   ],
   "source": [
    "#Calculating the covariance matrix for the features in the dataset.\n",
    "n=X.shape[0]   \n",
    "Covariance=np.dot(X.T,X)/(n)\n",
    "print(Covariance.shape)\n",
    "print(Covariance)"
   ]
  },
  {
   "cell_type": "markdown",
   "metadata": {
    "id": "LuPNTVdNq8R9"
   },
   "source": [
    "d. Calculate the eigenvalues and eigenvectors for the covariance matrix.\n",
    "\n",
    "e. Sort eigenvalues and their corresponding eigenvectors.\n",
    "\n"
   ]
  },
  {
   "cell_type": "code",
   "execution_count": null,
   "metadata": {
    "colab": {
     "base_uri": "https://localhost:8080/"
    },
    "id": "baCZcQvDpRc7",
    "outputId": "847f40d6-84f4-43ce-b49c-981ad2f902d6"
   },
   "outputs": [
    {
     "name": "stdout",
     "output_type": "stream",
     "text": [
      "Eigen Values :  [2.91081808 0.92122093 0.14735328 0.02060771]\n",
      "Eigen Vector :\n",
      " [[ 0.52237162 -0.37231836 -0.72101681  0.26199559]\n",
      " [-0.26335492 -0.92555649  0.24203288 -0.12413481]\n",
      " [ 0.58125401 -0.02109478  0.14089226 -0.80115427]\n",
      " [ 0.56561105 -0.06541577  0.6338014   0.52354627]]\n",
      "\n",
      "\n",
      "Sorted Eigen Values :  [2.91081808 0.92122093 0.14735328 0.02060771]\n",
      "\n",
      "Sorted Eigen Vector :\n",
      " [[ 0.52237162 -0.37231836 -0.72101681  0.26199559]\n",
      " [-0.26335492 -0.92555649  0.24203288 -0.12413481]\n",
      " [ 0.58125401 -0.02109478  0.14089226 -0.80115427]\n",
      " [ 0.56561105 -0.06541577  0.6338014   0.52354627]]\n"
     ]
    }
   ],
   "source": [
    "# Calculate the eigenvalues and eigenvectors for the covariance matrix.\n",
    "def get_eigenvectors(C):\n",
    "    eigenvalues, eigenvectors = np.linalg.eig(C)\n",
    "    print(\"Eigen Values : \",eigenvalues)\n",
    "    print(\"Eigen Vector :\\n\",eigenvectors)\n",
    "    \n",
    "    # Sort eigenvalues descending and select columns based on n_components\n",
    "    n_cols = np.flip(np.argsort(eigenvalues))\n",
    "    selected_vectors = eigenvectors[:, n_cols]\n",
    "    return np.flip(np.sort(eigenvalues)),selected_vectors\n",
    "\n",
    "eigenvalues,eigenvectors = get_eigenvectors(Covariance)\n",
    "\n",
    "print(\"\\n\\nSorted Eigen Values : \",eigenvalues)\n",
    "print(\"\\nSorted Eigen Vector :\\n\",eigenvectors)"
   ]
  },
  {
   "cell_type": "markdown",
   "metadata": {
    "id": "vajmNJBSrBp2"
   },
   "source": [
    "f. Plot the principal components and percentage of explained variances."
   ]
  },
  {
   "cell_type": "code",
   "execution_count": null,
   "metadata": {
    "colab": {
     "base_uri": "https://localhost:8080/",
     "height": 334
    },
    "id": "ScXktYXsqiuQ",
    "outputId": "12ce90ab-c564-4925-e695-123312f14f71"
   },
   "outputs": [
    {
     "name": "stdout",
     "output_type": "stream",
     "text": [
      "Sum of  Explained Variance : 1.0\n",
      "Explained Variance : [0.7277045209380139, 0.23030523267680594, 0.036838319576273884, 0.00515192680890635]\n"
     ]
    },
    {
     "data": {
      "image/png": "[encoded data removed]",
      "text/plain": [
       "<Figure size 432x288 with 1 Axes>"
      ]
     },
     "metadata": {
      "needs_background": "light"
     },
     "output_type": "display_data"
    }
   ],
   "source": [
    "Explained_Variances = []\n",
    "for i in range(len(eigenvalues)):\n",
    "    Explained_Variances.append(eigenvalues[i] / np.sum(eigenvalues))\n",
    " \n",
    "print(\"Sum of  Explained Variance :\",np.sum(Explained_Variances))\n",
    "print(\"Explained Variance :\", Explained_Variances)\n",
    "\n",
    "\n",
    "import matplotlib.pyplot as plt\n",
    "PC = [1,2,3,4]\n",
    "PEV = []\n",
    "for i in Explained_Variances:\n",
    "    PEV.append(i*100)\n",
    "plt.plot(PC,PEV)\n",
    "plt.xlabel('Principal Components')\n",
    "plt.ylabel('Percentage of Explained Variances')\n",
    "plt.show()"
   ]
  },
  {
   "cell_type": "markdown",
   "metadata": {
    "id": "olJleblsmD0E"
   },
   "source": [
    "g. Choose first k eigen vectors.\n",
    "\n",
    "h. Transform the original matrix."
   ]
  },
  {
   "cell_type": "code",
   "execution_count": null,
   "metadata": {
    "colab": {
     "base_uri": "https://localhost:8080/"
    },
    "id": "9dX1iJa_r5w9",
    "outputId": "c6d24627-f7d7-4b39-9bdb-61c0f48b3e7f"
   },
   "outputs": [
    {
     "name": "stdout",
     "output_type": "stream",
     "text": [
      "Transformed X :\n",
      " [[-2.26 -0.51]\n",
      " [-2.09  0.66]\n",
      " [-2.37  0.32]\n",
      " [-2.3   0.58]\n",
      " [-2.39 -0.67]\n",
      " [-2.07 -1.52]\n",
      " [-2.45 -0.07]\n",
      " [-2.23 -0.25]\n",
      " [-2.34  1.1 ]\n",
      " [-2.19  0.45]\n",
      " [-2.16 -1.07]\n",
      " [-2.33 -0.16]\n",
      " [-2.22  0.71]\n",
      " [-2.64  0.94]\n",
      " [-2.19 -1.89]\n",
      " [-2.25 -2.72]\n",
      " [-2.2  -1.51]\n",
      " [-2.19 -0.51]\n",
      " [-1.89 -1.43]\n",
      " [-2.34 -1.16]\n",
      " [-1.91 -0.43]\n",
      " [-2.2  -0.95]\n",
      " [-2.77 -0.49]\n",
      " [-1.82 -0.11]\n",
      " [-2.23 -0.16]\n",
      " [-1.96  0.61]\n",
      " [-2.05 -0.27]\n",
      " [-2.17 -0.55]\n",
      " [-2.14 -0.34]\n",
      " [-2.27  0.31]\n",
      " [-2.14  0.48]\n",
      " [-1.83 -0.45]\n",
      " [-2.61 -1.83]\n",
      " [-2.44 -2.19]\n",
      " [-2.19  0.45]\n",
      " [-2.21  0.18]\n",
      " [-2.04 -0.68]\n",
      " [-2.19  0.45]\n",
      " [-2.44  0.88]\n",
      " [-2.17 -0.29]\n",
      " [-2.29 -0.47]\n",
      " [-1.87  2.33]\n",
      " [-2.56  0.45]\n",
      " [-1.96 -0.5 ]\n",
      " [-2.13 -1.17]\n",
      " [-2.08  0.69]\n",
      " [-2.38 -1.15]\n",
      " [-2.4   0.36]\n",
      " [-2.23 -1.03]\n",
      " [-2.21 -0.03]\n",
      " [ 1.1  -0.86]\n",
      " [ 0.73 -0.6 ]\n",
      " [ 1.24 -0.61]\n",
      " [ 0.4   1.76]\n",
      " [ 1.07  0.21]\n",
      " [ 0.38  0.59]\n",
      " [ 0.75 -0.78]\n",
      " [-0.5   1.85]\n",
      " [ 0.93 -0.03]\n",
      " [ 0.    1.03]\n",
      " [-0.12  2.66]\n",
      " [ 0.44  0.06]\n",
      " [ 0.55  1.77]\n",
      " [ 0.72  0.19]\n",
      " [-0.04  0.43]\n",
      " [ 0.88 -0.51]\n",
      " [ 0.35  0.19]\n",
      " [ 0.15  0.79]\n",
      " [ 1.22  1.63]\n",
      " [ 0.16  1.3 ]\n",
      " [ 0.74 -0.4 ]\n",
      " [ 0.47  0.42]\n",
      " [ 1.23  0.94]\n",
      " [ 0.63  0.42]\n",
      " [ 0.7   0.06]\n",
      " [ 0.87 -0.25]\n",
      " [ 1.25  0.08]\n",
      " [ 1.36 -0.33]\n",
      " [ 0.66  0.22]\n",
      " [-0.05  1.06]\n",
      " [ 0.12  1.56]\n",
      " [ 0.01  1.57]\n",
      " [ 0.24  0.78]\n",
      " [ 1.06  0.64]\n",
      " [ 0.22  0.28]\n",
      " [ 0.43 -0.86]\n",
      " [ 1.05 -0.52]\n",
      " [ 1.04  1.39]\n",
      " [ 0.07  0.21]\n",
      " [ 0.28  1.33]\n",
      " [ 0.27  1.12]\n",
      " [ 0.62 -0.03]\n",
      " [ 0.33  0.99]\n",
      " [-0.37  2.02]\n",
      " [ 0.28  0.85]\n",
      " [ 0.09  0.17]\n",
      " [ 0.22  0.38]\n",
      " [ 0.57  0.15]\n",
      " [-0.46  1.54]\n",
      " [ 0.25  0.6 ]\n",
      " [ 1.85 -0.87]\n",
      " [ 1.15  0.7 ]\n",
      " [ 2.21 -0.55]\n",
      " [ 1.44  0.05]\n",
      " [ 1.87 -0.29]\n",
      " [ 2.75 -0.79]\n",
      " [ 0.36  1.56]\n",
      " [ 2.3  -0.41]\n",
      " [ 2.    0.72]\n",
      " [ 2.27 -1.92]\n",
      " [ 1.37 -0.69]\n",
      " [ 1.6   0.43]\n",
      " [ 1.88 -0.41]\n",
      " [ 1.25  1.17]\n",
      " [ 1.46  0.44]\n",
      " [ 1.59 -0.68]\n",
      " [ 1.47 -0.25]\n",
      " [ 2.44 -2.56]\n",
      " [ 3.31  0.  ]\n",
      " [ 1.25  1.72]\n",
      " [ 2.04 -0.91]\n",
      " [ 0.97  0.57]\n",
      " [ 2.9  -0.4 ]\n",
      " [ 1.33  0.49]\n",
      " [ 1.7  -1.01]\n",
      " [ 1.96 -1.  ]\n",
      " [ 1.17  0.32]\n",
      " [ 1.02 -0.07]\n",
      " [ 1.79  0.19]\n",
      " [ 1.86 -0.56]\n",
      " [ 2.44 -0.25]\n",
      " [ 2.32 -2.63]\n",
      " [ 1.86  0.18]\n",
      " [ 1.11  0.3 ]\n",
      " [ 1.2   0.82]\n",
      " [ 2.8  -0.84]\n",
      " [ 1.58 -1.07]\n",
      " [ 1.35 -0.42]\n",
      " [ 0.92 -0.02]\n",
      " [ 1.85 -0.67]\n",
      " [ 2.02 -0.61]\n",
      " [ 1.9  -0.69]\n",
      " [ 1.15  0.7 ]\n",
      " [ 2.04 -0.86]\n",
      " [ 2.   -1.05]\n",
      " [ 1.87 -0.38]\n",
      " [ 1.56  0.91]\n",
      " [ 1.52 -0.27]\n",
      " [ 1.38 -1.02]\n",
      " [ 0.96  0.02]]\n"
     ]
    }
   ],
   "source": [
    "k = 2 #consider only the features upto where the pov adds to <95% here 2\n",
    "\n",
    "eisub = eigenvectors[:,0:k]\n",
    "eisub\n",
    "\n",
    "X_transformed = np.dot(eisub.T,X.T).T\n",
    "print(\"Transformed X :\\n\", np.around(X_transformed, 2))"
   ]
  },
  {
   "cell_type": "markdown",
   "metadata": {
    "id": "oXisuIrSs_Sf"
   },
   "source": [
    "2. Implement PCA and Logistic Regression for the following dataset by performing the required steps."
   ]
  },
  {
   "cell_type": "code",
   "execution_count": null,
   "metadata": {
    "id": "r28mabzEtEST"
   },
   "outputs": [],
   "source": [
    "import pandas as pd\n",
    "import numpy as np"
   ]
  },
  {
   "cell_type": "markdown",
   "metadata": {
    "id": "cEdyy_ZxtBqZ"
   },
   "source": [
    "a. Dataset: https://www.kaggle.com/datasets/dileep070/heart-disease-prediction-using-logistic-regression"
   ]
  },
  {
   "cell_type": "code",
   "execution_count": null,
   "metadata": {
    "colab": {
     "base_uri": "https://localhost:8080/",
     "height": 74,
     "resources": {
      "http://localhost:8080/nbextensions/google.colab/files.js": {
       "data": "Ly8gQ29weXJpZ2h0IDIwMTcgR29vZ2xlIExMQwovLwovLyBMaWNlbnNlZCB1bmRlciB0aGUgQXBhY2hlIExpY2Vuc2UsIFZlcnNpb24gMi4wICh0aGUgIkxpY2Vuc2UiKTsKLy8geW91IG1heSBub3QgdXNlIHRoaXMgZmlsZSBleGNlcHQgaW4gY29tcGxpYW5jZSB3aXRoIHRoZSBMaWNlbnNlLgovLyBZb3UgbWF5IG9idGFpbiBhIGNvcHkgb2YgdGhlIExpY2Vuc2UgYXQKLy8KLy8gICAgICBodHRwOi8vd3d3LmFwYWNoZS5vcmcvbGljZW5zZXMvTElDRU5TRS0yLjAKLy8KLy8gVW5sZXNzIHJlcXVpcmVkIGJ5IGFwcGxpY2FibGUgbGF3IG9yIGFncmVlZCB0byBpbiB3cml0aW5nLCBzb2Z0d2FyZQovLyBkaXN0cmlidXRlZCB1bmRlciB0aGUgTGljZW5zZSBpcyBkaXN0cmlidXRlZCBvbiBhbiAiQVMgSVMiIEJBU0lTLAovLyBXSVRIT1VUIFdBUlJBTlRJRVMgT1IgQ09ORElUSU9OUyBPRiBBTlkgS0lORCwgZWl0aGVyIGV4cHJlc3Mgb3IgaW1wbGllZC4KLy8gU2VlIHRoZSBMaWNlbnNlIGZvciB0aGUgc3BlY2lmaWMgbGFuZ3VhZ2UgZ292ZXJuaW5nIHBlcm1pc3Npb25zIGFuZAovLyBsaW1pdGF0aW9ucyB1bmRlciB0aGUgTGljZW5zZS4KCi8qKgogKiBAZmlsZW92ZXJ2aWV3IEhlbHBlcnMgZm9yIGdvb2dsZS5jb2xhYiBQeXRob24gbW9kdWxlLgogKi8KKGZ1bmN0aW9uKHNjb3BlKSB7CmZ1bmN0aW9uIHNwYW4odGV4dCwgc3R5bGVBdHRyaWJ1dGVzID0ge30pIHsKICBjb25zdCBlbGVtZW50ID0gZG9jdW1lbnQuY3JlYXRlRWxlbWVudCgnc3BhbicpOwogIGVsZW1lbnQudGV4dENvbnRlbnQgPSB0ZXh0OwogIGZvciAoY29uc3Qga2V5IG9mIE9iamVjdC5rZXlzKHN0eWxlQXR0cmlidXRlcykpIHsKICAgIGVsZW1lbnQuc3R5bGVba2V5XSA9IHN0eWxlQXR0cmlidXRlc1trZXldOwogIH0KICByZXR1cm4gZWxlbWVudDsKfQoKLy8gTWF4IG51bWJlciBvZiBieXRlcyB3aGljaCB3aWxsIGJlIHVwbG9hZGVkIGF0IGEgdGltZS4KY29uc3QgTUFYX1BBWUxPQURfU0laRSA9IDEwMCAqIDEwMjQ7CgpmdW5jdGlvbiBfdXBsb2FkRmlsZXMoaW5wdXRJZCwgb3V0cHV0SWQpIHsKICBjb25zdCBzdGVwcyA9IHVwbG9hZEZpbGVzU3RlcChpbnB1dElkLCBvdXRwdXRJZCk7CiAgY29uc3Qgb3V0cHV0RWxlbWVudCA9IGRvY3VtZW50LmdldEVsZW1lbnRCeUlkKG91dHB1dElkKTsKICAvLyBDYWNoZSBzdGVwcyBvbiB0aGUgb3V0cHV0RWxlbWVudCB0byBtYWtlIGl0IGF2YWlsYWJsZSBmb3IgdGhlIG5leHQgY2FsbAogIC8vIHRvIHVwbG9hZEZpbGVzQ29udGludWUgZnJvbSBQeXRob24uCiAgb3V0cHV0RWxlbWVudC5zdGVwcyA9IHN0ZXBzOwoKICByZXR1cm4gX3VwbG9hZEZpbGVzQ29udGludWUob3V0cHV0SWQpOwp9CgovLyBUaGlzIGlzIHJvdWdobHkgYW4gYXN5bmMgZ2VuZXJhdG9yIChub3Qgc3VwcG9ydGVkIGluIHRoZSBicm93c2VyIHlldCksCi8vIHdoZXJlIHRoZXJlIGFyZSBtdWx0aXBsZSBhc3luY2hyb25vdXMgc3RlcHMgYW5kIHRoZSBQeXRob24gc2lkZSBpcyBnb2luZwovLyB0byBwb2xsIGZvciBjb21wbGV0aW9uIG9mIGVhY2ggc3RlcC4KLy8gVGhpcyB1c2VzIGEgUHJvbWlzZSB0byBibG9jayB0aGUgcHl0aG9uIHNpZGUgb24gY29tcGxldGlvbiBvZiBlYWNoIHN0ZXAsCi8vIHRoZW4gcGFzc2VzIHRoZSByZXN1bHQgb2YgdGhlIHByZXZpb3VzIHN0ZXAgYXMgdGhlIGlucHV0IHRvIHRoZSBuZXh0IHN0ZXAuCmZ1bmN0aW9uIF91cGxvYWRGaWxlc0NvbnRpbnVlKG91dHB1dElkKSB7CiAgY29uc3Qgb3V0cHV0RWxlbWVudCA9IGRvY3VtZW50LmdldEVsZW1lbnRCeUlkKG91dHB1dElkKTsKICBjb25zdCBzdGVwcyA9IG91dHB1dEVsZW1lbnQuc3RlcHM7CgogIGNvbnN0IG5leHQgPSBzdGVwcy5uZXh0KG91dHB1dEVsZW1lbnQubGFzdFByb21pc2VWYWx1ZSk7CiAgcmV0dXJuIFByb21pc2UucmVzb2x2ZShuZXh0LnZhbHVlLnByb21pc2UpLnRoZW4oKHZhbHVlKSA9PiB7CiAgICAvLyBDYWNoZSB0aGUgbGFzdCBwcm9taXNlIHZhbHVlIHRvIG1ha2UgaXQgYXZhaWxhYmxlIHRvIHRoZSBuZXh0CiAgICAvLyBzdGVwIG9mIHRoZSBnZW5lcmF0b3IuCiAgICBvdXRwdXRFbGVtZW50Lmxhc3RQcm9taXNlVmFsdWUgPSB2YWx1ZTsKICAgIHJldHVybiBuZXh0LnZhbHVlLnJlc3BvbnNlOwogIH0pOwp9CgovKioKICogR2VuZXJhdG9yIGZ1bmN0aW9uIHdoaWNoIGlzIGNhbGxlZCBiZXR3ZWVuIGVhY2ggYXN5bmMgc3RlcCBvZiB0aGUgdXBsb2FkCiAqIHByb2Nlc3MuCiAqIEBwYXJhbSB7c3RyaW5nfSBpbnB1dElkIEVsZW1lbnQgSUQgb2YgdGhlIGlucHV0IGZpbGUgcGlja2VyIGVsZW1lbnQuCiAqIEBwYXJhbSB7c3RyaW5nfSBvdXRwdXRJZCBFbGVtZW50IElEIG9mIHRoZSBvdXRwdXQgZGlzcGxheS4KICogQHJldHVybiB7IUl0ZXJhYmxlPCFPYmplY3Q+fSBJdGVyYWJsZSBvZiBuZXh0IHN0ZXBzLgogKi8KZnVuY3Rpb24qIHVwbG9hZEZpbGVzU3RlcChpbnB1dElkLCBvdXRwdXRJZCkgewogIGNvbnN0IGlucHV0RWxlbWVudCA9IGRvY3VtZW50LmdldEVsZW1lbnRCeUlkKGlucHV0SWQpOwogIGlucHV0RWxlbWVudC5kaXNhYmxlZCA9IGZhbHNlOwoKICBjb25zdCBvdXRwdXRFbGVtZW50ID0gZG9jdW1lbnQuZ2V0RWxlbWVudEJ5SWQob3V0cHV0SWQpOwogIG91dHB1dEVsZW1lbnQuaW5uZXJIVE1MID0gJyc7CgogIGNvbnN0IHBpY2tlZFByb21pc2UgPSBuZXcgUHJvbWlzZSgocmVzb2x2ZSkgPT4gewogICAgaW5wdXRFbGVtZW50LmFkZEV2ZW50TGlzdGVuZXIoJ2NoYW5nZScsIChlKSA9PiB7CiAgICAgIHJlc29sdmUoZS50YXJnZXQuZmlsZXMpOwogICAgfSk7CiAgfSk7CgogIGNvbnN0IGNhbmNlbCA9IGRvY3VtZW50LmNyZWF0ZUVsZW1lbnQoJ2J1dHRvbicpOwogIGlucHV0RWxlbWVudC5wYXJlbnRFbGVtZW50LmFwcGVuZENoaWxkKGNhbmNlbCk7CiAgY2FuY2VsLnRleHRDb250ZW50ID0gJ0NhbmNlbCB1cGxvYWQnOwogIGNvbnN0IGNhbmNlbFByb21pc2UgPSBuZXcgUHJvbWlzZSgocmVzb2x2ZSkgPT4gewogICAgY2FuY2VsLm9uY2xpY2sgPSAoKSA9PiB7CiAgICAgIHJlc29sdmUobnVsbCk7CiAgICB9OwogIH0pOwoKICAvLyBXYWl0IGZvciB0aGUgdXNlciB0byBwaWNrIHRoZSBmaWxlcy4KICBjb25zdCBmaWxlcyA9IHlpZWxkIHsKICAgIHByb21pc2U6IFByb21pc2UucmFjZShbcGlja2VkUHJvbWlzZSwgY2FuY2VsUHJvbWlzZV0pLAogICAgcmVzcG9uc2U6IHsKICAgICAgYWN0aW9uOiAnc3RhcnRpbmcnLAogICAgfQogIH07CgogIGNhbmNlbC5yZW1vdmUoKTsKCiAgLy8gRGlzYWJsZSB0aGUgaW5wdXQgZWxlbWVudCBzaW5jZSBmdXJ0aGVyIHBpY2tzIGFyZSBub3QgYWxsb3dlZC4KICBpbnB1dEVsZW1lbnQuZGlzYWJsZWQgPSB0cnVlOwoKICBpZiAoIWZpbGVzKSB7CiAgICByZXR1cm4gewogICAgICByZXNwb25zZTogewogICAgICAgIGFjdGlvbjogJ2NvbXBsZXRlJywKICAgICAgfQogICAgfTsKICB9CgogIGZvciAoY29uc3QgZmlsZSBvZiBmaWxlcykgewogICAgY29uc3QgbGkgPSBkb2N1bWVudC5jcmVhdGVFbGVtZW50KCdsaScpOwogICAgbGkuYXBwZW5kKHNwYW4oZmlsZS5uYW1lLCB7Zm9udFdlaWdodDogJ2JvbGQnfSkpOwogICAgbGkuYXBwZW5kKHNwYW4oCiAgICAgICAgYCgke2ZpbGUudHlwZSB8fCAnbi9hJ30pIC0gJHtmaWxlLnNpemV9IGJ5dGVzLCBgICsKICAgICAgICBgbGFzdCBtb2RpZmllZDogJHsKICAgICAgICAgICAgZmlsZS5sYXN0TW9kaWZpZWREYXRlID8gZmlsZS5sYXN0TW9kaWZpZWREYXRlLnRvTG9jYWxlRGF0ZVN0cmluZygpIDoKICAgICAgICAgICAgICAgICAgICAgICAgICAgICAgICAgICAgJ24vYSd9IC0gYCkpOwogICAgY29uc3QgcGVyY2VudCA9IHNwYW4oJzAlIGRvbmUnKTsKICAgIGxpLmFwcGVuZENoaWxkKHBlcmNlbnQpOwoKICAgIG91dHB1dEVsZW1lbnQuYXBwZW5kQ2hpbGQobGkpOwoKICAgIGNvbnN0IGZpbGVEYXRhUHJvbWlzZSA9IG5ldyBQcm9taXNlKChyZXNvbHZlKSA9PiB7CiAgICAgIGNvbnN0IHJlYWRlciA9IG5ldyBGaWxlUmVhZGVyKCk7CiAgICAgIHJlYWRlci5vbmxvYWQgPSAoZSkgPT4gewogICAgICAgIHJlc29sdmUoZS50YXJnZXQucmVzdWx0KTsKICAgICAgfTsKICAgICAgcmVhZGVyLnJlYWRBc0FycmF5QnVmZmVyKGZpbGUpOwogICAgfSk7CiAgICAvLyBXYWl0IGZvciB0aGUgZGF0YSB0byBiZSByZWFkeS4KICAgIGxldCBmaWxlRGF0YSA9IHlpZWxkIHsKICAgICAgcHJvbWlzZTogZmlsZURhdGFQcm9taXNlLAogICAgICByZXNwb25zZTogewogICAgICAgIGFjdGlvbjogJ2NvbnRpbnVlJywKICAgICAgfQogICAgfTsKCiAgICAvLyBVc2UgYSBjaHVua2VkIHNlbmRpbmcgdG8gYXZvaWQgbWVzc2FnZSBzaXplIGxpbWl0cy4gU2VlIGIvNjIxMTU2NjAuCiAgICBsZXQgcG9zaXRpb24gPSAwOwogICAgZG8gewogICAgICBjb25zdCBsZW5ndGggPSBNYXRoLm1pbihmaWxlRGF0YS5ieXRlTGVuZ3RoIC0gcG9zaXRpb24sIE1BWF9QQVlMT0FEX1NJWkUpOwogICAgICBjb25zdCBjaHVuayA9IG5ldyBVaW50OEFycmF5KGZpbGVEYXRhLCBwb3NpdGlvbiwgbGVuZ3RoKTsKICAgICAgcG9zaXRpb24gKz0gbGVuZ3RoOwoKICAgICAgY29uc3QgYmFzZTY0ID0gYnRvYShTdHJpbmcuZnJvbUNoYXJDb2RlLmFwcGx5KG51bGwsIGNodW5rKSk7CiAgICAgIHlpZWxkIHsKICAgICAgICByZXNwb25zZTogewogICAgICAgICAgYWN0aW9uOiAnYXBwZW5kJywKICAgICAgICAgIGZpbGU6IGZpbGUubmFtZSwKICAgICAgICAgIGRhdGE6IGJhc2U2NCwKICAgICAgICB9LAogICAgICB9OwoKICAgICAgbGV0IHBlcmNlbnREb25lID0gZmlsZURhdGEuYnl0ZUxlbmd0aCA9PT0gMCA/CiAgICAgICAgICAxMDAgOgogICAgICAgICAgTWF0aC5yb3VuZCgocG9zaXRpb24gLyBmaWxlRGF0YS5ieXRlTGVuZ3RoKSAqIDEwMCk7CiAgICAgIHBlcmNlbnQudGV4dENvbnRlbnQgPSBgJHtwZXJjZW50RG9uZX0lIGRvbmVgOwoKICAgIH0gd2hpbGUgKHBvc2l0aW9uIDwgZmlsZURhdGEuYnl0ZUxlbmd0aCk7CiAgfQoKICAvLyBBbGwgZG9uZS4KICB5aWVsZCB7CiAgICByZXNwb25zZTogewogICAgICBhY3Rpb246ICdjb21wbGV0ZScsCiAgICB9CiAgfTsKfQoKc2NvcGUuZ29vZ2xlID0gc2NvcGUuZ29vZ2xlIHx8IHt9OwpzY29wZS5nb29nbGUuY29sYWIgPSBzY29wZS5nb29nbGUuY29sYWIgfHwge307CnNjb3BlLmdvb2dsZS5jb2xhYi5fZmlsZXMgPSB7CiAgX3VwbG9hZEZpbGVzLAogIF91cGxvYWRGaWxlc0NvbnRpbnVlLAp9Owp9KShzZWxmKTsK",
       "headers": [
        [
         "content-type",
         "application/javascript"
        ]
       ],
       "ok": true,
       "status": 200,
       "status_text": "OK"
      }
     }
    },
    "id": "pibbDMGTtDLZ",
    "outputId": "f5911505-ccd6-4dc9-9380-1e3478cdee69"
   },
   "outputs": [
    {
     "data": {
      "text/html": [
       "\n",
       "     <input type=\"file\" id=\"files-5b0297f6-f749-4813-85f6-0aad29b599b2\" name=\"files[]\" multiple disabled\n",
       "        style=\"border:none\" />\n",
       "     <output id=\"result-5b0297f6-f749-4813-85f6-0aad29b599b2\">\n",
       "      Upload widget is only available when the cell has been executed in the\n",
       "      current browser session. Please rerun this cell to enable.\n",
       "      </output>\n",
       "      <script src=\"/nbextensions/google.colab/files.js\"></script> "
      ],
      "text/plain": [
       "<IPython.core.display.HTML object>"
      ]
     },
     "metadata": {},
     "output_type": "display_data"
    },
    {
     "name": "stdout",
     "output_type": "stream",
     "text": [
      "Saving framingham.csv to framingham.csv\n"
     ]
    }
   ],
   "source": [
    "from google.colab import files\n",
    "uploaded=files.upload()"
   ]
  },
  {
   "cell_type": "markdown",
   "metadata": {
    "id": "mA4N5YkatQb1"
   },
   "source": [
    "b. Loading the dataset"
   ]
  },
  {
   "cell_type": "code",
   "execution_count": null,
   "metadata": {
    "colab": {
     "base_uri": "https://localhost:8080/",
     "height": 487
    },
    "id": "I13kaql_tJ8h",
    "outputId": "219584bb-2268-42e4-86e9-30ac65c71c50"
   },
   "outputs": [
    {
     "data": {
      "text/html": [
       "\n",
       "  <div id=\"df-5d24dcb4-e241-430c-aa50-288039a1cce3\">\n",
       "    <div class=\"colab-df-container\">\n",
       "      <div>\n",
       "<style scoped>\n",
       "    .dataframe tbody tr th:only-of-type {\n",
       "        vertical-align: middle;\n",
       "    }\n",
       "\n",
       "    .dataframe tbody tr th {\n",
       "        vertical-align: top;\n",
       "    }\n",
       "\n",
       "    .dataframe thead th {\n",
       "        text-align: right;\n",
       "    }\n",
       "</style>\n",
       "<table border=\"1\" class=\"dataframe\">\n",
       "  <thead>\n",
       "    <tr style=\"text-align: right;\">\n",
       "      <th></th>\n",
       "      <th>male</th>\n",
       "      <th>age</th>\n",
       "      <th>education</th>\n",
       "      <th>currentSmoker</th>\n",
       "      <th>cigsPerDay</th>\n",
       "      <th>BPMeds</th>\n",
       "      <th>prevalentStroke</th>\n",
       "      <th>prevalentHyp</th>\n",
       "      <th>diabetes</th>\n",
       "      <th>totChol</th>\n",
       "      <th>sysBP</th>\n",
       "      <th>diaBP</th>\n",
       "      <th>BMI</th>\n",
       "      <th>heartRate</th>\n",
       "      <th>glucose</th>\n",
       "      <th>TenYearCHD</th>\n",
       "    </tr>\n",
       "  </thead>\n",
       "  <tbody>\n",
       "    <tr>\n",
       "      <th>0</th>\n",
       "      <td>1</td>\n",
       "      <td>39</td>\n",
       "      <td>4.0</td>\n",
       "      <td>0</td>\n",
       "      <td>0.0</td>\n",
       "      <td>0.0</td>\n",
       "      <td>0</td>\n",
       "      <td>0</td>\n",
       "      <td>0</td>\n",
       "      <td>195.0</td>\n",
       "      <td>106.0</td>\n",
       "      <td>70.0</td>\n",
       "      <td>26.97</td>\n",
       "      <td>80.0</td>\n",
       "      <td>77.0</td>\n",
       "      <td>0</td>\n",
       "    </tr>\n",
       "    <tr>\n",
       "      <th>1</th>\n",
       "      <td>0</td>\n",
       "      <td>46</td>\n",
       "      <td>2.0</td>\n",
       "      <td>0</td>\n",
       "      <td>0.0</td>\n",
       "      <td>0.0</td>\n",
       "      <td>0</td>\n",
       "      <td>0</td>\n",
       "      <td>0</td>\n",
       "      <td>250.0</td>\n",
       "      <td>121.0</td>\n",
       "      <td>81.0</td>\n",
       "      <td>28.73</td>\n",
       "      <td>95.0</td>\n",
       "      <td>76.0</td>\n",
       "      <td>0</td>\n",
       "    </tr>\n",
       "    <tr>\n",
       "      <th>2</th>\n",
       "      <td>1</td>\n",
       "      <td>48</td>\n",
       "      <td>1.0</td>\n",
       "      <td>1</td>\n",
       "      <td>20.0</td>\n",
       "      <td>0.0</td>\n",
       "      <td>0</td>\n",
       "      <td>0</td>\n",
       "      <td>0</td>\n",
       "      <td>245.0</td>\n",
       "      <td>127.5</td>\n",
       "      <td>80.0</td>\n",
       "      <td>25.34</td>\n",
       "      <td>75.0</td>\n",
       "      <td>70.0</td>\n",
       "      <td>0</td>\n",
       "    </tr>\n",
       "    <tr>\n",
       "      <th>3</th>\n",
       "      <td>0</td>\n",
       "      <td>61</td>\n",
       "      <td>3.0</td>\n",
       "      <td>1</td>\n",
       "      <td>30.0</td>\n",
       "      <td>0.0</td>\n",
       "      <td>0</td>\n",
       "      <td>1</td>\n",
       "      <td>0</td>\n",
       "      <td>225.0</td>\n",
       "      <td>150.0</td>\n",
       "      <td>95.0</td>\n",
       "      <td>28.58</td>\n",
       "      <td>65.0</td>\n",
       "      <td>103.0</td>\n",
       "      <td>1</td>\n",
       "    </tr>\n",
       "    <tr>\n",
       "      <th>4</th>\n",
       "      <td>0</td>\n",
       "      <td>46</td>\n",
       "      <td>3.0</td>\n",
       "      <td>1</td>\n",
       "      <td>23.0</td>\n",
       "      <td>0.0</td>\n",
       "      <td>0</td>\n",
       "      <td>0</td>\n",
       "      <td>0</td>\n",
       "      <td>285.0</td>\n",
       "      <td>130.0</td>\n",
       "      <td>84.0</td>\n",
       "      <td>23.10</td>\n",
       "      <td>85.0</td>\n",
       "      <td>85.0</td>\n",
       "      <td>0</td>\n",
       "    </tr>\n",
       "    <tr>\n",
       "      <th>...</th>\n",
       "      <td>...</td>\n",
       "      <td>...</td>\n",
       "      <td>...</td>\n",
       "      <td>...</td>\n",
       "      <td>...</td>\n",
       "      <td>...</td>\n",
       "      <td>...</td>\n",
       "      <td>...</td>\n",
       "      <td>...</td>\n",
       "      <td>...</td>\n",
       "      <td>...</td>\n",
       "      <td>...</td>\n",
       "      <td>...</td>\n",
       "      <td>...</td>\n",
       "      <td>...</td>\n",
       "      <td>...</td>\n",
       "    </tr>\n",
       "    <tr>\n",
       "      <th>4231</th>\n",
       "      <td>1</td>\n",
       "      <td>58</td>\n",
       "      <td>3.0</td>\n",
       "      <td>0</td>\n",
       "      <td>0.0</td>\n",
       "      <td>0.0</td>\n",
       "      <td>0</td>\n",
       "      <td>1</td>\n",
       "      <td>0</td>\n",
       "      <td>187.0</td>\n",
       "      <td>141.0</td>\n",
       "      <td>81.0</td>\n",
       "      <td>24.96</td>\n",
       "      <td>80.0</td>\n",
       "      <td>81.0</td>\n",
       "      <td>0</td>\n",
       "    </tr>\n",
       "    <tr>\n",
       "      <th>4232</th>\n",
       "      <td>1</td>\n",
       "      <td>68</td>\n",
       "      <td>1.0</td>\n",
       "      <td>0</td>\n",
       "      <td>0.0</td>\n",
       "      <td>0.0</td>\n",
       "      <td>0</td>\n",
       "      <td>1</td>\n",
       "      <td>0</td>\n",
       "      <td>176.0</td>\n",
       "      <td>168.0</td>\n",
       "      <td>97.0</td>\n",
       "      <td>23.14</td>\n",
       "      <td>60.0</td>\n",
       "      <td>79.0</td>\n",
       "      <td>1</td>\n",
       "    </tr>\n",
       "    <tr>\n",
       "      <th>4233</th>\n",
       "      <td>1</td>\n",
       "      <td>50</td>\n",
       "      <td>1.0</td>\n",
       "      <td>1</td>\n",
       "      <td>1.0</td>\n",
       "      <td>0.0</td>\n",
       "      <td>0</td>\n",
       "      <td>1</td>\n",
       "      <td>0</td>\n",
       "      <td>313.0</td>\n",
       "      <td>179.0</td>\n",
       "      <td>92.0</td>\n",
       "      <td>25.97</td>\n",
       "      <td>66.0</td>\n",
       "      <td>86.0</td>\n",
       "      <td>1</td>\n",
       "    </tr>\n",
       "    <tr>\n",
       "      <th>4234</th>\n",
       "      <td>1</td>\n",
       "      <td>51</td>\n",
       "      <td>3.0</td>\n",
       "      <td>1</td>\n",
       "      <td>43.0</td>\n",
       "      <td>0.0</td>\n",
       "      <td>0</td>\n",
       "      <td>0</td>\n",
       "      <td>0</td>\n",
       "      <td>207.0</td>\n",
       "      <td>126.5</td>\n",
       "      <td>80.0</td>\n",
       "      <td>19.71</td>\n",
       "      <td>65.0</td>\n",
       "      <td>68.0</td>\n",
       "      <td>0</td>\n",
       "    </tr>\n",
       "    <tr>\n",
       "      <th>4237</th>\n",
       "      <td>0</td>\n",
       "      <td>52</td>\n",
       "      <td>2.0</td>\n",
       "      <td>0</td>\n",
       "      <td>0.0</td>\n",
       "      <td>0.0</td>\n",
       "      <td>0</td>\n",
       "      <td>0</td>\n",
       "      <td>0</td>\n",
       "      <td>269.0</td>\n",
       "      <td>133.5</td>\n",
       "      <td>83.0</td>\n",
       "      <td>21.47</td>\n",
       "      <td>80.0</td>\n",
       "      <td>107.0</td>\n",
       "      <td>0</td>\n",
       "    </tr>\n",
       "  </tbody>\n",
       "</table>\n",
       "<p>3656 rows × 16 columns</p>\n",
       "</div>\n",
       "      <button class=\"colab-df-convert\" onclick=\"convertToInteractive('df-5d24dcb4-e241-430c-aa50-288039a1cce3')\"\n",
       "              title=\"Convert this dataframe to an interactive table.\"\n",
       "              style=\"display:none;\">\n",
       "        \n",
       "  <svg xmlns=\"http://www.w3.org/2000/svg\" height=\"24px\"viewBox=\"0 0 24 24\"\n",
       "       width=\"24px\">\n",
       "    <path d=\"M0 0h24v24H0V0z\" fill=\"none\"/>\n",
       "    <path d=\"M18.56 5.44l.94 2.06.94-2.06 2.06-.94-2.06-.94-.94-2.06-.94 2.06-2.06.94zm-11 1L8.5 8.5l.94-2.06 2.06-.94-2.06-.94L8.5 2.5l-.94 2.06-2.06.94zm10 10l.94 2.06.94-2.06 2.06-.94-2.06-.94-.94-2.06-.94 2.06-2.06.94z\"/><path d=\"M17.41 7.96l-1.37-1.37c-.4-.4-.92-.59-1.43-.59-.52 0-1.04.2-1.43.59L10.3 9.45l-7.72 7.72c-.78.78-.78 2.05 0 2.83L4 21.41c.39.39.9.59 1.41.59.51 0 1.02-.2 1.41-.59l7.78-7.78 2.81-2.81c.8-.78.8-2.07 0-2.86zM5.41 20L4 18.59l7.72-7.72 1.47 1.35L5.41 20z\"/>\n",
       "  </svg>\n",
       "      </button>\n",
       "      \n",
       "  <style>\n",
       "    .colab-df-container {\n",
       "      display:flex;\n",
       "      flex-wrap:wrap;\n",
       "      gap: 12px;\n",
       "    }\n",
       "\n",
       "    .colab-df-convert {\n",
       "      background-color: #E8F0FE;\n",
       "      border: none;\n",
       "      border-radius: 50%;\n",
       "      cursor: pointer;\n",
       "      display: none;\n",
       "      fill: #1967D2;\n",
       "      height: 32px;\n",
       "      padding: 0 0 0 0;\n",
       "      width: 32px;\n",
       "    }\n",
       "\n",
       "    .colab-df-convert:hover {\n",
       "      background-color: #E2EBFA;\n",
       "      box-shadow: 0px 1px 2px rgba(60, 64, 67, 0.3), 0px 1px 3px 1px rgba(60, 64, 67, 0.15);\n",
       "      fill: #174EA6;\n",
       "    }\n",
       "\n",
       "    [theme=dark] .colab-df-convert {\n",
       "      background-color: #3B4455;\n",
       "      fill: #D2E3FC;\n",
       "    }\n",
       "\n",
       "    [theme=dark] .colab-df-convert:hover {\n",
       "      background-color: #434B5C;\n",
       "      box-shadow: 0px 1px 3px 1px rgba(0, 0, 0, 0.15);\n",
       "      filter: drop-shadow(0px 1px 2px rgba(0, 0, 0, 0.3));\n",
       "      fill: #FFFFFF;\n",
       "    }\n",
       "  </style>\n",
       "\n",
       "      <script>\n",
       "        const buttonEl =\n",
       "          document.querySelector('#df-5d24dcb4-e241-430c-aa50-288039a1cce3 button.colab-df-convert');\n",
       "        buttonEl.style.display =\n",
       "          google.colab.kernel.accessAllowed ? 'block' : 'none';\n",
       "\n",
       "        async function convertToInteractive(key) {\n",
       "          const element = document.querySelector('#df-5d24dcb4-e241-430c-aa50-288039a1cce3');\n",
       "          const dataTable =\n",
       "            await google.colab.kernel.invokeFunction('convertToInteractive',\n",
       "                                                     [key], {});\n",
       "          if (!dataTable) return;\n",
       "\n",
       "          const docLinkHtml = 'Like what you see? Visit the ' +\n",
       "            '<a target=\"_blank\" href=https://colab.research.google.com/notebooks/data_table.ipynb>data table notebook</a>'\n",
       "            + ' to learn more about interactive tables.';\n",
       "          element.innerHTML = '';\n",
       "          dataTable['output_type'] = 'display_data';\n",
       "          await google.colab.output.renderOutput(dataTable, element);\n",
       "          const docLink = document.createElement('div');\n",
       "          docLink.innerHTML = docLinkHtml;\n",
       "          element.appendChild(docLink);\n",
       "        }\n",
       "      </script>\n",
       "    </div>\n",
       "  </div>\n",
       "  "
      ],
      "text/plain": [
       "      male  age  education  currentSmoker  cigsPerDay  BPMeds  \\\n",
       "0        1   39        4.0              0         0.0     0.0   \n",
       "1        0   46        2.0              0         0.0     0.0   \n",
       "2        1   48        1.0              1        20.0     0.0   \n",
       "3        0   61        3.0              1        30.0     0.0   \n",
       "4        0   46        3.0              1        23.0     0.0   \n",
       "...    ...  ...        ...            ...         ...     ...   \n",
       "4231     1   58        3.0              0         0.0     0.0   \n",
       "4232     1   68        1.0              0         0.0     0.0   \n",
       "4233     1   50        1.0              1         1.0     0.0   \n",
       "4234     1   51        3.0              1        43.0     0.0   \n",
       "4237     0   52        2.0              0         0.0     0.0   \n",
       "\n",
       "      prevalentStroke  prevalentHyp  diabetes  totChol  sysBP  diaBP    BMI  \\\n",
       "0                   0             0         0    195.0  106.0   70.0  26.97   \n",
       "1                   0             0         0    250.0  121.0   81.0  28.73   \n",
       "2                   0             0         0    245.0  127.5   80.0  25.34   \n",
       "3                   0             1         0    225.0  150.0   95.0  28.58   \n",
       "4                   0             0         0    285.0  130.0   84.0  23.10   \n",
       "...               ...           ...       ...      ...    ...    ...    ...   \n",
       "4231                0             1         0    187.0  141.0   81.0  24.96   \n",
       "4232                0             1         0    176.0  168.0   97.0  23.14   \n",
       "4233                0             1         0    313.0  179.0   92.0  25.97   \n",
       "4234                0             0         0    207.0  126.5   80.0  19.71   \n",
       "4237                0             0         0    269.0  133.5   83.0  21.47   \n",
       "\n",
       "      heartRate  glucose  TenYearCHD  \n",
       "0          80.0     77.0           0  \n",
       "1          95.0     76.0           0  \n",
       "2          75.0     70.0           0  \n",
       "3          65.0    103.0           1  \n",
       "4          85.0     85.0           0  \n",
       "...         ...      ...         ...  \n",
       "4231       80.0     81.0           0  \n",
       "4232       60.0     79.0           1  \n",
       "4233       66.0     86.0           1  \n",
       "4234       65.0     68.0           0  \n",
       "4237       80.0    107.0           0  \n",
       "\n",
       "[3656 rows x 16 columns]"
      ]
     },
     "execution_count": 40,
     "metadata": {},
     "output_type": "execute_result"
    }
   ],
   "source": [
    "#importing Data\n",
    "dataset= pd.read_csv('framingham.csv')   \n",
    "dataset = dataset.dropna()      # Drop NaN values   \n",
    "dataset"
   ]
  },
  {
   "cell_type": "markdown",
   "metadata": {
    "id": "AQKrvphztVUK"
   },
   "source": [
    "c. Scale the dataset"
   ]
  },
  {
   "cell_type": "code",
   "execution_count": null,
   "metadata": {
    "colab": {
     "base_uri": "https://localhost:8080/"
    },
    "id": "BomoI0KLtQCE",
    "outputId": "dfd788ad-ba6b-4cb9-9b57-b5903fa2afa8"
   },
   "outputs": [
    {
     "name": "stdout",
     "output_type": "stream",
     "text": [
      "X  Shape :  (3656, 15)\n",
      "Y Shape :  (3656,)\n"
     ]
    }
   ],
   "source": [
    "X, Y = dataset.drop(columns = [\"TenYearCHD\"]), dataset['TenYearCHD']\n",
    "# Scaling\n",
    "scaler = StandardScaler()\n",
    "X = scaler.fit_transform(X)\n",
    "print(\"X  Shape : \",X.shape)\n",
    "print(\"Y Shape : \",Y.shape)"
   ]
  },
  {
   "cell_type": "markdown",
   "metadata": {
    "id": "UZ5riDR1twL_"
   },
   "source": [
    "d. Select the principal components"
   ]
  },
  {
   "cell_type": "code",
   "execution_count": null,
   "metadata": {
    "colab": {
     "base_uri": "https://localhost:8080/"
    },
    "id": "TiypUgy0tt0T",
    "outputId": "4b8d6444-14d7-41f7-a51e-37fdfe04a1e5"
   },
   "outputs": [
    {
     "name": "stdout",
     "output_type": "stream",
     "text": [
      "(15, 15)\n",
      "[[ 1.    -0.024  0.018  0.207  0.331 -0.052 -0.002  0.001  0.014 -0.07\n",
      "  -0.045  0.052  0.073 -0.115  0.003]\n",
      " [-0.024  1.    -0.159 -0.211 -0.189  0.135  0.051  0.307  0.109  0.268\n",
      "   0.389  0.209  0.137 -0.003  0.118]\n",
      " [ 0.018 -0.159  1.     0.025  0.014 -0.014 -0.03  -0.079 -0.04  -0.013\n",
      "  -0.125 -0.059 -0.137 -0.064 -0.032]\n",
      " [ 0.207 -0.211  0.025  1.     0.774 -0.052 -0.038 -0.108 -0.042 -0.051\n",
      "  -0.134 -0.116 -0.16   0.05  -0.053]\n",
      " [ 0.331 -0.189  0.014  0.774  1.    -0.046 -0.036 -0.07  -0.037 -0.03\n",
      "  -0.095 -0.057 -0.087  0.064 -0.054]\n",
      " [-0.052  0.135 -0.014 -0.052 -0.046  1.     0.113  0.263  0.049  0.094\n",
      "   0.271  0.2    0.106  0.013  0.054]\n",
      " [-0.002  0.051 -0.03  -0.038 -0.036  0.113  1.     0.066  0.01   0.013\n",
      "   0.061  0.056  0.036 -0.017  0.016]\n",
      " [ 0.001  0.307 -0.079 -0.108 -0.07   0.263  0.066  1.     0.081  0.167\n",
      "   0.698  0.618  0.303  0.147  0.087]\n",
      " [ 0.014  0.109 -0.04  -0.042 -0.037  0.049  0.01   0.081  1.     0.048\n",
      "   0.103  0.051  0.089  0.061  0.615]\n",
      " [-0.07   0.268 -0.013 -0.051 -0.03   0.094  0.013  0.167  0.048  1.\n",
      "   0.22   0.175  0.121  0.093  0.05 ]\n",
      " [-0.045  0.389 -0.125 -0.134 -0.095  0.271  0.061  0.698  0.103  0.22\n",
      "   1.     0.787  0.331  0.185  0.135]\n",
      " [ 0.052  0.209 -0.059 -0.116 -0.057  0.2    0.056  0.618  0.051  0.175\n",
      "   0.787  1.     0.386  0.179  0.064]\n",
      " [ 0.073  0.137 -0.137 -0.16  -0.087  0.106  0.036  0.303  0.089  0.121\n",
      "   0.331  0.386  1.     0.074  0.084]\n",
      " [-0.115 -0.003 -0.064  0.05   0.064  0.013 -0.017  0.147  0.061  0.093\n",
      "   0.185  0.179  0.074  1.     0.097]\n",
      " [ 0.003  0.118 -0.032 -0.053 -0.054  0.054  0.016  0.087  0.615  0.05\n",
      "   0.135  0.064  0.084  0.097  1.   ]]\n"
     ]
    }
   ],
   "source": [
    "#Calculating the covariance matrix for the features in the dataset.\n",
    "n=X.shape[0]   \n",
    "Covariance=np.dot(X.T,X)/(n)\n",
    "print(Covariance.shape)\n",
    "print(np.around(Covariance,3))"
   ]
  },
  {
   "cell_type": "code",
   "execution_count": null,
   "metadata": {
    "colab": {
     "base_uri": "https://localhost:8080/"
    },
    "id": "PoHt9lWOuZy-",
    "outputId": "d6e4f192-89a3-4f9b-a6cf-c68b72caef01"
   },
   "outputs": [
    {
     "name": "stdout",
     "output_type": "stream",
     "text": [
      "Eigen Values :  [3.229 1.884 1.568 0.172 0.212 0.376 0.391 0.584 0.692 0.791 0.872 1.12\n",
      " 1.007 1.058 1.045]\n",
      "Eigen Vector :\n",
      " [[ 0.055 -0.364  0.043 -0.077 -0.125 -0.024 -0.022  0.273  0.595 -0.007\n",
      "   0.182 -0.528  0.171  0.263 -0.027]\n",
      " [-0.295  0.096  0.026  0.151  0.001  0.092  0.06  -0.593  0.25  -0.334\n",
      "  -0.077 -0.122  0.244 -0.01   0.512]\n",
      " [ 0.107  0.017 -0.031 -0.036  0.003  0.014 -0.003 -0.309  0.056 -0.05\n",
      "   0.292  0.004  0.546 -0.417 -0.573]\n",
      " [ 0.2   -0.588  0.051  0.024 -0.681 -0.005  0.024 -0.178 -0.241 -0.033\n",
      "  -0.096  0.11  -0.017 -0.137  0.122]\n",
      " [ 0.169 -0.633  0.043  0.008  0.719  0.02   0.014 -0.134 -0.118  0.01\n",
      "  -0.03   0.035  0.007 -0.065  0.113]\n",
      " [-0.209 -0.043 -0.053  0.037 -0.002  0.051  0.046  0.015  0.301  0.493\n",
      "  -0.539 -0.147 -0.089 -0.54  -0.027]\n",
      " [-0.068  0.017 -0.027 -0.009  0.002  0.006 -0.004 -0.008 -0.06  -0.16\n",
      "   0.531 -0.342 -0.541 -0.507  0.124]\n",
      " [-0.43  -0.16  -0.121  0.147  0.01  -0.583 -0.571  0.065 -0.082 -0.212\n",
      "  -0.106 -0.012  0.022 -0.029 -0.135]\n",
      " [-0.135  0.005  0.685 -0.011 -0.006  0.487 -0.506  0.044 -0.094  0.005\n",
      "  -0.024 -0.053  0.016 -0.021 -0.062]\n",
      " [-0.195 -0.019 -0.009 -0.006 -0.017 -0.048 -0.031  0.376 -0.104  0.338\n",
      "   0.373  0.225  0.46  -0.204  0.499]\n",
      " [-0.481 -0.151 -0.104 -0.763 -0.006  0.168  0.201  0.076 -0.114 -0.22\n",
      "  -0.083  0.04   0.025 -0.001 -0.088]\n",
      " [-0.436 -0.195 -0.157  0.598 -0.014  0.376  0.316  0.214 -0.13  -0.118\n",
      "   0.055  0.005  0.012  0.083 -0.247]\n",
      " [-0.286 -0.063 -0.03  -0.054 -0.037 -0.058 -0.022 -0.467 -0.176  0.627\n",
      "   0.275 -0.171 -0.113  0.366 -0.107]\n",
      " [-0.128 -0.138  0.073 -0.001 -0.026  0.017 -0.049 -0.099  0.57   0.022\n",
      "   0.238  0.686 -0.294  0.014 -0.089]\n",
      " [-0.148  0.011  0.68   0.054  0.017 -0.484  0.516  0.037 -0.036 -0.029\n",
      "  -0.01  -0.017  0.004 -0.036 -0.078]]\n",
      "\n",
      "Sorted Eigen Values :  [3.229 1.884 1.568 1.12  1.058 1.045 1.007 0.872 0.791 0.692 0.584 0.391\n",
      " 0.376 0.212 0.172]\n",
      "\n",
      "\n",
      "Sorted Eigen Vector :\n",
      " [[ 0.055 -0.364  0.043 -0.528  0.263 -0.027  0.171  0.182 -0.007  0.595\n",
      "   0.273 -0.022 -0.024 -0.125 -0.077]\n",
      " [-0.295  0.096  0.026 -0.122 -0.01   0.512  0.244 -0.077 -0.334  0.25\n",
      "  -0.593  0.06   0.092  0.001  0.151]\n",
      " [ 0.107  0.017 -0.031  0.004 -0.417 -0.573  0.546  0.292 -0.05   0.056\n",
      "  -0.309 -0.003  0.014  0.003 -0.036]\n",
      " [ 0.2   -0.588  0.051  0.11  -0.137  0.122 -0.017 -0.096 -0.033 -0.241\n",
      "  -0.178  0.024 -0.005 -0.681  0.024]\n",
      " [ 0.169 -0.633  0.043  0.035 -0.065  0.113  0.007 -0.03   0.01  -0.118\n",
      "  -0.134  0.014  0.02   0.719  0.008]\n",
      " [-0.209 -0.043 -0.053 -0.147 -0.54  -0.027 -0.089 -0.539  0.493  0.301\n",
      "   0.015  0.046  0.051 -0.002  0.037]\n",
      " [-0.068  0.017 -0.027 -0.342 -0.507  0.124 -0.541  0.531 -0.16  -0.06\n",
      "  -0.008 -0.004  0.006  0.002 -0.009]\n",
      " [-0.43  -0.16  -0.121 -0.012 -0.029 -0.135  0.022 -0.106 -0.212 -0.082\n",
      "   0.065 -0.571 -0.583  0.01   0.147]\n",
      " [-0.135  0.005  0.685 -0.053 -0.021 -0.062  0.016 -0.024  0.005 -0.094\n",
      "   0.044 -0.506  0.487 -0.006 -0.011]\n",
      " [-0.195 -0.019 -0.009  0.225 -0.204  0.499  0.46   0.373  0.338 -0.104\n",
      "   0.376 -0.031 -0.048 -0.017 -0.006]\n",
      " [-0.481 -0.151 -0.104  0.04  -0.001 -0.088  0.025 -0.083 -0.22  -0.114\n",
      "   0.076  0.201  0.168 -0.006 -0.763]\n",
      " [-0.436 -0.195 -0.157  0.005  0.083 -0.247  0.012  0.055 -0.118 -0.13\n",
      "   0.214  0.316  0.376 -0.014  0.598]\n",
      " [-0.286 -0.063 -0.03  -0.171  0.366 -0.107 -0.113  0.275  0.627 -0.176\n",
      "  -0.467 -0.022 -0.058 -0.037 -0.054]\n",
      " [-0.128 -0.138  0.073  0.686  0.014 -0.089 -0.294  0.238  0.022  0.57\n",
      "  -0.099 -0.049  0.017 -0.026 -0.001]\n",
      " [-0.148  0.011  0.68  -0.017 -0.036 -0.078  0.004 -0.01  -0.029 -0.036\n",
      "   0.037  0.516 -0.484  0.017  0.054]]\n"
     ]
    }
   ],
   "source": [
    "# Calculating the eigenvalues and eigenvectors for the covariance matrix\n",
    "def get_eigenvectors(C):\n",
    "    eigenvalues, eigenvectors = np.linalg.eig(C)\n",
    "    print(\"Eigen Values : \", np.around(eigenvalues, 3))\n",
    "    print(\"Eigen Vector :\\n\", np.around(eigenvectors,3))\n",
    "    \n",
    "    # Sort eigenvalues descending and select columns based on n_components\n",
    "    n_cols = np.flip(np.argsort(eigenvalues))\n",
    "    selected_vectors = eigenvectors[:, n_cols]\n",
    "    return np.flip(np.sort(eigenvalues)),selected_vectors\n",
    "\n",
    "eigenvalues,eigenvectors = get_eigenvectors(Covariance)\n",
    "\n",
    "print(\"\\nSorted Eigen Values : \", np.around(eigenvalues,3))\n",
    "print(\"\\n\\nSorted Eigen Vector :\\n\", np.around(eigenvectors,3))"
   ]
  },
  {
   "cell_type": "markdown",
   "metadata": {
    "id": "MsSesxANtzy2"
   },
   "source": [
    "e. Build the Logistic regression model with the transformed dataset."
   ]
  },
  {
   "cell_type": "code",
   "execution_count": null,
   "metadata": {
    "colab": {
     "base_uri": "https://localhost:8080/",
     "height": 355
    },
    "id": "xena3nCSt0eE",
    "outputId": "00358339-e645-4683-ad73-a18f5500c58c"
   },
   "outputs": [
    {
     "name": "stdout",
     "output_type": "stream",
     "text": [
      "Sum of  Explained Variance : 1.0\n",
      "Explained Variance : [0.215 0.126 0.105 0.075 0.071 0.07  0.067 0.058 0.053 0.046 0.039 0.026\n",
      " 0.025 0.014 0.011]\n"
     ]
    },
    {
     "data": {
      "image/png": "[encoded data removed]",
      "text/plain": [
       "<Figure size 432x288 with 1 Axes>"
      ]
     },
     "metadata": {
      "needs_background": "light"
     },
     "output_type": "display_data"
    }
   ],
   "source": [
    "#Plot the principal components and percentage of explained variances.\n",
    "explained_variances = []\n",
    "for i in range(len(eigenvalues)):\n",
    "    explained_variances.append(eigenvalues[i] / np.sum(eigenvalues))\n",
    " \n",
    "print(\"Sum of  Explained Variance :\",np.sum(explained_variances))\n",
    "print(\"Explained Variance :\", np.around(explained_variances, 3))\n",
    "\n",
    "\n",
    "#Plot the principal components and percentage of explained variances.\n",
    "import matplotlib.pyplot as plt\n",
    "x = [i for i in range(1,16)]\n",
    "q = []\n",
    "for i in explained_variances:\n",
    "    q.append(i*100)\n",
    "plt.plot(x,q)\n",
    "plt.xlabel('Principal Components')\n",
    "plt.ylabel('Percentage of Explained Variances')\n",
    "plt.show()\n",
    "\n"
   ]
  },
  {
   "cell_type": "code",
   "execution_count": null,
   "metadata": {
    "colab": {
     "base_uri": "https://localhost:8080/"
    },
    "id": "jWHY5WsivT97",
    "outputId": "edc32759-b0f3-4e23-efb8-069ed191dae8"
   },
   "outputs": [
    {
     "name": "stdout",
     "output_type": "stream",
     "text": [
      "k :  12\n",
      "[[ 0.05467462 -0.36389546  0.04310623 -0.52764457  0.2633536  -0.02674147\n",
      "   0.1710008   0.18215532 -0.00682477  0.59547196  0.27319947 -0.02152826]\n",
      " [-0.2948085   0.09611887  0.02580589 -0.12167369 -0.00957423  0.51175022\n",
      "   0.24406496 -0.07690297 -0.33419181  0.25049638 -0.59305266  0.06048594]\n",
      " [ 0.10745757  0.01691292 -0.03083472  0.00370124 -0.41679434 -0.57256411\n",
      "   0.54604146  0.29162626 -0.04982949  0.05607413 -0.30871516 -0.00327381]\n",
      " [ 0.19954607 -0.58809556  0.05063284  0.11046361 -0.13725217  0.12246109\n",
      "  -0.01739216 -0.09587546 -0.0331284  -0.2408757  -0.17797681  0.02360533]\n",
      " [ 0.16949064 -0.63266357  0.04293371  0.03510651 -0.06546762  0.11340509\n",
      "   0.00674547 -0.03019626  0.00958544 -0.11791034 -0.13422276  0.01434833]\n",
      " [-0.20878548 -0.04274692 -0.05277178 -0.14740065 -0.5397049  -0.02742394\n",
      "  -0.08881837 -0.53877469  0.49282497  0.30104167  0.01465222  0.04632822]\n",
      " [-0.0683295   0.01711142 -0.02703162 -0.34191905 -0.50734591  0.12377503\n",
      "  -0.54106591  0.5313677  -0.16041293 -0.0604535  -0.00764496 -0.00376257]\n",
      " [-0.42983319 -0.16016912 -0.12075133 -0.01185563 -0.02934169 -0.13548953\n",
      "   0.0218144  -0.10551039 -0.21179998 -0.08207739  0.06472279 -0.57134014]\n",
      " [-0.1349491   0.00518461  0.68507362 -0.05322854 -0.02100371 -0.06155345\n",
      "   0.0162699  -0.0240159   0.0046704  -0.09393563  0.04416125 -0.50629998]\n",
      " [-0.19482989 -0.01945319 -0.00928059  0.2248992  -0.20370357  0.49901648\n",
      "   0.45986309  0.37332822  0.33809926 -0.1035433   0.37554585 -0.03052304]\n",
      " [-0.48085117 -0.15084757 -0.10411601  0.04039611 -0.00134662 -0.08781674\n",
      "   0.02517891 -0.08267041 -0.22024669 -0.11351192  0.07575261  0.20111351]\n",
      " [-0.43551138 -0.19486996 -0.15705885  0.00506375  0.08277814 -0.24743193\n",
      "   0.01229394  0.05509571 -0.11803206 -0.13019644  0.2140456   0.31617457]\n",
      " [-0.28586198 -0.06280014 -0.02966469 -0.17113738  0.36585677 -0.10742093\n",
      "  -0.11340778  0.27479764  0.62691929 -0.17578375 -0.46742639 -0.02157555]\n",
      " [-0.12800012 -0.13767643  0.07318006  0.68551491  0.01424156 -0.0888955\n",
      "  -0.29353338  0.2378201   0.02194129  0.57007829 -0.09892185 -0.04859042]\n",
      " [-0.14774936  0.0113193   0.68034311 -0.01652586 -0.03640071 -0.07808647\n",
      "   0.00421899 -0.01002707 -0.02909666 -0.03617561  0.03714895  0.51575508]]\n",
      "Transformed X :\n",
      " [[ 1.8   1.01  0.03 ...  1.35 -0.21 -0.36]\n",
      " [-0.01  1.29 -0.15 ...  0.56 -0.25  0.04]\n",
      " [ 1.01 -1.43 -0.14 ...  0.27  0.39  0.09]\n",
      " ...\n",
      " [-2.16 -1.22 -0.48 ... -0.69  1.6  -0.04]\n",
      " [ 2.15 -2.35 -0.17 ...  0.11 -0.28  0.18]\n",
      " [-0.17  1.53  0.62 ...  0.16  0.58  1.  ]]\n"
     ]
    }
   ],
   "source": [
    "#consider only the features upto where the pov adds to <95%\n",
    "k = 0\n",
    "sum = 0\n",
    "while sum < 95:\n",
    "    sum = sum + q[k]\n",
    "    k = k+1\n",
    "k = k-1\n",
    "print(\"k : \",k)\n",
    "eisub = eigenvectors[:,0:k]\n",
    "print(eisub)\n",
    "\n",
    "X_transformed = np.dot(eisub.T,X.T).T\n",
    "print(\"Transformed X :\\n\", np.around(X_transformed, 2))"
   ]
  }
 ],
 "metadata": {
  "colab": {
   "collapsed_sections": [],
   "name": "197139_9.ipynb",
   "provenance": []
  },
  "kernelspec": {
   "display_name": "Python 3 (ipykernel)",
   "language": "python",
   "name": "python3"
  },
  "language_info": {
   "codemirror_mode": {
    "name": "ipython",
    "version": 3
   },
   "file_extension": ".py",
   "mimetype": "text/x-python",
   "name": "python",
   "nbconvert_exporter": "python",
   "pygments_lexer": "ipython3",
   "version": "3.9.7"
  }
 },
 "nbformat": 4,
 "nbformat_minor": 1
}
